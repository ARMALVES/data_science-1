{
 "cells": [
  {
   "cell_type": "markdown",
   "metadata": {},
   "source": [
    "# Profitable App Profile Analysis for the App Store and Google Play\n",
    "\n",
    "\n",
    "In this project we will analyse what makes an mobile app popular and how this could be in used in order to built more profitable apps. Our main goal is to come up with an app sugestion that cna be profitable fot both App Store and Google Play markets. The app should be free and make its profit out of advertising and because of that the we need to analyse the data to see what makes an app popular.\n",
    "\n",
    "As of September 2018, there were approximately 2 million iOS apps available on the App Store, and 2.1 million Android apps on Google Play.\n",
    "\n",
    "Collecting data for over four million apps requires a significant amount of time and money, so we'll try to analyze a sample of data instead. To avoid spending resources with collecting new data ourselves, we should first try to see whether we can find any relevant existing data at no cost. Luckily, these are two data sets that seem suitable for our purpose:\n",
    "\n",
    "A data set containing data about approximately ten thousand Android apps from Google Play. You can download the data set directly from [this link](https://www.kaggle.com/lava18/google-play-store-apps).\n",
    "\n",
    "A data set containing data about approximately seven thousand iOS apps from the App Store. You can download the data set directly from [this link](https://www.kaggle.com/ramamet4/app-store-apple-data-set-10k-apps).\n",
    "\n",
    "![](https://i413.photobucket.com/albums/pp211/ottobis/image_zpspkho5vtb.png)\n",
    "\n",
    "Image:<a href=\"https://www.freepik.com/free-photos-vectors/technology\">Technology vector created by stories - www.freepik.com</a>"
   ]
  },
  {
   "cell_type": "markdown",
   "metadata": {},
   "source": [
    "## Exploring the Data\n",
    "\n",
    "We wil begin by importing the libraries we'll use and reading the datasets into two dataframes."
   ]
  },
  {
   "cell_type": "code",
   "execution_count": 1,
   "metadata": {
    "scrolled": true
   },
   "outputs": [
    {
     "data": {
      "text/html": [
       "<div>\n",
       "<style scoped>\n",
       "    .dataframe tbody tr th:only-of-type {\n",
       "        vertical-align: middle;\n",
       "    }\n",
       "\n",
       "    .dataframe tbody tr th {\n",
       "        vertical-align: top;\n",
       "    }\n",
       "\n",
       "    .dataframe thead th {\n",
       "        text-align: right;\n",
       "    }\n",
       "</style>\n",
       "<table border=\"1\" class=\"dataframe\">\n",
       "  <thead>\n",
       "    <tr style=\"text-align: right;\">\n",
       "      <th></th>\n",
       "      <th>Unnamed: 0</th>\n",
       "      <th>id</th>\n",
       "      <th>track_name</th>\n",
       "      <th>size_bytes</th>\n",
       "      <th>currency</th>\n",
       "      <th>price</th>\n",
       "      <th>rating_count_tot</th>\n",
       "      <th>rating_count_ver</th>\n",
       "      <th>user_rating</th>\n",
       "      <th>user_rating_ver</th>\n",
       "      <th>ver</th>\n",
       "      <th>cont_rating</th>\n",
       "      <th>prime_genre</th>\n",
       "      <th>sup_devices.num</th>\n",
       "      <th>ipadSc_urls.num</th>\n",
       "      <th>lang.num</th>\n",
       "      <th>vpp_lic</th>\n",
       "    </tr>\n",
       "  </thead>\n",
       "  <tbody>\n",
       "    <tr>\n",
       "      <td>0</td>\n",
       "      <td>1</td>\n",
       "      <td>281656475</td>\n",
       "      <td>PAC-MAN Premium</td>\n",
       "      <td>100788224</td>\n",
       "      <td>USD</td>\n",
       "      <td>3.99</td>\n",
       "      <td>21292</td>\n",
       "      <td>26</td>\n",
       "      <td>4.0</td>\n",
       "      <td>4.5</td>\n",
       "      <td>6.3.5</td>\n",
       "      <td>4+</td>\n",
       "      <td>Games</td>\n",
       "      <td>38</td>\n",
       "      <td>5</td>\n",
       "      <td>10</td>\n",
       "      <td>1</td>\n",
       "    </tr>\n",
       "    <tr>\n",
       "      <td>1</td>\n",
       "      <td>2</td>\n",
       "      <td>281796108</td>\n",
       "      <td>Evernote - stay organized</td>\n",
       "      <td>158578688</td>\n",
       "      <td>USD</td>\n",
       "      <td>0.00</td>\n",
       "      <td>161065</td>\n",
       "      <td>26</td>\n",
       "      <td>4.0</td>\n",
       "      <td>3.5</td>\n",
       "      <td>8.2.2</td>\n",
       "      <td>4+</td>\n",
       "      <td>Productivity</td>\n",
       "      <td>37</td>\n",
       "      <td>5</td>\n",
       "      <td>23</td>\n",
       "      <td>1</td>\n",
       "    </tr>\n",
       "    <tr>\n",
       "      <td>2</td>\n",
       "      <td>3</td>\n",
       "      <td>281940292</td>\n",
       "      <td>WeatherBug - Local Weather, Radar, Maps, Alerts</td>\n",
       "      <td>100524032</td>\n",
       "      <td>USD</td>\n",
       "      <td>0.00</td>\n",
       "      <td>188583</td>\n",
       "      <td>2822</td>\n",
       "      <td>3.5</td>\n",
       "      <td>4.5</td>\n",
       "      <td>5.0.0</td>\n",
       "      <td>4+</td>\n",
       "      <td>Weather</td>\n",
       "      <td>37</td>\n",
       "      <td>5</td>\n",
       "      <td>3</td>\n",
       "      <td>1</td>\n",
       "    </tr>\n",
       "    <tr>\n",
       "      <td>3</td>\n",
       "      <td>4</td>\n",
       "      <td>282614216</td>\n",
       "      <td>eBay: Best App to Buy, Sell, Save! Online Shop...</td>\n",
       "      <td>128512000</td>\n",
       "      <td>USD</td>\n",
       "      <td>0.00</td>\n",
       "      <td>262241</td>\n",
       "      <td>649</td>\n",
       "      <td>4.0</td>\n",
       "      <td>4.5</td>\n",
       "      <td>5.10.0</td>\n",
       "      <td>12+</td>\n",
       "      <td>Shopping</td>\n",
       "      <td>37</td>\n",
       "      <td>5</td>\n",
       "      <td>9</td>\n",
       "      <td>1</td>\n",
       "    </tr>\n",
       "    <tr>\n",
       "      <td>4</td>\n",
       "      <td>5</td>\n",
       "      <td>282935706</td>\n",
       "      <td>Bible</td>\n",
       "      <td>92774400</td>\n",
       "      <td>USD</td>\n",
       "      <td>0.00</td>\n",
       "      <td>985920</td>\n",
       "      <td>5320</td>\n",
       "      <td>4.5</td>\n",
       "      <td>5.0</td>\n",
       "      <td>7.5.1</td>\n",
       "      <td>4+</td>\n",
       "      <td>Reference</td>\n",
       "      <td>37</td>\n",
       "      <td>5</td>\n",
       "      <td>45</td>\n",
       "      <td>1</td>\n",
       "    </tr>\n",
       "  </tbody>\n",
       "</table>\n",
       "</div>"
      ],
      "text/plain": [
       "   Unnamed: 0         id                                         track_name  \\\n",
       "0           1  281656475                                    PAC-MAN Premium   \n",
       "1           2  281796108                          Evernote - stay organized   \n",
       "2           3  281940292    WeatherBug - Local Weather, Radar, Maps, Alerts   \n",
       "3           4  282614216  eBay: Best App to Buy, Sell, Save! Online Shop...   \n",
       "4           5  282935706                                              Bible   \n",
       "\n",
       "   size_bytes currency  price  rating_count_tot  rating_count_ver  \\\n",
       "0   100788224      USD   3.99             21292                26   \n",
       "1   158578688      USD   0.00            161065                26   \n",
       "2   100524032      USD   0.00            188583              2822   \n",
       "3   128512000      USD   0.00            262241               649   \n",
       "4    92774400      USD   0.00            985920              5320   \n",
       "\n",
       "   user_rating  user_rating_ver     ver cont_rating   prime_genre  \\\n",
       "0          4.0              4.5   6.3.5          4+         Games   \n",
       "1          4.0              3.5   8.2.2          4+  Productivity   \n",
       "2          3.5              4.5   5.0.0          4+       Weather   \n",
       "3          4.0              4.5  5.10.0         12+      Shopping   \n",
       "4          4.5              5.0   7.5.1          4+     Reference   \n",
       "\n",
       "   sup_devices.num  ipadSc_urls.num  lang.num  vpp_lic  \n",
       "0               38                5        10        1  \n",
       "1               37                5        23        1  \n",
       "2               37                5         3        1  \n",
       "3               37                5         9        1  \n",
       "4               37                5        45        1  "
      ]
     },
     "execution_count": 1,
     "metadata": {},
     "output_type": "execute_result"
    }
   ],
   "source": [
    "import pandas as pd\n",
    "import numpy as np\n",
    "import matplotlib.pyplot as plt\n",
    "%matplotlib inline\n",
    "\n",
    "ios = pd.read_csv('AppleStore.csv', encoding='utf8')\n",
    "android = pd.read_csv('googleplaystore.csv', encoding='utf8')\n",
    "\n",
    "ios.head()"
   ]
  },
  {
   "cell_type": "code",
   "execution_count": 2,
   "metadata": {
    "scrolled": true
   },
   "outputs": [
    {
     "data": {
      "text/html": [
       "<div>\n",
       "<style scoped>\n",
       "    .dataframe tbody tr th:only-of-type {\n",
       "        vertical-align: middle;\n",
       "    }\n",
       "\n",
       "    .dataframe tbody tr th {\n",
       "        vertical-align: top;\n",
       "    }\n",
       "\n",
       "    .dataframe thead th {\n",
       "        text-align: right;\n",
       "    }\n",
       "</style>\n",
       "<table border=\"1\" class=\"dataframe\">\n",
       "  <thead>\n",
       "    <tr style=\"text-align: right;\">\n",
       "      <th></th>\n",
       "      <th>Unnamed: 0</th>\n",
       "      <th>id</th>\n",
       "      <th>size_bytes</th>\n",
       "      <th>price</th>\n",
       "      <th>rating_count_tot</th>\n",
       "      <th>rating_count_ver</th>\n",
       "      <th>user_rating</th>\n",
       "      <th>user_rating_ver</th>\n",
       "      <th>sup_devices.num</th>\n",
       "      <th>ipadSc_urls.num</th>\n",
       "      <th>lang.num</th>\n",
       "      <th>vpp_lic</th>\n",
       "    </tr>\n",
       "  </thead>\n",
       "  <tbody>\n",
       "    <tr>\n",
       "      <td>count</td>\n",
       "      <td>7197.000000</td>\n",
       "      <td>7.197000e+03</td>\n",
       "      <td>7.197000e+03</td>\n",
       "      <td>7197.000000</td>\n",
       "      <td>7.197000e+03</td>\n",
       "      <td>7197.000000</td>\n",
       "      <td>7197.000000</td>\n",
       "      <td>7197.000000</td>\n",
       "      <td>7197.000000</td>\n",
       "      <td>7197.000000</td>\n",
       "      <td>7197.000000</td>\n",
       "      <td>7197.000000</td>\n",
       "    </tr>\n",
       "    <tr>\n",
       "      <td>mean</td>\n",
       "      <td>4759.069612</td>\n",
       "      <td>8.631310e+08</td>\n",
       "      <td>1.991345e+08</td>\n",
       "      <td>1.726218</td>\n",
       "      <td>1.289291e+04</td>\n",
       "      <td>460.373906</td>\n",
       "      <td>3.526956</td>\n",
       "      <td>3.253578</td>\n",
       "      <td>37.361817</td>\n",
       "      <td>3.707100</td>\n",
       "      <td>5.434903</td>\n",
       "      <td>0.993053</td>\n",
       "    </tr>\n",
       "    <tr>\n",
       "      <td>std</td>\n",
       "      <td>3093.625213</td>\n",
       "      <td>2.712368e+08</td>\n",
       "      <td>3.592069e+08</td>\n",
       "      <td>5.833006</td>\n",
       "      <td>7.573941e+04</td>\n",
       "      <td>3920.455183</td>\n",
       "      <td>1.517948</td>\n",
       "      <td>1.809363</td>\n",
       "      <td>3.737715</td>\n",
       "      <td>1.986005</td>\n",
       "      <td>7.919593</td>\n",
       "      <td>0.083066</td>\n",
       "    </tr>\n",
       "    <tr>\n",
       "      <td>min</td>\n",
       "      <td>1.000000</td>\n",
       "      <td>2.816565e+08</td>\n",
       "      <td>5.898240e+05</td>\n",
       "      <td>0.000000</td>\n",
       "      <td>0.000000e+00</td>\n",
       "      <td>0.000000</td>\n",
       "      <td>0.000000</td>\n",
       "      <td>0.000000</td>\n",
       "      <td>9.000000</td>\n",
       "      <td>0.000000</td>\n",
       "      <td>0.000000</td>\n",
       "      <td>0.000000</td>\n",
       "    </tr>\n",
       "    <tr>\n",
       "      <td>25%</td>\n",
       "      <td>2090.000000</td>\n",
       "      <td>6.000937e+08</td>\n",
       "      <td>4.692275e+07</td>\n",
       "      <td>0.000000</td>\n",
       "      <td>2.800000e+01</td>\n",
       "      <td>1.000000</td>\n",
       "      <td>3.500000</td>\n",
       "      <td>2.500000</td>\n",
       "      <td>37.000000</td>\n",
       "      <td>3.000000</td>\n",
       "      <td>1.000000</td>\n",
       "      <td>1.000000</td>\n",
       "    </tr>\n",
       "    <tr>\n",
       "      <td>50%</td>\n",
       "      <td>4380.000000</td>\n",
       "      <td>9.781482e+08</td>\n",
       "      <td>9.715302e+07</td>\n",
       "      <td>0.000000</td>\n",
       "      <td>3.000000e+02</td>\n",
       "      <td>23.000000</td>\n",
       "      <td>4.000000</td>\n",
       "      <td>4.000000</td>\n",
       "      <td>37.000000</td>\n",
       "      <td>5.000000</td>\n",
       "      <td>1.000000</td>\n",
       "      <td>1.000000</td>\n",
       "    </tr>\n",
       "    <tr>\n",
       "      <td>75%</td>\n",
       "      <td>7223.000000</td>\n",
       "      <td>1.082310e+09</td>\n",
       "      <td>1.819249e+08</td>\n",
       "      <td>1.990000</td>\n",
       "      <td>2.793000e+03</td>\n",
       "      <td>140.000000</td>\n",
       "      <td>4.500000</td>\n",
       "      <td>4.500000</td>\n",
       "      <td>38.000000</td>\n",
       "      <td>5.000000</td>\n",
       "      <td>8.000000</td>\n",
       "      <td>1.000000</td>\n",
       "    </tr>\n",
       "    <tr>\n",
       "      <td>max</td>\n",
       "      <td>11097.000000</td>\n",
       "      <td>1.188376e+09</td>\n",
       "      <td>4.025970e+09</td>\n",
       "      <td>299.990000</td>\n",
       "      <td>2.974676e+06</td>\n",
       "      <td>177050.000000</td>\n",
       "      <td>5.000000</td>\n",
       "      <td>5.000000</td>\n",
       "      <td>47.000000</td>\n",
       "      <td>5.000000</td>\n",
       "      <td>75.000000</td>\n",
       "      <td>1.000000</td>\n",
       "    </tr>\n",
       "  </tbody>\n",
       "</table>\n",
       "</div>"
      ],
      "text/plain": [
       "         Unnamed: 0            id    size_bytes        price  \\\n",
       "count   7197.000000  7.197000e+03  7.197000e+03  7197.000000   \n",
       "mean    4759.069612  8.631310e+08  1.991345e+08     1.726218   \n",
       "std     3093.625213  2.712368e+08  3.592069e+08     5.833006   \n",
       "min        1.000000  2.816565e+08  5.898240e+05     0.000000   \n",
       "25%     2090.000000  6.000937e+08  4.692275e+07     0.000000   \n",
       "50%     4380.000000  9.781482e+08  9.715302e+07     0.000000   \n",
       "75%     7223.000000  1.082310e+09  1.819249e+08     1.990000   \n",
       "max    11097.000000  1.188376e+09  4.025970e+09   299.990000   \n",
       "\n",
       "       rating_count_tot  rating_count_ver  user_rating  user_rating_ver  \\\n",
       "count      7.197000e+03       7197.000000  7197.000000      7197.000000   \n",
       "mean       1.289291e+04        460.373906     3.526956         3.253578   \n",
       "std        7.573941e+04       3920.455183     1.517948         1.809363   \n",
       "min        0.000000e+00          0.000000     0.000000         0.000000   \n",
       "25%        2.800000e+01          1.000000     3.500000         2.500000   \n",
       "50%        3.000000e+02         23.000000     4.000000         4.000000   \n",
       "75%        2.793000e+03        140.000000     4.500000         4.500000   \n",
       "max        2.974676e+06     177050.000000     5.000000         5.000000   \n",
       "\n",
       "       sup_devices.num  ipadSc_urls.num     lang.num      vpp_lic  \n",
       "count      7197.000000      7197.000000  7197.000000  7197.000000  \n",
       "mean         37.361817         3.707100     5.434903     0.993053  \n",
       "std           3.737715         1.986005     7.919593     0.083066  \n",
       "min           9.000000         0.000000     0.000000     0.000000  \n",
       "25%          37.000000         3.000000     1.000000     1.000000  \n",
       "50%          37.000000         5.000000     1.000000     1.000000  \n",
       "75%          38.000000         5.000000     8.000000     1.000000  \n",
       "max          47.000000         5.000000    75.000000     1.000000  "
      ]
     },
     "execution_count": 2,
     "metadata": {},
     "output_type": "execute_result"
    }
   ],
   "source": [
    "ios.describe()"
   ]
  },
  {
   "cell_type": "code",
   "execution_count": 3,
   "metadata": {},
   "outputs": [
    {
     "data": {
      "text/html": [
       "<div>\n",
       "<style scoped>\n",
       "    .dataframe tbody tr th:only-of-type {\n",
       "        vertical-align: middle;\n",
       "    }\n",
       "\n",
       "    .dataframe tbody tr th {\n",
       "        vertical-align: top;\n",
       "    }\n",
       "\n",
       "    .dataframe thead th {\n",
       "        text-align: right;\n",
       "    }\n",
       "</style>\n",
       "<table border=\"1\" class=\"dataframe\">\n",
       "  <thead>\n",
       "    <tr style=\"text-align: right;\">\n",
       "      <th></th>\n",
       "      <th>App</th>\n",
       "      <th>Category</th>\n",
       "      <th>Rating</th>\n",
       "      <th>Reviews</th>\n",
       "      <th>Size</th>\n",
       "      <th>Installs</th>\n",
       "      <th>Type</th>\n",
       "      <th>Price</th>\n",
       "      <th>Content Rating</th>\n",
       "      <th>Genres</th>\n",
       "      <th>Last Updated</th>\n",
       "      <th>Current Ver</th>\n",
       "      <th>Android Ver</th>\n",
       "    </tr>\n",
       "  </thead>\n",
       "  <tbody>\n",
       "    <tr>\n",
       "      <td>0</td>\n",
       "      <td>Photo Editor &amp; Candy Camera &amp; Grid &amp; ScrapBook</td>\n",
       "      <td>ART_AND_DESIGN</td>\n",
       "      <td>4.1</td>\n",
       "      <td>159</td>\n",
       "      <td>19M</td>\n",
       "      <td>10,000+</td>\n",
       "      <td>Free</td>\n",
       "      <td>0</td>\n",
       "      <td>Everyone</td>\n",
       "      <td>Art &amp; Design</td>\n",
       "      <td>January 7, 2018</td>\n",
       "      <td>1.0.0</td>\n",
       "      <td>4.0.3 and up</td>\n",
       "    </tr>\n",
       "    <tr>\n",
       "      <td>1</td>\n",
       "      <td>Coloring book moana</td>\n",
       "      <td>ART_AND_DESIGN</td>\n",
       "      <td>3.9</td>\n",
       "      <td>967</td>\n",
       "      <td>14M</td>\n",
       "      <td>500,000+</td>\n",
       "      <td>Free</td>\n",
       "      <td>0</td>\n",
       "      <td>Everyone</td>\n",
       "      <td>Art &amp; Design;Pretend Play</td>\n",
       "      <td>January 15, 2018</td>\n",
       "      <td>2.0.0</td>\n",
       "      <td>4.0.3 and up</td>\n",
       "    </tr>\n",
       "    <tr>\n",
       "      <td>2</td>\n",
       "      <td>U Launcher Lite – FREE Live Cool Themes, Hide ...</td>\n",
       "      <td>ART_AND_DESIGN</td>\n",
       "      <td>4.7</td>\n",
       "      <td>87510</td>\n",
       "      <td>8.7M</td>\n",
       "      <td>5,000,000+</td>\n",
       "      <td>Free</td>\n",
       "      <td>0</td>\n",
       "      <td>Everyone</td>\n",
       "      <td>Art &amp; Design</td>\n",
       "      <td>August 1, 2018</td>\n",
       "      <td>1.2.4</td>\n",
       "      <td>4.0.3 and up</td>\n",
       "    </tr>\n",
       "    <tr>\n",
       "      <td>3</td>\n",
       "      <td>Sketch - Draw &amp; Paint</td>\n",
       "      <td>ART_AND_DESIGN</td>\n",
       "      <td>4.5</td>\n",
       "      <td>215644</td>\n",
       "      <td>25M</td>\n",
       "      <td>50,000,000+</td>\n",
       "      <td>Free</td>\n",
       "      <td>0</td>\n",
       "      <td>Teen</td>\n",
       "      <td>Art &amp; Design</td>\n",
       "      <td>June 8, 2018</td>\n",
       "      <td>Varies with device</td>\n",
       "      <td>4.2 and up</td>\n",
       "    </tr>\n",
       "    <tr>\n",
       "      <td>4</td>\n",
       "      <td>Pixel Draw - Number Art Coloring Book</td>\n",
       "      <td>ART_AND_DESIGN</td>\n",
       "      <td>4.3</td>\n",
       "      <td>967</td>\n",
       "      <td>2.8M</td>\n",
       "      <td>100,000+</td>\n",
       "      <td>Free</td>\n",
       "      <td>0</td>\n",
       "      <td>Everyone</td>\n",
       "      <td>Art &amp; Design;Creativity</td>\n",
       "      <td>June 20, 2018</td>\n",
       "      <td>1.1</td>\n",
       "      <td>4.4 and up</td>\n",
       "    </tr>\n",
       "  </tbody>\n",
       "</table>\n",
       "</div>"
      ],
      "text/plain": [
       "                                                 App        Category  Rating  \\\n",
       "0     Photo Editor & Candy Camera & Grid & ScrapBook  ART_AND_DESIGN     4.1   \n",
       "1                                Coloring book moana  ART_AND_DESIGN     3.9   \n",
       "2  U Launcher Lite – FREE Live Cool Themes, Hide ...  ART_AND_DESIGN     4.7   \n",
       "3                              Sketch - Draw & Paint  ART_AND_DESIGN     4.5   \n",
       "4              Pixel Draw - Number Art Coloring Book  ART_AND_DESIGN     4.3   \n",
       "\n",
       "  Reviews  Size     Installs  Type Price Content Rating  \\\n",
       "0     159   19M      10,000+  Free     0       Everyone   \n",
       "1     967   14M     500,000+  Free     0       Everyone   \n",
       "2   87510  8.7M   5,000,000+  Free     0       Everyone   \n",
       "3  215644   25M  50,000,000+  Free     0           Teen   \n",
       "4     967  2.8M     100,000+  Free     0       Everyone   \n",
       "\n",
       "                      Genres      Last Updated         Current Ver  \\\n",
       "0               Art & Design   January 7, 2018               1.0.0   \n",
       "1  Art & Design;Pretend Play  January 15, 2018               2.0.0   \n",
       "2               Art & Design    August 1, 2018               1.2.4   \n",
       "3               Art & Design      June 8, 2018  Varies with device   \n",
       "4    Art & Design;Creativity     June 20, 2018                 1.1   \n",
       "\n",
       "    Android Ver  \n",
       "0  4.0.3 and up  \n",
       "1  4.0.3 and up  \n",
       "2  4.0.3 and up  \n",
       "3    4.2 and up  \n",
       "4    4.4 and up  "
      ]
     },
     "execution_count": 3,
     "metadata": {},
     "output_type": "execute_result"
    }
   ],
   "source": [
    "android.head()"
   ]
  },
  {
   "cell_type": "code",
   "execution_count": 4,
   "metadata": {},
   "outputs": [
    {
     "data": {
      "text/html": [
       "<div>\n",
       "<style scoped>\n",
       "    .dataframe tbody tr th:only-of-type {\n",
       "        vertical-align: middle;\n",
       "    }\n",
       "\n",
       "    .dataframe tbody tr th {\n",
       "        vertical-align: top;\n",
       "    }\n",
       "\n",
       "    .dataframe thead th {\n",
       "        text-align: right;\n",
       "    }\n",
       "</style>\n",
       "<table border=\"1\" class=\"dataframe\">\n",
       "  <thead>\n",
       "    <tr style=\"text-align: right;\">\n",
       "      <th></th>\n",
       "      <th>App</th>\n",
       "      <th>Category</th>\n",
       "      <th>Rating</th>\n",
       "      <th>Reviews</th>\n",
       "      <th>Size</th>\n",
       "      <th>Installs</th>\n",
       "      <th>Type</th>\n",
       "      <th>Price</th>\n",
       "      <th>Content Rating</th>\n",
       "      <th>Genres</th>\n",
       "      <th>Last Updated</th>\n",
       "      <th>Current Ver</th>\n",
       "      <th>Android Ver</th>\n",
       "    </tr>\n",
       "  </thead>\n",
       "  <tbody>\n",
       "    <tr>\n",
       "      <td>count</td>\n",
       "      <td>10841</td>\n",
       "      <td>10841</td>\n",
       "      <td>9367.000000</td>\n",
       "      <td>10841</td>\n",
       "      <td>10841</td>\n",
       "      <td>10841</td>\n",
       "      <td>10840</td>\n",
       "      <td>10841</td>\n",
       "      <td>10840</td>\n",
       "      <td>10841</td>\n",
       "      <td>10841</td>\n",
       "      <td>10833</td>\n",
       "      <td>10838</td>\n",
       "    </tr>\n",
       "    <tr>\n",
       "      <td>unique</td>\n",
       "      <td>9660</td>\n",
       "      <td>34</td>\n",
       "      <td>NaN</td>\n",
       "      <td>6002</td>\n",
       "      <td>462</td>\n",
       "      <td>22</td>\n",
       "      <td>3</td>\n",
       "      <td>93</td>\n",
       "      <td>6</td>\n",
       "      <td>120</td>\n",
       "      <td>1378</td>\n",
       "      <td>2832</td>\n",
       "      <td>33</td>\n",
       "    </tr>\n",
       "    <tr>\n",
       "      <td>top</td>\n",
       "      <td>ROBLOX</td>\n",
       "      <td>FAMILY</td>\n",
       "      <td>NaN</td>\n",
       "      <td>0</td>\n",
       "      <td>Varies with device</td>\n",
       "      <td>1,000,000+</td>\n",
       "      <td>Free</td>\n",
       "      <td>0</td>\n",
       "      <td>Everyone</td>\n",
       "      <td>Tools</td>\n",
       "      <td>August 3, 2018</td>\n",
       "      <td>Varies with device</td>\n",
       "      <td>4.1 and up</td>\n",
       "    </tr>\n",
       "    <tr>\n",
       "      <td>freq</td>\n",
       "      <td>9</td>\n",
       "      <td>1972</td>\n",
       "      <td>NaN</td>\n",
       "      <td>596</td>\n",
       "      <td>1695</td>\n",
       "      <td>1579</td>\n",
       "      <td>10039</td>\n",
       "      <td>10040</td>\n",
       "      <td>8714</td>\n",
       "      <td>842</td>\n",
       "      <td>326</td>\n",
       "      <td>1459</td>\n",
       "      <td>2451</td>\n",
       "    </tr>\n",
       "    <tr>\n",
       "      <td>mean</td>\n",
       "      <td>NaN</td>\n",
       "      <td>NaN</td>\n",
       "      <td>4.193338</td>\n",
       "      <td>NaN</td>\n",
       "      <td>NaN</td>\n",
       "      <td>NaN</td>\n",
       "      <td>NaN</td>\n",
       "      <td>NaN</td>\n",
       "      <td>NaN</td>\n",
       "      <td>NaN</td>\n",
       "      <td>NaN</td>\n",
       "      <td>NaN</td>\n",
       "      <td>NaN</td>\n",
       "    </tr>\n",
       "    <tr>\n",
       "      <td>std</td>\n",
       "      <td>NaN</td>\n",
       "      <td>NaN</td>\n",
       "      <td>0.537431</td>\n",
       "      <td>NaN</td>\n",
       "      <td>NaN</td>\n",
       "      <td>NaN</td>\n",
       "      <td>NaN</td>\n",
       "      <td>NaN</td>\n",
       "      <td>NaN</td>\n",
       "      <td>NaN</td>\n",
       "      <td>NaN</td>\n",
       "      <td>NaN</td>\n",
       "      <td>NaN</td>\n",
       "    </tr>\n",
       "    <tr>\n",
       "      <td>min</td>\n",
       "      <td>NaN</td>\n",
       "      <td>NaN</td>\n",
       "      <td>1.000000</td>\n",
       "      <td>NaN</td>\n",
       "      <td>NaN</td>\n",
       "      <td>NaN</td>\n",
       "      <td>NaN</td>\n",
       "      <td>NaN</td>\n",
       "      <td>NaN</td>\n",
       "      <td>NaN</td>\n",
       "      <td>NaN</td>\n",
       "      <td>NaN</td>\n",
       "      <td>NaN</td>\n",
       "    </tr>\n",
       "    <tr>\n",
       "      <td>25%</td>\n",
       "      <td>NaN</td>\n",
       "      <td>NaN</td>\n",
       "      <td>4.000000</td>\n",
       "      <td>NaN</td>\n",
       "      <td>NaN</td>\n",
       "      <td>NaN</td>\n",
       "      <td>NaN</td>\n",
       "      <td>NaN</td>\n",
       "      <td>NaN</td>\n",
       "      <td>NaN</td>\n",
       "      <td>NaN</td>\n",
       "      <td>NaN</td>\n",
       "      <td>NaN</td>\n",
       "    </tr>\n",
       "    <tr>\n",
       "      <td>50%</td>\n",
       "      <td>NaN</td>\n",
       "      <td>NaN</td>\n",
       "      <td>4.300000</td>\n",
       "      <td>NaN</td>\n",
       "      <td>NaN</td>\n",
       "      <td>NaN</td>\n",
       "      <td>NaN</td>\n",
       "      <td>NaN</td>\n",
       "      <td>NaN</td>\n",
       "      <td>NaN</td>\n",
       "      <td>NaN</td>\n",
       "      <td>NaN</td>\n",
       "      <td>NaN</td>\n",
       "    </tr>\n",
       "    <tr>\n",
       "      <td>75%</td>\n",
       "      <td>NaN</td>\n",
       "      <td>NaN</td>\n",
       "      <td>4.500000</td>\n",
       "      <td>NaN</td>\n",
       "      <td>NaN</td>\n",
       "      <td>NaN</td>\n",
       "      <td>NaN</td>\n",
       "      <td>NaN</td>\n",
       "      <td>NaN</td>\n",
       "      <td>NaN</td>\n",
       "      <td>NaN</td>\n",
       "      <td>NaN</td>\n",
       "      <td>NaN</td>\n",
       "    </tr>\n",
       "    <tr>\n",
       "      <td>max</td>\n",
       "      <td>NaN</td>\n",
       "      <td>NaN</td>\n",
       "      <td>19.000000</td>\n",
       "      <td>NaN</td>\n",
       "      <td>NaN</td>\n",
       "      <td>NaN</td>\n",
       "      <td>NaN</td>\n",
       "      <td>NaN</td>\n",
       "      <td>NaN</td>\n",
       "      <td>NaN</td>\n",
       "      <td>NaN</td>\n",
       "      <td>NaN</td>\n",
       "      <td>NaN</td>\n",
       "    </tr>\n",
       "  </tbody>\n",
       "</table>\n",
       "</div>"
      ],
      "text/plain": [
       "           App Category       Rating Reviews                Size    Installs  \\\n",
       "count    10841    10841  9367.000000   10841               10841       10841   \n",
       "unique    9660       34          NaN    6002                 462          22   \n",
       "top     ROBLOX   FAMILY          NaN       0  Varies with device  1,000,000+   \n",
       "freq         9     1972          NaN     596                1695        1579   \n",
       "mean       NaN      NaN     4.193338     NaN                 NaN         NaN   \n",
       "std        NaN      NaN     0.537431     NaN                 NaN         NaN   \n",
       "min        NaN      NaN     1.000000     NaN                 NaN         NaN   \n",
       "25%        NaN      NaN     4.000000     NaN                 NaN         NaN   \n",
       "50%        NaN      NaN     4.300000     NaN                 NaN         NaN   \n",
       "75%        NaN      NaN     4.500000     NaN                 NaN         NaN   \n",
       "max        NaN      NaN    19.000000     NaN                 NaN         NaN   \n",
       "\n",
       "         Type  Price Content Rating Genres    Last Updated  \\\n",
       "count   10840  10841          10840  10841           10841   \n",
       "unique      3     93              6    120            1378   \n",
       "top      Free      0       Everyone  Tools  August 3, 2018   \n",
       "freq    10039  10040           8714    842             326   \n",
       "mean      NaN    NaN            NaN    NaN             NaN   \n",
       "std       NaN    NaN            NaN    NaN             NaN   \n",
       "min       NaN    NaN            NaN    NaN             NaN   \n",
       "25%       NaN    NaN            NaN    NaN             NaN   \n",
       "50%       NaN    NaN            NaN    NaN             NaN   \n",
       "75%       NaN    NaN            NaN    NaN             NaN   \n",
       "max       NaN    NaN            NaN    NaN             NaN   \n",
       "\n",
       "               Current Ver Android Ver  \n",
       "count                10833       10838  \n",
       "unique                2832          33  \n",
       "top     Varies with device  4.1 and up  \n",
       "freq                  1459        2451  \n",
       "mean                   NaN         NaN  \n",
       "std                    NaN         NaN  \n",
       "min                    NaN         NaN  \n",
       "25%                    NaN         NaN  \n",
       "50%                    NaN         NaN  \n",
       "75%                    NaN         NaN  \n",
       "max                    NaN         NaN  "
      ]
     },
     "execution_count": 4,
     "metadata": {},
     "output_type": "execute_result"
    }
   ],
   "source": [
    "android.describe(include='all')"
   ]
  },
  {
   "cell_type": "markdown",
   "metadata": {},
   "source": [
    "# Cleaning the Data\n",
    "\n",
    "It has been reported in the [Google Play data set dedicated discussion section](https://www.kaggle.com/lava18/google-play-store-apps/discussion/66015) that one of the rows (row 10472) is missing the 'Category' colunm, what makes all the other colunms to shift and because of that this row has less colunms than the it should have. We can see that below."
   ]
  },
  {
   "cell_type": "code",
   "execution_count": 5,
   "metadata": {
    "scrolled": true
   },
   "outputs": [
    {
     "data": {
      "text/plain": [
       "App               Life Made WI-Fi Touchscreen Photo Frame\n",
       "Category                                              1.9\n",
       "Rating                                                 19\n",
       "Reviews                                              3.0M\n",
       "Size                                               1,000+\n",
       "Installs                                             Free\n",
       "Type                                                    0\n",
       "Price                                            Everyone\n",
       "Content Rating                                        NaN\n",
       "Genres                                  February 11, 2018\n",
       "Last Updated                                       1.0.19\n",
       "Current Ver                                    4.0 and up\n",
       "Android Ver                                           NaN\n",
       "Name: 10472, dtype: object"
      ]
     },
     "execution_count": 5,
     "metadata": {},
     "output_type": "execute_result"
    }
   ],
   "source": [
    "android.iloc[10472]"
   ]
  },
  {
   "cell_type": "markdown",
   "metadata": {},
   "source": [
    "We can see that the `Category` column in this row contains a numeric value qhen it should contain a string. That's because it has the data from the `Rating` column, while the `Rating` column has the data from the `Reviews` column and so on untill the last column `Android Ver` ends up with null data. After the drop, we'll print the unique values in the `Category`column so we can see the that the row was deleted."
   ]
  },
  {
   "cell_type": "code",
   "execution_count": 6,
   "metadata": {},
   "outputs": [
    {
     "name": "stdout",
     "output_type": "stream",
     "text": [
      "['ART_AND_DESIGN' 'AUTO_AND_VEHICLES' 'BEAUTY' 'BOOKS_AND_REFERENCE'\n",
      " 'BUSINESS' 'COMICS' 'COMMUNICATION' 'DATING' 'EDUCATION' 'ENTERTAINMENT'\n",
      " 'EVENTS' 'FINANCE' 'FOOD_AND_DRINK' 'HEALTH_AND_FITNESS' 'HOUSE_AND_HOME'\n",
      " 'LIBRARIES_AND_DEMO' 'LIFESTYLE' 'GAME' 'FAMILY' 'MEDICAL' 'SOCIAL'\n",
      " 'SHOPPING' 'PHOTOGRAPHY' 'SPORTS' 'TRAVEL_AND_LOCAL' 'TOOLS'\n",
      " 'PERSONALIZATION' 'PRODUCTIVITY' 'PARENTING' 'WEATHER' 'VIDEO_PLAYERS'\n",
      " 'NEWS_AND_MAGAZINES' 'MAPS_AND_NAVIGATION']\n"
     ]
    }
   ],
   "source": [
    "# Dropping the row\n",
    "android.drop(index=10472, axis=0, inplace=True)\n",
    "\n",
    "# Checking the result\n",
    "print(android['Category'].unique())"
   ]
  },
  {
   "cell_type": "markdown",
   "metadata": {},
   "source": [
    "The numeric value is no longer in the column. The row was successfully deleted."
   ]
  },
  {
   "cell_type": "markdown",
   "metadata": {},
   "source": [
    "## Duplicates\n",
    "\n",
    "\n",
    "We'll now check both databases in order to find if they present duplicate data. This task willbe divided in two steps. First, we are going to check if there is duplicate data and then we'll delete it.\n"
   ]
  },
  {
   "cell_type": "code",
   "execution_count": 7,
   "metadata": {
    "scrolled": true
   },
   "outputs": [
    {
     "data": {
      "text/plain": [
       "(0, 17)"
      ]
     },
     "execution_count": 7,
     "metadata": {},
     "output_type": "execute_result"
    }
   ],
   "source": [
    "ios_dups = ios[ios.iloc[:,0].duplicated()]\n",
    "ios_dups.shape"
   ]
  },
  {
   "cell_type": "code",
   "execution_count": 8,
   "metadata": {
    "scrolled": true
   },
   "outputs": [
    {
     "data": {
      "text/plain": [
       "(1181, 13)"
      ]
     },
     "execution_count": 8,
     "metadata": {},
     "output_type": "execute_result"
    }
   ],
   "source": [
    "android_dups = android[android.iloc[:,0].duplicated()]\n",
    "android_dups.shape"
   ]
  },
  {
   "cell_type": "markdown",
   "metadata": {},
   "source": [
    "There are 1181 duplicated apps in the android database and none in the IOS database."
   ]
  },
  {
   "cell_type": "code",
   "execution_count": 9,
   "metadata": {
    "scrolled": true
   },
   "outputs": [
    {
     "data": {
      "text/html": [
       "<div>\n",
       "<style scoped>\n",
       "    .dataframe tbody tr th:only-of-type {\n",
       "        vertical-align: middle;\n",
       "    }\n",
       "\n",
       "    .dataframe tbody tr th {\n",
       "        vertical-align: top;\n",
       "    }\n",
       "\n",
       "    .dataframe thead th {\n",
       "        text-align: right;\n",
       "    }\n",
       "</style>\n",
       "<table border=\"1\" class=\"dataframe\">\n",
       "  <thead>\n",
       "    <tr style=\"text-align: right;\">\n",
       "      <th></th>\n",
       "      <th>App</th>\n",
       "      <th>Category</th>\n",
       "      <th>Rating</th>\n",
       "      <th>Reviews</th>\n",
       "      <th>Size</th>\n",
       "      <th>Installs</th>\n",
       "      <th>Type</th>\n",
       "      <th>Price</th>\n",
       "      <th>Content Rating</th>\n",
       "      <th>Genres</th>\n",
       "      <th>Last Updated</th>\n",
       "      <th>Current Ver</th>\n",
       "      <th>Android Ver</th>\n",
       "    </tr>\n",
       "  </thead>\n",
       "  <tbody>\n",
       "    <tr>\n",
       "      <td>229</td>\n",
       "      <td>Quick PDF Scanner + OCR FREE</td>\n",
       "      <td>BUSINESS</td>\n",
       "      <td>4.2</td>\n",
       "      <td>80805</td>\n",
       "      <td>Varies with device</td>\n",
       "      <td>5,000,000+</td>\n",
       "      <td>Free</td>\n",
       "      <td>0</td>\n",
       "      <td>Everyone</td>\n",
       "      <td>Business</td>\n",
       "      <td>February 26, 2018</td>\n",
       "      <td>Varies with device</td>\n",
       "      <td>4.0.3 and up</td>\n",
       "    </tr>\n",
       "    <tr>\n",
       "      <td>236</td>\n",
       "      <td>Box</td>\n",
       "      <td>BUSINESS</td>\n",
       "      <td>4.2</td>\n",
       "      <td>159872</td>\n",
       "      <td>Varies with device</td>\n",
       "      <td>10,000,000+</td>\n",
       "      <td>Free</td>\n",
       "      <td>0</td>\n",
       "      <td>Everyone</td>\n",
       "      <td>Business</td>\n",
       "      <td>July 31, 2018</td>\n",
       "      <td>Varies with device</td>\n",
       "      <td>Varies with device</td>\n",
       "    </tr>\n",
       "    <tr>\n",
       "      <td>239</td>\n",
       "      <td>Google My Business</td>\n",
       "      <td>BUSINESS</td>\n",
       "      <td>4.4</td>\n",
       "      <td>70991</td>\n",
       "      <td>Varies with device</td>\n",
       "      <td>5,000,000+</td>\n",
       "      <td>Free</td>\n",
       "      <td>0</td>\n",
       "      <td>Everyone</td>\n",
       "      <td>Business</td>\n",
       "      <td>July 24, 2018</td>\n",
       "      <td>2.19.0.204537701</td>\n",
       "      <td>4.4 and up</td>\n",
       "    </tr>\n",
       "    <tr>\n",
       "      <td>256</td>\n",
       "      <td>ZOOM Cloud Meetings</td>\n",
       "      <td>BUSINESS</td>\n",
       "      <td>4.4</td>\n",
       "      <td>31614</td>\n",
       "      <td>37M</td>\n",
       "      <td>10,000,000+</td>\n",
       "      <td>Free</td>\n",
       "      <td>0</td>\n",
       "      <td>Everyone</td>\n",
       "      <td>Business</td>\n",
       "      <td>July 20, 2018</td>\n",
       "      <td>4.1.28165.0716</td>\n",
       "      <td>4.0 and up</td>\n",
       "    </tr>\n",
       "    <tr>\n",
       "      <td>261</td>\n",
       "      <td>join.me - Simple Meetings</td>\n",
       "      <td>BUSINESS</td>\n",
       "      <td>4.0</td>\n",
       "      <td>6989</td>\n",
       "      <td>Varies with device</td>\n",
       "      <td>1,000,000+</td>\n",
       "      <td>Free</td>\n",
       "      <td>0</td>\n",
       "      <td>Everyone</td>\n",
       "      <td>Business</td>\n",
       "      <td>July 16, 2018</td>\n",
       "      <td>4.3.0.508</td>\n",
       "      <td>4.4 and up</td>\n",
       "    </tr>\n",
       "    <tr>\n",
       "      <td>265</td>\n",
       "      <td>Box</td>\n",
       "      <td>BUSINESS</td>\n",
       "      <td>4.2</td>\n",
       "      <td>159872</td>\n",
       "      <td>Varies with device</td>\n",
       "      <td>10,000,000+</td>\n",
       "      <td>Free</td>\n",
       "      <td>0</td>\n",
       "      <td>Everyone</td>\n",
       "      <td>Business</td>\n",
       "      <td>July 31, 2018</td>\n",
       "      <td>Varies with device</td>\n",
       "      <td>Varies with device</td>\n",
       "    </tr>\n",
       "    <tr>\n",
       "      <td>266</td>\n",
       "      <td>Zenefits</td>\n",
       "      <td>BUSINESS</td>\n",
       "      <td>4.2</td>\n",
       "      <td>296</td>\n",
       "      <td>14M</td>\n",
       "      <td>50,000+</td>\n",
       "      <td>Free</td>\n",
       "      <td>0</td>\n",
       "      <td>Everyone</td>\n",
       "      <td>Business</td>\n",
       "      <td>June 15, 2018</td>\n",
       "      <td>3.2.1</td>\n",
       "      <td>4.1 and up</td>\n",
       "    </tr>\n",
       "    <tr>\n",
       "      <td>267</td>\n",
       "      <td>Google Ads</td>\n",
       "      <td>BUSINESS</td>\n",
       "      <td>4.3</td>\n",
       "      <td>29313</td>\n",
       "      <td>20M</td>\n",
       "      <td>5,000,000+</td>\n",
       "      <td>Free</td>\n",
       "      <td>0</td>\n",
       "      <td>Everyone</td>\n",
       "      <td>Business</td>\n",
       "      <td>July 30, 2018</td>\n",
       "      <td>1.12.0</td>\n",
       "      <td>4.0.3 and up</td>\n",
       "    </tr>\n",
       "    <tr>\n",
       "      <td>268</td>\n",
       "      <td>Google My Business</td>\n",
       "      <td>BUSINESS</td>\n",
       "      <td>4.4</td>\n",
       "      <td>70991</td>\n",
       "      <td>Varies with device</td>\n",
       "      <td>5,000,000+</td>\n",
       "      <td>Free</td>\n",
       "      <td>0</td>\n",
       "      <td>Everyone</td>\n",
       "      <td>Business</td>\n",
       "      <td>July 24, 2018</td>\n",
       "      <td>2.19.0.204537701</td>\n",
       "      <td>4.4 and up</td>\n",
       "    </tr>\n",
       "    <tr>\n",
       "      <td>269</td>\n",
       "      <td>Slack</td>\n",
       "      <td>BUSINESS</td>\n",
       "      <td>4.4</td>\n",
       "      <td>51507</td>\n",
       "      <td>Varies with device</td>\n",
       "      <td>5,000,000+</td>\n",
       "      <td>Free</td>\n",
       "      <td>0</td>\n",
       "      <td>Everyone</td>\n",
       "      <td>Business</td>\n",
       "      <td>August 2, 2018</td>\n",
       "      <td>Varies with device</td>\n",
       "      <td>Varies with device</td>\n",
       "    </tr>\n",
       "  </tbody>\n",
       "</table>\n",
       "</div>"
      ],
      "text/plain": [
       "                              App  Category  Rating Reviews  \\\n",
       "229  Quick PDF Scanner + OCR FREE  BUSINESS     4.2   80805   \n",
       "236                           Box  BUSINESS     4.2  159872   \n",
       "239            Google My Business  BUSINESS     4.4   70991   \n",
       "256           ZOOM Cloud Meetings  BUSINESS     4.4   31614   \n",
       "261     join.me - Simple Meetings  BUSINESS     4.0    6989   \n",
       "265                           Box  BUSINESS     4.2  159872   \n",
       "266                      Zenefits  BUSINESS     4.2     296   \n",
       "267                    Google Ads  BUSINESS     4.3   29313   \n",
       "268            Google My Business  BUSINESS     4.4   70991   \n",
       "269                         Slack  BUSINESS     4.4   51507   \n",
       "\n",
       "                   Size     Installs  Type Price Content Rating    Genres  \\\n",
       "229  Varies with device   5,000,000+  Free     0       Everyone  Business   \n",
       "236  Varies with device  10,000,000+  Free     0       Everyone  Business   \n",
       "239  Varies with device   5,000,000+  Free     0       Everyone  Business   \n",
       "256                 37M  10,000,000+  Free     0       Everyone  Business   \n",
       "261  Varies with device   1,000,000+  Free     0       Everyone  Business   \n",
       "265  Varies with device  10,000,000+  Free     0       Everyone  Business   \n",
       "266                 14M      50,000+  Free     0       Everyone  Business   \n",
       "267                 20M   5,000,000+  Free     0       Everyone  Business   \n",
       "268  Varies with device   5,000,000+  Free     0       Everyone  Business   \n",
       "269  Varies with device   5,000,000+  Free     0       Everyone  Business   \n",
       "\n",
       "          Last Updated         Current Ver         Android Ver  \n",
       "229  February 26, 2018  Varies with device        4.0.3 and up  \n",
       "236      July 31, 2018  Varies with device  Varies with device  \n",
       "239      July 24, 2018    2.19.0.204537701          4.4 and up  \n",
       "256      July 20, 2018      4.1.28165.0716          4.0 and up  \n",
       "261      July 16, 2018           4.3.0.508          4.4 and up  \n",
       "265      July 31, 2018  Varies with device  Varies with device  \n",
       "266      June 15, 2018               3.2.1          4.1 and up  \n",
       "267      July 30, 2018              1.12.0        4.0.3 and up  \n",
       "268      July 24, 2018    2.19.0.204537701          4.4 and up  \n",
       "269     August 2, 2018  Varies with device  Varies with device  "
      ]
     },
     "execution_count": 9,
     "metadata": {},
     "output_type": "execute_result"
    }
   ],
   "source": [
    "android_dups.head(10)"
   ]
  },
  {
   "cell_type": "markdown",
   "metadata": {},
   "source": [
    "Using the Google Ads app example below, we can see that the only difference between the duplicated data is in the fourth colunm, which correspond to the number of reviews. In order to not delete the eduplicate data randomly, we'll use this criteria to do it. For each duplicate app, we'll only keep only the row with the highest number of reviews because the higher the number, the most recent and reliable the ratings."
   ]
  },
  {
   "cell_type": "code",
   "execution_count": 10,
   "metadata": {
    "scrolled": true
   },
   "outputs": [
    {
     "data": {
      "text/html": [
       "<div>\n",
       "<style scoped>\n",
       "    .dataframe tbody tr th:only-of-type {\n",
       "        vertical-align: middle;\n",
       "    }\n",
       "\n",
       "    .dataframe tbody tr th {\n",
       "        vertical-align: top;\n",
       "    }\n",
       "\n",
       "    .dataframe thead th {\n",
       "        text-align: right;\n",
       "    }\n",
       "</style>\n",
       "<table border=\"1\" class=\"dataframe\">\n",
       "  <thead>\n",
       "    <tr style=\"text-align: right;\">\n",
       "      <th></th>\n",
       "      <th>App</th>\n",
       "      <th>Category</th>\n",
       "      <th>Rating</th>\n",
       "      <th>Reviews</th>\n",
       "      <th>Size</th>\n",
       "      <th>Installs</th>\n",
       "      <th>Type</th>\n",
       "      <th>Price</th>\n",
       "      <th>Content Rating</th>\n",
       "      <th>Genres</th>\n",
       "      <th>Last Updated</th>\n",
       "      <th>Current Ver</th>\n",
       "      <th>Android Ver</th>\n",
       "    </tr>\n",
       "  </thead>\n",
       "  <tbody>\n",
       "    <tr>\n",
       "      <td>238</td>\n",
       "      <td>Google Ads</td>\n",
       "      <td>BUSINESS</td>\n",
       "      <td>4.3</td>\n",
       "      <td>29313</td>\n",
       "      <td>20M</td>\n",
       "      <td>5,000,000+</td>\n",
       "      <td>Free</td>\n",
       "      <td>0</td>\n",
       "      <td>Everyone</td>\n",
       "      <td>Business</td>\n",
       "      <td>July 30, 2018</td>\n",
       "      <td>1.12.0</td>\n",
       "      <td>4.0.3 and up</td>\n",
       "    </tr>\n",
       "    <tr>\n",
       "      <td>267</td>\n",
       "      <td>Google Ads</td>\n",
       "      <td>BUSINESS</td>\n",
       "      <td>4.3</td>\n",
       "      <td>29313</td>\n",
       "      <td>20M</td>\n",
       "      <td>5,000,000+</td>\n",
       "      <td>Free</td>\n",
       "      <td>0</td>\n",
       "      <td>Everyone</td>\n",
       "      <td>Business</td>\n",
       "      <td>July 30, 2018</td>\n",
       "      <td>1.12.0</td>\n",
       "      <td>4.0.3 and up</td>\n",
       "    </tr>\n",
       "    <tr>\n",
       "      <td>4979</td>\n",
       "      <td>Google Ads</td>\n",
       "      <td>BUSINESS</td>\n",
       "      <td>4.3</td>\n",
       "      <td>29331</td>\n",
       "      <td>20M</td>\n",
       "      <td>5,000,000+</td>\n",
       "      <td>Free</td>\n",
       "      <td>0</td>\n",
       "      <td>Everyone</td>\n",
       "      <td>Business</td>\n",
       "      <td>July 30, 2018</td>\n",
       "      <td>1.12.0</td>\n",
       "      <td>4.0.3 and up</td>\n",
       "    </tr>\n",
       "  </tbody>\n",
       "</table>\n",
       "</div>"
      ],
      "text/plain": [
       "             App  Category  Rating Reviews Size    Installs  Type Price  \\\n",
       "238   Google Ads  BUSINESS     4.3   29313  20M  5,000,000+  Free     0   \n",
       "267   Google Ads  BUSINESS     4.3   29313  20M  5,000,000+  Free     0   \n",
       "4979  Google Ads  BUSINESS     4.3   29331  20M  5,000,000+  Free     0   \n",
       "\n",
       "     Content Rating    Genres   Last Updated Current Ver   Android Ver  \n",
       "238        Everyone  Business  July 30, 2018      1.12.0  4.0.3 and up  \n",
       "267        Everyone  Business  July 30, 2018      1.12.0  4.0.3 and up  \n",
       "4979       Everyone  Business  July 30, 2018      1.12.0  4.0.3 and up  "
      ]
     },
     "execution_count": 10,
     "metadata": {},
     "output_type": "execute_result"
    }
   ],
   "source": [
    "android[android['App'] == 'Google Ads']"
   ]
  },
  {
   "cell_type": "markdown",
   "metadata": {},
   "source": [
    "To drop the duplicate rows we'll:\n",
    "\n",
    "* Loop through the unique duplicate apps;\n",
    "* Get the maximum number of reviews for that app;\n",
    "* Select the rows that do not attend that requisite;\n",
    "* Drop those rows;\n",
    "\n",
    "At this point, most of the duplicates apps are gone. But we'll still have some duplicates left. That's beacause we used the maximum number of reviews to drop the rows and some apps have more than onde row with the maximum number of reviews. As the number o reviews are now the same we can drop anyone. So, we will:\n",
    "\n",
    "* Use the `DataFrame.drop_duplicates()` method drop the remaining duplicate apps;\n",
    "* Reset the index. \n",
    "* Check the result."
   ]
  },
  {
   "cell_type": "code",
   "execution_count": 11,
   "metadata": {
    "scrolled": true
   },
   "outputs": [
    {
     "name": "stdout",
     "output_type": "stream",
     "text": [
      "(0, 13)\n"
     ]
    }
   ],
   "source": [
    "# Looping through the unique apps names\n",
    "for app in android_dups['App'].unique():\n",
    "    # Selecting the maximum number of reviews\n",
    "    max_review = str(android[android['App'] == app]['Reviews'].max())\n",
    "    # Selecting the rows that do not contain the maximum number of reviews\n",
    "    rows_to_drop = android[(android['App'] == app) & (android['Reviews'] != max_review)]\n",
    "    \n",
    "    # Dropping the rows\n",
    "    for row in rows_to_drop.index:\n",
    "        index_to_drop = row\n",
    "        android.drop(index=index_to_drop, axis=0, inplace=True)\n",
    "\n",
    "# Dropping the remaining duplicate\n",
    "android.drop_duplicates(subset='App', keep='first', inplace=True)\n",
    "\n",
    "# Resetting the index\n",
    "android.reset_index(drop=True, inplace=True)\n",
    "\n",
    "# Checking the result\n",
    "android_dups = android[android.iloc[:,0].duplicated()]\n",
    "print(android_dups.shape)"
   ]
  },
  {
   "cell_type": "markdown",
   "metadata": {},
   "source": [
    "No duplicate rows left, as expected."
   ]
  },
  {
   "cell_type": "markdown",
   "metadata": {},
   "source": [
    "## Removing Non-Enlgish apps\n",
    "\n",
    "If you explore the data set long enoguh, you'll notice that the names of some apps suggest they are not directed to the english-speaking audience, as we can see in the examples below:"
   ]
  },
  {
   "cell_type": "code",
   "execution_count": 12,
   "metadata": {},
   "outputs": [
    {
     "name": "stdout",
     "output_type": "stream",
     "text": [
      "搜狐新闻—新闻热点资讯掌上阅读软件\n",
      "CPU-Z\n"
     ]
    }
   ],
   "source": [
    "print(ios.iloc[814,2])\n",
    "\n",
    "print(android.iloc[3749,0])"
   ]
  },
  {
   "cell_type": "markdown",
   "metadata": {},
   "source": [
    "As we're not interested in these apps, we will now write a function identify them. We'll take advantage of the [ASCII standard](https://pt.wikipedia.org/wiki/ASCII) and the built-in `ord()` to do it. First, let's test the function."
   ]
  },
  {
   "cell_type": "code",
   "execution_count": 13,
   "metadata": {},
   "outputs": [
    {
     "name": "stdout",
     "output_type": "stream",
     "text": [
      "True\n",
      "False\n"
     ]
    }
   ],
   "source": [
    "def is_en(string):\n",
    "    for character in string:\n",
    "        if ord(character) > 127:\n",
    "            return False\n",
    "    return True\n",
    "\n",
    "print(is_en('Facebook'))\n",
    "print(is_en('中国語 AQリスニング'))"
   ]
  },
  {
   "cell_type": "markdown",
   "metadata": {},
   "source": [
    "The function seems to be working just fine, but it still has some problems as it cannot identify some english app names as we can see in the example below:"
   ]
  },
  {
   "cell_type": "code",
   "execution_count": 14,
   "metadata": {},
   "outputs": [
    {
     "name": "stdout",
     "output_type": "stream",
     "text": [
      "False\n",
      "False\n"
     ]
    }
   ],
   "source": [
    "print(is_en('Docs To Go™ Free Office Suite'))\n",
    "print(is_en('Instachat 😜'))"
   ]
  },
  {
   "cell_type": "markdown",
   "metadata": {},
   "source": [
    "That happened because emoji and characters  like `™` are outside the ASCII range we determined. We'll then adapt `is_en()` to identify an app  as non english only if the string has more than three characters that fall outside the ASCII range (0 - 127). That is necessary so we can minimiza the amount of data loss."
   ]
  },
  {
   "cell_type": "code",
   "execution_count": 15,
   "metadata": {},
   "outputs": [
    {
     "name": "stdout",
     "output_type": "stream",
     "text": [
      "True\n",
      "True\n",
      "True\n",
      "False\n"
     ]
    }
   ],
   "source": [
    "def is_en(string):\n",
    "    count = 0\n",
    "    for characther in string:\n",
    "        if ord(characther) > 127:\n",
    "            count += 1\n",
    "    if count > 3:\n",
    "        return False\n",
    "    return True\n",
    "\n",
    "print(is_en('Facebook'))\n",
    "print(is_en('Docs To Go™ Free Office Suite'))\n",
    "print(is_en('Instachat 😜'))\n",
    "print(is_en('中国語 AQリスニング'))"
   ]
  },
  {
   "cell_type": "markdown",
   "metadata": {},
   "source": [
    "Altough the function is not perfect, it is now good enough to minimize data loss during the cleaning process.\n",
    "\n",
    "We'll modify the function once more. If the name of the contains more thna three characthers outside the ASCII range (0 - 127), a null value will be assignd to it. The we'll use the `Series.apply()` method to test every app at once in each dataframe. Finally we'll exclude the null values from the dataframs. AFter we're done we will see how many apps we have left."
   ]
  },
  {
   "cell_type": "code",
   "execution_count": 16,
   "metadata": {},
   "outputs": [
    {
     "name": "stdout",
     "output_type": "stream",
     "text": [
      "(6183, 17)\n",
      "(9614, 13)\n"
     ]
    }
   ],
   "source": [
    "def is_en(string):\n",
    "    count = 0\n",
    "    for characther in string:\n",
    "        if ord(characther) > 127:\n",
    "            count += 1\n",
    "    if count > 3:\n",
    "        string = np.nan\n",
    "    return string\n",
    "\n",
    "# Applying the function \n",
    "ios['track_name'] = ios['track_name'].apply(is_en)\n",
    "android['App'] = android['App'].apply(is_en)\n",
    "\n",
    "# Excluding the null values\n",
    "ios = ios[ios['track_name'].notnull()]\n",
    "android = android[android['App'].notnull()]\n",
    "\n",
    "# Checking the number of apps left\n",
    "print(ios.shape)\n",
    "print(android.shape)"
   ]
  },
  {
   "cell_type": "markdown",
   "metadata": {},
   "source": [
    "We're now left with 9614 Android apps and 6183 iOS apps."
   ]
  },
  {
   "cell_type": "markdown",
   "metadata": {},
   "source": [
    "## Filtering free apps\n",
    "\n",
    "For this project, we are only interested in analyzing the free apps. Therefore, we'll now select only the free apps from each dataframe.\n",
    "\n",
    "The android data already has a column that specifies if the app is free or not. However, the iOS does not have such column, so we'll select the apps which price is zero.\n",
    "\n",
    "When we're done we'll check how many apps we have left in each dataframe."
   ]
  },
  {
   "cell_type": "code",
   "execution_count": 17,
   "metadata": {},
   "outputs": [
    {
     "name": "stdout",
     "output_type": "stream",
     "text": [
      "(8861, 13)\n",
      "(3222, 17)\n"
     ]
    }
   ],
   "source": [
    "# Selecting the free apps\n",
    "android_free = android.loc[android['Type'] == 'Free'].copy()\n",
    "ios_free = ios.loc[ios['price'] == 0].copy()\n",
    "\n",
    "# Checking how many apps are left\n",
    "print(android_free.shape)\n",
    "print(ios_free.shape)"
   ]
  },
  {
   "cell_type": "markdown",
   "metadata": {},
   "source": [
    "Finally, we're down to 8861 Android apps and 3222 iOS apps."
   ]
  },
  {
   "cell_type": "markdown",
   "metadata": {},
   "source": [
    "# Analysing the Data"
   ]
  },
  {
   "cell_type": "markdown",
   "metadata": {},
   "source": [
    "### Most popular apps by genre\n",
    "\n",
    "As mentioned in the introduction, the main goal of this project is dertermine what kind of app is more likely to attrac more users. That is important because the revenue of a free app comes basically from advertisement. Therefore, the higher the number of users, the higher the revenue.\n",
    "Considering that the end goal is to add the app both on Google Play and App Store, it is necessary to find app profiles that are successful in both markets. We'll start by analyzing the apps by genre in the iOS dataset.\n",
    "\n"
   ]
  },
  {
   "cell_type": "code",
   "execution_count": 18,
   "metadata": {
    "scrolled": true
   },
   "outputs": [
    {
     "name": "stdout",
     "output_type": "stream",
     "text": [
      "Games                58.16\n",
      "Entertainment         7.88\n",
      "Photo & Video         4.97\n",
      "Education             3.66\n",
      "Social Networking     3.29\n",
      "Shopping              2.61\n",
      "Utilities             2.51\n",
      "Sports                2.14\n",
      "Music                 2.05\n",
      "Health & Fitness      2.02\n",
      "Productivity          1.74\n",
      "Lifestyle             1.58\n",
      "News                  1.33\n",
      "Travel                1.24\n",
      "Finance               1.12\n",
      "Weather               0.87\n",
      "Food & Drink          0.81\n",
      "Reference             0.56\n",
      "Business              0.53\n",
      "Book                  0.43\n",
      "Medical               0.19\n",
      "Navigation            0.19\n",
      "Catalogs              0.12\n",
      "Name: prime_genre, dtype: float64\n"
     ]
    }
   ],
   "source": [
    "ios_gen_per = ios_free['prime_genre'].value_counts() / ios_free.shape[0] * 100\n",
    "\n",
    "print(round(ios_gen_per, 2))"
   ]
  },
  {
   "cell_type": "code",
   "execution_count": 19,
   "metadata": {},
   "outputs": [
    {
     "data": {
      "text/plain": [
       "Index(['Games', 'Entertainment', 'Photo & Video', 'Education',\n",
       "       'Social Networking', 'Shopping', 'Utilities', 'Sports', 'Music',\n",
       "       'Health & Fitness'],\n",
       "      dtype='object')"
      ]
     },
     "execution_count": 19,
     "metadata": {},
     "output_type": "execute_result"
    }
   ],
   "source": [
    "ios_gen_per.index[:10]"
   ]
  },
  {
   "cell_type": "code",
   "execution_count": 20,
   "metadata": {},
   "outputs": [
    {
     "data": {
      "image/png": "[encoded data removed]",
      "text/plain": [
       "<Figure size 432x288 with 1 Axes>"
      ]
     },
     "metadata": {
      "needs_background": "light"
     },
     "output_type": "display_data"
    }
   ],
   "source": [
    "colors = [(114/255, 158/255, 206/255), (255/255, 158/255, 74/255), (103/255, 191/255, 92/255), (237/255, 102/255, 93/255), (173/255, 139/255, 201/255), (109/255, 204/255, 218/255), (205/255, 204/255, 93/255), (162/255, 162/255, 162/255), (237/255, 151/255, 202/255), (168/255, 120/255, 110/255)]\n",
    "\n",
    "\n",
    "fig, ax = plt.subplots()\n",
    "ax.bar(x=ios_gen_per.index[:10], height=ios_gen_per[:10], color=colors)\n",
    "ax.tick_params(bottom=False, top=False, left=False, right=False, labelsize=12, rotation=90)\n",
    "ax.set_yticks([30, 60])\n",
    "ax.set_title('iOS Genre %')\n",
    "for kew, spine in ax.spines.items():\n",
    "    spine.set_visible(False)\n",
    "    \n",
    "plt.show()"
   ]
  },
  {
   "cell_type": "markdown",
   "metadata": {},
   "source": [
    "We can easily see the games dominate the English free apps market (58.16%). Entertaiment apps are close to 8% while Photo & Video apps do not reach 5%. Education (3,66%) and Social Networking (3.28%) end the top five. However, it is not yet possible to take any conclusions from this because the fact that there is a large number of apps for a particular genre does not imply that genre has a large number of users. The demand might not be as large as the offer and, also, a large offer creates a more tough market to succeed.\n",
    "\n",
    "Now, let's take a look in the Google Play data set. For that, we'll analyse two colunms that seem to be related: the 'Category' and 'Genres' colunms."
   ]
  },
  {
   "cell_type": "code",
   "execution_count": 21,
   "metadata": {},
   "outputs": [
    {
     "name": "stdout",
     "output_type": "stream",
     "text": [
      "FAMILY                 18.93\n",
      "GAME                    9.69\n",
      "TOOLS                   8.45\n",
      "BUSINESS                4.59\n",
      "LIFESTYLE               3.90\n",
      "PRODUCTIVITY            3.89\n",
      "FINANCE                 3.70\n",
      "MEDICAL                 3.52\n",
      "SPORTS                  3.40\n",
      "PERSONALIZATION         3.32\n",
      "COMMUNICATION           3.24\n",
      "HEALTH_AND_FITNESS      3.08\n",
      "PHOTOGRAPHY             2.95\n",
      "NEWS_AND_MAGAZINES      2.80\n",
      "SOCIAL                  2.66\n",
      "TRAVEL_AND_LOCAL        2.34\n",
      "SHOPPING                2.25\n",
      "BOOKS_AND_REFERENCE     2.14\n",
      "DATING                  1.86\n",
      "VIDEO_PLAYERS           1.79\n",
      "MAPS_AND_NAVIGATION     1.40\n",
      "FOOD_AND_DRINK          1.24\n",
      "EDUCATION               1.17\n",
      "ENTERTAINMENT           0.96\n",
      "LIBRARIES_AND_DEMO      0.94\n",
      "AUTO_AND_VEHICLES       0.93\n",
      "HOUSE_AND_HOME          0.82\n",
      "WEATHER                 0.80\n",
      "EVENTS                  0.71\n",
      "PARENTING               0.65\n",
      "ART_AND_DESIGN          0.64\n",
      "COMICS                  0.62\n",
      "BEAUTY                  0.60\n",
      "Name: Category, dtype: float64\n"
     ]
    }
   ],
   "source": [
    "android_cat_per = android_free['Category'].value_counts() / android_free.shape[0] * 100 \n",
    "print(round(android_cat_per, 2))"
   ]
  },
  {
   "cell_type": "code",
   "execution_count": 22,
   "metadata": {},
   "outputs": [
    {
     "data": {
      "image/png": "[encoded data removed]",
      "text/plain": [
       "<Figure size 432x288 with 1 Axes>"
      ]
     },
     "metadata": {
      "needs_background": "light"
     },
     "output_type": "display_data"
    }
   ],
   "source": [
    "fig, ax = plt.subplots()\n",
    "ax.bar(x=android_cat_per.index[:10], height=android_cat_per[:10], color=colors)\n",
    "ax.tick_params(bottom=False, top=False, left=False, right=False, labelsize=12, rotation=90)\n",
    "ax.set_yticks([10, 20])\n",
    "ax.set_title('Android Category %')\n",
    "for kew, spine in ax.spines.items():\n",
    "    spine.set_visible(False)\n",
    "    \n",
    "plt.show()"
   ]
  },
  {
   "cell_type": "code",
   "execution_count": 23,
   "metadata": {
    "scrolled": true
   },
   "outputs": [
    {
     "name": "stdout",
     "output_type": "stream",
     "text": [
      "Tools                         8.44\n",
      "Entertainment                 6.07\n",
      "Education                     5.35\n",
      "Business                      4.59\n",
      "Lifestyle                     3.89\n",
      "                              ... \n",
      "Lifestyle;Pretend Play        0.01\n",
      "Tools;Education               0.01\n",
      "Health & Fitness;Education    0.01\n",
      "Puzzle;Education              0.01\n",
      "Simulation;Education          0.01\n",
      "Name: Genres, Length: 115, dtype: float64\n"
     ]
    }
   ],
   "source": [
    "android_gen_per = android_free['Genres'].value_counts() / android_free.shape[0] * 100\n",
    "print(round(android_gen_per, 2))"
   ]
  },
  {
   "cell_type": "code",
   "execution_count": 24,
   "metadata": {},
   "outputs": [
    {
     "data": {
      "image/png": "[encoded data removed]",
      "text/plain": [
       "<Figure size 432x288 with 1 Axes>"
      ]
     },
     "metadata": {
      "needs_background": "light"
     },
     "output_type": "display_data"
    }
   ],
   "source": [
    "fig, ax = plt.subplots()\n",
    "ax.bar(x=android_gen_per.index[:10], height=android_gen_per[:10], color=colors)\n",
    "ax.tick_params(bottom=False, top=False, left=False, right=False, labelsize=12, rotation=90)\n",
    "ax.set_yticks([5, 10])\n",
    "ax.set_title('Android Genre %')\n",
    "for kew, spine in ax.spines.items():\n",
    "    spine.set_visible(False)\n",
    "    \n",
    "plt.show()"
   ]
  },
  {
   "cell_type": "markdown",
   "metadata": {},
   "source": [
    "The scenario is completely different for the Google Play dataset as its market is more equally divided among the categories and genres than the iOS market, altough the Family category corresponds to almost 19% of the apps. Games (9.72%), Tools (8.46%), Business (4.59%) and Lifestyle (3.90%) end a diversified top five. The Android database also seems to have more apps designed for practical life purposes than just for gaming.\n",
    "Considering only the 'Genres' colunm, it has a lot more categories, which makes it harder to analyse and take conclusions from. That's why from now on we'll only consider the 'Category' colunm for the Android apps."
   ]
  },
  {
   "cell_type": "markdown",
   "metadata": {},
   "source": [
    "### Most popular apps by genre in the App Store\n",
    "\n",
    "As the iOS dataset does not contains the number of installs for each app, we'll use the number rating count to mesaure the app's popularity. So, let's see the average rating count for each genre."
   ]
  },
  {
   "cell_type": "code",
   "execution_count": 25,
   "metadata": {},
   "outputs": [
    {
     "name": "stdout",
     "output_type": "stream",
     "text": [
      "prime_genre\n",
      "Navigation           86090.33\n",
      "Reference            74942.11\n",
      "Social Networking    71548.35\n",
      "Music                57326.53\n",
      "Weather              52279.89\n",
      "Book                 39758.50\n",
      "Food & Drink         33333.92\n",
      "Finance              31467.94\n",
      "Photo & Video        28441.54\n",
      "Travel               28243.80\n",
      "Shopping             26919.69\n",
      "Health & Fitness     23298.02\n",
      "Sports               23008.90\n",
      "Games                22788.67\n",
      "News                 21248.02\n",
      "Productivity         21028.41\n",
      "Utilities            18684.46\n",
      "Lifestyle            16485.76\n",
      "Entertainment        14029.83\n",
      "Business              7491.12\n",
      "Education             7003.98\n",
      "Catalogs              4004.00\n",
      "Medical                612.00\n",
      "Name: rating_count_tot, dtype: float64\n"
     ]
    }
   ],
   "source": [
    "ios_gen_rat = ios_free.groupby('prime_genre')['rating_count_tot'].mean().sort_values(ascending=False)\n",
    "print(round(ios_gen_rat, 2))"
   ]
  },
  {
   "cell_type": "markdown",
   "metadata": {},
   "source": [
    "We can see that navigation apps have the highest number of user reviews in average, followed by reference and social networking apps averaging over 70,000 reviews per app. However, we should check how concentrated are these reviews in one or two big apps. For that, we'll display the average rating count per app in each of the top three categories."
   ]
  },
  {
   "cell_type": "code",
   "execution_count": 26,
   "metadata": {},
   "outputs": [
    {
     "name": "stdout",
     "output_type": "stream",
     "text": [
      "Navigation\n",
      "\n",
      "\n",
      "track_name\n",
      "CoPilot GPS – Car Navigation & Offline Maps           3582\n",
      "Geocaching®                                          12811\n",
      "Google Maps - Navigation & Transit                  154911\n",
      "ImmobilienScout24: Real Estate Search in Germany       187\n",
      "Railway Route Search                                     5\n",
      "Waze - GPS Navigation, Maps & Real-time Traffic     345046\n",
      "Name: rating_count_tot, dtype: int64\n",
      "\n",
      "\n",
      "Reference\n",
      "\n",
      "\n",
      "track_name\n",
      "Bible                                                                                                 985920\n",
      "City Maps for Minecraft PE - The Best Maps for Minecraft Pocket Edition (MCPE)                          8535\n",
      "Dictionary.com Dictionary & Thesaurus                                                                 200047\n",
      "Dictionary.com Dictionary & Thesaurus for iPad                                                         54175\n",
      "GUNS MODS for Minecraft PC Edition - Mods Tools                                                         1497\n",
      "Google Translate                                                                                       26786\n",
      "Guides for Pokémon GO - Pokemon GO News and Cheats                                                       826\n",
      "Horror Maps for Minecraft PE - Download The Scariest Maps for Minecraft Pocket Edition (MCPE) Free       718\n",
      "Jishokun-Japanese English Dictionary & Translator                                                          0\n",
      "LUCKY BLOCK MOD ™ for Minecraft PC Edition - The Best Pocket Wiki & Mods Installer Tools                4693\n",
      "Merriam-Webster Dictionary                                                                             16849\n",
      "Muslim Pro: Ramadan 2017 Prayer Times, Azan, Quran                                                     18418\n",
      "New Furniture Mods - Pocket Wiki & Game Tools for Minecraft PC Edition                                 17588\n",
      "Night Sky                                                                                              12122\n",
      "Real Bike Traffic Rider Virtual Reality Glasses                                                            8\n",
      "VPN Express                                                                                               14\n",
      "WWDC                                                                                                     762\n",
      "教えて!goo                                                                                                    0\n",
      "Name: rating_count_tot, dtype: int64\n",
      "\n",
      "\n",
      "Social Networking\n",
      "\n",
      "\n",
      "track_name\n",
      "After School - Funny Anonymous School News           18482\n",
      "All Devices for WhatsApp - Messenger for iPad          682\n",
      "Ameba                                                  269\n",
      "BOO! - Video chat camera with filters & stickers      1805\n",
      "Badoo - Meet New People, Chat, Socialize.            34428\n",
      "                                                     ...  \n",
      "live.ly - live video streaming                        4145\n",
      "niconico ch                                              0\n",
      "ooVoo – Free Video Call, Text and Voice             177501\n",
      "知乎                                                     397\n",
      "豆瓣                                                     407\n",
      "Name: rating_count_tot, Length: 106, dtype: int64\n",
      "\n",
      "\n"
     ]
    }
   ],
   "source": [
    "for gen in ios_gen_rat.index[:3]:\n",
    "    df = ios_free[ios_free['prime_genre'] ==  gen]\n",
    "    print(gen)\n",
    "    print('\\n')\n",
    "    print(df.groupby('track_name')['rating_count_tot'].mean())\n",
    "    print('\\n')"
   ]
  },
  {
   "cell_type": "markdown",
   "metadata": {},
   "source": [
    "As we can see, the navigation and social networking apps are dominated by few famous apps. Navigation for instance has almost half a million reviews just for Waze and Google Maps. That is why we should consider reference apps as a good option here. This genre reviews are much influenced by the bible app, however this shoud not be a problem since the its number of reviews is so much greater than the others that makes reference apps a one-app genre, which show us a potencial room for new apps to succceed.\n",
    "\n",
    "We could use the Bible as an example to be replicated with a different famous book, adding new features and making the app even more interactive to the user."
   ]
  },
  {
   "cell_type": "markdown",
   "metadata": {},
   "source": [
    "### Most popular apps by genre on Google Play\n",
    "\n",
    "The Google Play database gives us data about the number of installs for each app. However, we can see that most values are open-ended (100+, 1,000+, 5,000+, etc.) which make it look less precise.\n"
   ]
  },
  {
   "cell_type": "code",
   "execution_count": 27,
   "metadata": {},
   "outputs": [
    {
     "data": {
      "text/plain": [
       "1,000,000+        1395\n",
       "100,000+          1024\n",
       "10,000,000+        932\n",
       "10,000+            904\n",
       "1,000+             744\n",
       "100+               613\n",
       "5,000,000+         606\n",
       "500,000+           494\n",
       "50,000+            423\n",
       "5,000+             400\n",
       "10+                314\n",
       "500+               288\n",
       "50,000,000+        203\n",
       "100,000,000+       188\n",
       "50+                170\n",
       "5+                  70\n",
       "1+                  45\n",
       "500,000,000+        24\n",
       "1,000,000,000+      20\n",
       "0+                   4\n",
       "Name: Installs, dtype: int64"
      ]
     },
     "execution_count": 27,
     "metadata": {},
     "output_type": "execute_result"
    }
   ],
   "source": [
    "android_inst = android_free['Installs'].value_counts()\n",
    "android_inst.sort_values(ascending=False)"
   ]
  },
  {
   "cell_type": "markdown",
   "metadata": {},
   "source": [
    "We only intend to get an ideia of which genres attract the most users, therefore we do not need this data to be absolutely precise. We'll then consider that an app with 100,000+ installs has 100,000 installs, and an app with 1,000,000+ installs has 1,000,000 installs, and so on.\n",
    "\n",
    "During this process we'll need to convert the number of reviews to float.\n",
    "\n",
    "We'll then display the average number of intalls for each category."
   ]
  },
  {
   "cell_type": "code",
   "execution_count": 28,
   "metadata": {},
   "outputs": [
    {
     "name": "stdout",
     "output_type": "stream",
     "text": [
      "Category\n",
      "COMMUNICATION          38456119.17\n",
      "VIDEO_PLAYERS          24727872.45\n",
      "SOCIAL                 23253652.13\n",
      "PHOTOGRAPHY            17805627.64\n",
      "PRODUCTIVITY           16787331.34\n",
      "GAME                   15560965.60\n",
      "TRAVEL_AND_LOCAL       13984077.71\n",
      "ENTERTAINMENT          11640705.88\n",
      "TOOLS                  10682301.03\n",
      "NEWS_AND_MAGAZINES      9549178.47\n",
      "BOOKS_AND_REFERENCE     8767811.89\n",
      "SHOPPING                7036877.31\n",
      "PERSONALIZATION         5201482.61\n",
      "WEATHER                 5074486.20\n",
      "HEALTH_AND_FITNESS      4188821.99\n",
      "MAPS_AND_NAVIGATION     4056941.77\n",
      "FAMILY                  3696479.24\n",
      "SPORTS                  3638640.14\n",
      "ART_AND_DESIGN          1986335.09\n",
      "FOOD_AND_DRINK          1924897.74\n",
      "EDUCATION               1820673.08\n",
      "BUSINESS                1712290.15\n",
      "LIFESTYLE               1437816.27\n",
      "FINANCE                 1387692.48\n",
      "HOUSE_AND_HOME          1331540.56\n",
      "DATING                   854028.83\n",
      "COMICS                   817657.27\n",
      "AUTO_AND_VEHICLES        647317.82\n",
      "LIBRARIES_AND_DEMO       638503.73\n",
      "PARENTING                542603.62\n",
      "BEAUTY                   513151.89\n",
      "EVENTS                   253542.22\n",
      "MEDICAL                  120616.49\n",
      "Name: Installs, dtype: float64\n"
     ]
    }
   ],
   "source": [
    "# MOdifying the Installs column\n",
    "android_free.loc[:,'Installs'] = android_free.loc[:,'Installs'].str.replace('+','')\n",
    "android_free.loc[:,'Installs'] = android_free['Installs'].str.replace(',','')\n",
    "android_free.loc[:,'Installs'] = android_free['Installs'].astype(float)\n",
    "\n",
    "# Calculating the average per category\n",
    "android_cat_inst = android_free.groupby('Category')['Installs'].mean()\n",
    "print(round(android_cat_inst, 2).sort_values(ascending=False))"
   ]
  },
  {
   "cell_type": "markdown",
   "metadata": {},
   "source": [
    "Communication, Video Players and social apps dominate the Google Play market. We know however that this catgories are already built around some huge apps like Facebook, Whatsapp and YouTube. Considering that and that we suggested the Reference genre as good option for the iOS market, we should take a look at the Book and Reference category."
   ]
  },
  {
   "cell_type": "code",
   "execution_count": 29,
   "metadata": {},
   "outputs": [
    {
     "name": "stdout",
     "output_type": "stream",
     "text": [
      "(190, 13)\n"
     ]
    },
    {
     "data": {
      "text/plain": [
       "App\n",
       "50000 Free eBooks & Free AudioBooks                 5000000.0\n",
       "A-J Media Vault                                          50.0\n",
       "AC Air condition Troubleshoot,Repair,Maintenance       5000.0\n",
       "AE Bulletins                                           1000.0\n",
       "AP Stamps and Registration                            10000.0\n",
       "                                                      ...    \n",
       "bp e-store                                             1000.0\n",
       "cloudLibrary                                         100000.0\n",
       "eBoox new: Reader for fb2 epub zip books              50000.0\n",
       "eBoox: book reader fb2 epub zip                     1000000.0\n",
       "wikiHow: how to do anything                         1000000.0\n",
       "Name: Installs, Length: 190, dtype: float64"
      ]
     },
     "execution_count": 29,
     "metadata": {},
     "output_type": "execute_result"
    }
   ],
   "source": [
    "# Creating a dataframe with only the \"Books and References\" category\n",
    "android_books = android_free.loc[android['Category'] == 'BOOKS_AND_REFERENCE'].copy()\n",
    "\n",
    "# Checking the number of apps in the new dataframe\n",
    "print(android_books.shape)\n",
    "\n",
    "# Calculating the number of installs per app\n",
    "books_install = android_books.groupby('App')['Installs'].sum()\n",
    "books_install"
   ]
  },
  {
   "cell_type": "markdown",
   "metadata": {},
   "source": [
    "We now know that there are 190 apps in this category. Let's chack how many of them have over 100,000,000 installs."
   ]
  },
  {
   "cell_type": "code",
   "execution_count": 30,
   "metadata": {},
   "outputs": [
    {
     "data": {
      "text/html": [
       "<div>\n",
       "<style scoped>\n",
       "    .dataframe tbody tr th:only-of-type {\n",
       "        vertical-align: middle;\n",
       "    }\n",
       "\n",
       "    .dataframe tbody tr th {\n",
       "        vertical-align: top;\n",
       "    }\n",
       "\n",
       "    .dataframe thead th {\n",
       "        text-align: right;\n",
       "    }\n",
       "</style>\n",
       "<table border=\"1\" class=\"dataframe\">\n",
       "  <thead>\n",
       "    <tr style=\"text-align: right;\">\n",
       "      <th></th>\n",
       "      <th>App</th>\n",
       "      <th>Category</th>\n",
       "      <th>Rating</th>\n",
       "      <th>Reviews</th>\n",
       "      <th>Size</th>\n",
       "      <th>Installs</th>\n",
       "      <th>Type</th>\n",
       "      <th>Price</th>\n",
       "      <th>Content Rating</th>\n",
       "      <th>Genres</th>\n",
       "      <th>Last Updated</th>\n",
       "      <th>Current Ver</th>\n",
       "      <th>Android Ver</th>\n",
       "    </tr>\n",
       "  </thead>\n",
       "  <tbody>\n",
       "    <tr>\n",
       "      <td>144</td>\n",
       "      <td>Google Play Books</td>\n",
       "      <td>BOOKS_AND_REFERENCE</td>\n",
       "      <td>3.9</td>\n",
       "      <td>1433233</td>\n",
       "      <td>Varies with device</td>\n",
       "      <td>1.000000e+09</td>\n",
       "      <td>Free</td>\n",
       "      <td>0</td>\n",
       "      <td>Teen</td>\n",
       "      <td>Books &amp; Reference</td>\n",
       "      <td>August 3, 2018</td>\n",
       "      <td>Varies with device</td>\n",
       "      <td>Varies with device</td>\n",
       "    </tr>\n",
       "    <tr>\n",
       "      <td>2981</td>\n",
       "      <td>Bible</td>\n",
       "      <td>BOOKS_AND_REFERENCE</td>\n",
       "      <td>4.7</td>\n",
       "      <td>2440695</td>\n",
       "      <td>Varies with device</td>\n",
       "      <td>1.000000e+08</td>\n",
       "      <td>Free</td>\n",
       "      <td>0</td>\n",
       "      <td>Teen</td>\n",
       "      <td>Books &amp; Reference</td>\n",
       "      <td>August 2, 2018</td>\n",
       "      <td>Varies with device</td>\n",
       "      <td>Varies with device</td>\n",
       "    </tr>\n",
       "    <tr>\n",
       "      <td>3090</td>\n",
       "      <td>Amazon Kindle</td>\n",
       "      <td>BOOKS_AND_REFERENCE</td>\n",
       "      <td>4.2</td>\n",
       "      <td>814151</td>\n",
       "      <td>Varies with device</td>\n",
       "      <td>1.000000e+08</td>\n",
       "      <td>Free</td>\n",
       "      <td>0</td>\n",
       "      <td>Teen</td>\n",
       "      <td>Books &amp; Reference</td>\n",
       "      <td>July 27, 2018</td>\n",
       "      <td>Varies with device</td>\n",
       "      <td>Varies with device</td>\n",
       "    </tr>\n",
       "    <tr>\n",
       "      <td>3654</td>\n",
       "      <td>Wattpad 📖 Free Books</td>\n",
       "      <td>BOOKS_AND_REFERENCE</td>\n",
       "      <td>4.6</td>\n",
       "      <td>2915189</td>\n",
       "      <td>Varies with device</td>\n",
       "      <td>1.000000e+08</td>\n",
       "      <td>Free</td>\n",
       "      <td>0</td>\n",
       "      <td>Teen</td>\n",
       "      <td>Books &amp; Reference</td>\n",
       "      <td>August 1, 2018</td>\n",
       "      <td>Varies with device</td>\n",
       "      <td>Varies with device</td>\n",
       "    </tr>\n",
       "    <tr>\n",
       "      <td>4542</td>\n",
       "      <td>Audiobooks from Audible</td>\n",
       "      <td>BOOKS_AND_REFERENCE</td>\n",
       "      <td>4.5</td>\n",
       "      <td>568922</td>\n",
       "      <td>Varies with device</td>\n",
       "      <td>1.000000e+08</td>\n",
       "      <td>Free</td>\n",
       "      <td>0</td>\n",
       "      <td>Teen</td>\n",
       "      <td>Books &amp; Reference</td>\n",
       "      <td>August 1, 2018</td>\n",
       "      <td>Varies with device</td>\n",
       "      <td>Varies with device</td>\n",
       "    </tr>\n",
       "  </tbody>\n",
       "</table>\n",
       "</div>"
      ],
      "text/plain": [
       "                          App             Category  Rating  Reviews  \\\n",
       "144         Google Play Books  BOOKS_AND_REFERENCE     3.9  1433233   \n",
       "2981                    Bible  BOOKS_AND_REFERENCE     4.7  2440695   \n",
       "3090            Amazon Kindle  BOOKS_AND_REFERENCE     4.2   814151   \n",
       "3654     Wattpad 📖 Free Books  BOOKS_AND_REFERENCE     4.6  2915189   \n",
       "4542  Audiobooks from Audible  BOOKS_AND_REFERENCE     4.5   568922   \n",
       "\n",
       "                    Size      Installs  Type Price Content Rating  \\\n",
       "144   Varies with device  1.000000e+09  Free     0           Teen   \n",
       "2981  Varies with device  1.000000e+08  Free     0           Teen   \n",
       "3090  Varies with device  1.000000e+08  Free     0           Teen   \n",
       "3654  Varies with device  1.000000e+08  Free     0           Teen   \n",
       "4542  Varies with device  1.000000e+08  Free     0           Teen   \n",
       "\n",
       "                 Genres    Last Updated         Current Ver  \\\n",
       "144   Books & Reference  August 3, 2018  Varies with device   \n",
       "2981  Books & Reference  August 2, 2018  Varies with device   \n",
       "3090  Books & Reference   July 27, 2018  Varies with device   \n",
       "3654  Books & Reference  August 1, 2018  Varies with device   \n",
       "4542  Books & Reference  August 1, 2018  Varies with device   \n",
       "\n",
       "             Android Ver  \n",
       "144   Varies with device  \n",
       "2981  Varies with device  \n",
       "3090  Varies with device  \n",
       "3654  Varies with device  \n",
       "4542  Varies with device  "
      ]
     },
     "execution_count": 30,
     "metadata": {},
     "output_type": "execute_result"
    }
   ],
   "source": [
    "android_books_100 = android_books.loc[android_books['Installs'] >= 100000000]\n",
    "android_books_100"
   ]
  },
  {
   "cell_type": "markdown",
   "metadata": {},
   "source": [
    "It looks like this category has just a few very popular apps and also a lot of the apps are software for processing and reading ebooks, dictionaries and libraries, which seems to show room for new apps to succeed. \n",
    "That's why a similiar ideia to that we suggested for the iOS market may have some potential here. Also, it is part of our goal to suggest the same app to be built for both the plataforms.\n",
    "Selecting a popular book an making an app out of it, with new features and user's interactions might be the way to go here."
   ]
  },
  {
   "cell_type": "markdown",
   "metadata": {},
   "source": [
    "# Conclusions\n",
    "\n",
    "In this project we expolored, cleaned and analysed data about the App Store and Google Play mobile apps with the goal of recommending an app profile that can be profitable for both markets.\n",
    "\n",
    "We conclued that creating an app out of a popular book could be profitable for both App Store and Google Play markets. This is big market that is not dominated by some huge very popular apps, also they are full of libraries and e-readers. That looks like a market where there is room for new app to become popular. Therefore, a fun interactive app about a book that lots of people care about could really draw some attention, especially if we use nice features and new forms of interation with the book's content. \n"
   ]
  }
 ],
 "metadata": {
  "kernelspec": {
   "display_name": "Python 3",
   "language": "python",
   "name": "python3"
  },
  "language_info": {
   "codemirror_mode": {
    "name": "ipython",
    "version": 3
   },
   "file_extension": ".py",
   "mimetype": "text/x-python",
   "name": "python",
   "nbconvert_exporter": "python",
   "pygments_lexer": "ipython3",
   "version": "3.7.4"
  },
  "varInspector": {
   "cols": {
    "lenName": 16,
    "lenType": 16,
    "lenVar": 40
   },
   "kernels_config": {
    "python": {
     "delete_cmd_postfix": "",
     "delete_cmd_prefix": "del ",
     "library": "var_list.py",
     "varRefreshCmd": "print(var_dic_list())"
    },
    "r": {
     "delete_cmd_postfix": ") ",
     "delete_cmd_prefix": "rm(",
     "library": "var_list.r",
     "varRefreshCmd": "cat(var_dic_list()) "
    }
   },
   "types_to_exclude": [
    "module",
    "function",
    "builtin_function_or_method",
    "instance",
    "_Feature"
   ],
   "window_display": false
  }
 },
 "nbformat": 4,
 "nbformat_minor": 2
}
