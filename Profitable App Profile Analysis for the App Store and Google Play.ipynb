{
 "cells": [
  {
   "cell_type": "markdown",
   "metadata": {},
   "source": [
    "# Profitable App Profile Analysis for the App Store and Google Play\n",
    "\n",
    "\n",
    "In this project we will analyse what makes an mobile app popular and how this could be in used in order to built more profitable apps. Our main goal is to come up with an app sugestion that cna be profitable fot both App Store and Google Play markets. The app should be free and make its profit out of advertising and because of that the we need to analyse the data to see what makes an app popular.\n",
    "\n",
    "As of September 2018, there were approximately 2 million iOS apps available on the App Store, and 2.1 million Android apps on Google Play.\n",
    "\n",
    "Collecting data for over four million apps requires a significant amount of time and money, so we'll try to analyze a sample of data instead. To avoid spending resources with collecting new data ourselves, we should first try to see whether we can find any relevant existing data at no cost. Luckily, these are two data sets that seem suitable for our purpose:\n",
    "\n",
    "A data set containing data about approximately ten thousand Android apps from Google Play. You can download the data set directly from [this link](https://www.kaggle.com/lava18/google-play-store-apps).\n",
    "\n",
    "A data set containing data about approximately seven thousand iOS apps from the App Store. You can download the data set directly from [this link](https://www.kaggle.com/ramamet4/app-store-apple-data-set-10k-apps).\n",
    "\n",
    "**Disclaimer: This is guided project from the DataQuest's 'Python for Data Science: Fundamentals' course developed by learning purposes. Although it may look like other projects made for the same reason, this project has some features of its own implemented by me. If you are going to read this project all the way, keep in mind that this is my first project of this kind.**"
   ]
  },
  {
   "cell_type": "markdown",
   "metadata": {},
   "source": [
    "## Opening the data\n",
    "\n",
    "We wil begin by opening both datasets usign the `open ()` and `reader()` "
   ]
  },
  {
   "cell_type": "code",
   "execution_count": 1,
   "metadata": {},
   "outputs": [],
   "source": [
    "from csv import reader\n",
    "#Opening the Apple Store data\n",
    "opened_file1 = open('AppleStore.csv', encoding='utf8')\n",
    "read_file1 = reader(opened_file1)\n",
    "ios = list(read_file1)\n",
    "ios_header = ios[0]\n",
    "ios_data = ios[1:]\n",
    "\n",
    "#Openning the Play Store data\n",
    "opened_file2 = open('googleplaystore.csv', encoding='utf8')\n",
    "read_file2 = reader(opened_file2)\n",
    "android = list(read_file2)\n",
    "android_header = android[0]\n",
    "android_data = android[1:]"
   ]
  },
  {
   "cell_type": "markdown",
   "metadata": {},
   "source": [
    "\n",
    "Now we're going to write a function to make the exploring of the data easier. A option to show the total number of rows and colunms is also included."
   ]
  },
  {
   "cell_type": "code",
   "execution_count": 29,
   "metadata": {},
   "outputs": [
    {
     "name": "stdout",
     "output_type": "stream",
     "text": [
      "['', 'id', 'track_name', 'size_bytes', 'currency', 'price', 'rating_count_tot', 'rating_count_ver', 'user_rating', 'user_rating_ver', 'ver', 'cont_rating', 'prime_genre', 'sup_devices.num', 'ipadSc_urls.num', 'lang.num', 'vpp_lic']\n",
      "\n",
      "\n",
      "['1', '281656475', 'PAC-MAN Premium', '100788224', 'USD', '3.99', '21292', '26', '4', '4.5', '6.3.5', '4+', 'Games', '38', '5', '10', '1']\n",
      "\n",
      "\n",
      "['2', '281796108', 'Evernote - stay organized', '158578688', 'USD', '0', '161065', '26', '4', '3.5', '8.2.2', '4+', 'Productivity', '37', '5', '23', '1']\n",
      "\n",
      "\n",
      "['3', '281940292', 'WeatherBug - Local Weather, Radar, Maps, Alerts', '100524032', 'USD', '0', '188583', '2822', '3.5', '4.5', '5.0.0', '4+', 'Weather', '37', '5', '3', '1']\n",
      "\n",
      "\n",
      "['4', '282614216', 'eBay: Best App to Buy, Sell, Save! Online Shopping', '128512000', 'USD', '0', '262241', '649', '4', '4.5', '5.10.0', '12+', 'Shopping', '37', '5', '9', '1']\n",
      "\n",
      "\n",
      "['5', '282935706', 'Bible', '92774400', 'USD', '0', '985920', '5320', '4.5', '5', '7.5.1', '4+', 'Reference', '37', '5', '45', '1']\n",
      "\n",
      "\n",
      "['6', '283619399', 'Shanghai Mahjong', '10485713', 'USD', '0.99', '8253', '5516', '4', '4', '1.8', '4+', 'Games', '47', '5', '1', '1']\n",
      "\n",
      "\n",
      "Total number of colunms:  17\n",
      "Total number of rows:  7197\n"
     ]
    }
   ],
   "source": [
    "def explore_data(data_set, start, end, rows_colunms=False):\n",
    "    sliced_dataset = data_set[start:end] #Slices the dataset\n",
    "    for row in sliced_dataset:\n",
    "        print(row)\n",
    "        print('\\n') \n",
    "    if rows_colunms:\n",
    "        print('Total number of colunms: ', len(data_set[0]))\n",
    "        print('Total number of rows: ', len(data_set))\n",
    "        \n",
    "print(ios_header)\n",
    "print('\\n')\n",
    "explore_data(ios_data, 0, 6, True)"
   ]
  },
  {
   "cell_type": "code",
   "execution_count": 3,
   "metadata": {},
   "outputs": [
    {
     "name": "stdout",
     "output_type": "stream",
     "text": [
      "['App', 'Category', 'Rating', 'Reviews', 'Size', 'Installs', 'Type', 'Price', 'Content Rating', 'Genres', 'Last Updated', 'Current Ver', 'Android Ver']\n",
      "\n",
      "\n",
      "['Photo Editor & Candy Camera & Grid & ScrapBook', 'ART_AND_DESIGN', '4.1', '159', '19M', '10,000+', 'Free', '0', 'Everyone', 'Art & Design', 'January 7, 2018', '1.0.0', '4.0.3 and up']\n",
      "\n",
      "\n",
      "['Coloring book moana', 'ART_AND_DESIGN', '3.9', '967', '14M', '500,000+', 'Free', '0', 'Everyone', 'Art & Design;Pretend Play', 'January 15, 2018', '2.0.0', '4.0.3 and up']\n",
      "\n",
      "\n",
      "['U Launcher Lite – FREE Live Cool Themes, Hide Apps', 'ART_AND_DESIGN', '4.7', '87510', '8.7M', '5,000,000+', 'Free', '0', 'Everyone', 'Art & Design', 'August 1, 2018', '1.2.4', '4.0.3 and up']\n",
      "\n",
      "\n",
      "['Sketch - Draw & Paint', 'ART_AND_DESIGN', '4.5', '215644', '25M', '50,000,000+', 'Free', '0', 'Teen', 'Art & Design', 'June 8, 2018', 'Varies with device', '4.2 and up']\n",
      "\n",
      "\n",
      "['Pixel Draw - Number Art Coloring Book', 'ART_AND_DESIGN', '4.3', '967', '2.8M', '100,000+', 'Free', '0', 'Everyone', 'Art & Design;Creativity', 'June 20, 2018', '1.1', '4.4 and up']\n",
      "\n",
      "\n",
      "['Paper flowers instructions', 'ART_AND_DESIGN', '4.4', '167', '5.6M', '50,000+', 'Free', '0', 'Everyone', 'Art & Design', 'March 26, 2017', '1.0', '2.3 and up']\n",
      "\n",
      "\n",
      "Total number of colunms:  13\n",
      "Total number of rows:  10841\n"
     ]
    }
   ],
   "source": [
    "print(android_header)\n",
    "print('\\n')\n",
    "explore_data(android_data,0 , 6, True)"
   ]
  },
  {
   "cell_type": "markdown",
   "metadata": {},
   "source": [
    "# Deleting wrong data\n",
    "\n",
    "It has been reported in the [Google Play data set dedicated discussion section](https://www.kaggle.com/lava18/google-play-store-apps/discussion/66015) that one of the rows (row 10472) is missing the 'Category' colunm, what makes all the other colunms to shift and because of that this row has less colunms than the it should have. We will print that row next with the android header and android first row, which is correct."
   ]
  },
  {
   "cell_type": "code",
   "execution_count": 4,
   "metadata": {},
   "outputs": [
    {
     "name": "stdout",
     "output_type": "stream",
     "text": [
      "['App', 'Category', 'Rating', 'Reviews', 'Size', 'Installs', 'Type', 'Price', 'Content Rating', 'Genres', 'Last Updated', 'Current Ver', 'Android Ver']\n",
      "\n",
      "\n",
      "['Life Made WI-Fi Touchscreen Photo Frame', '1.9', '19', '3.0M', '1,000+', 'Free', '0', 'Everyone', '', 'February 11, 2018', '1.0.19', '4.0 and up']\n",
      "\n",
      "\n",
      "['Photo Editor & Candy Camera & Grid & ScrapBook', 'ART_AND_DESIGN', '4.1', '159', '19M', '10,000+', 'Free', '0', 'Everyone', 'Art & Design', 'January 7, 2018', '1.0.0', '4.0.3 and up']\n"
     ]
    }
   ],
   "source": [
    "print(android_header) # Header\n",
    "print('\\n')\n",
    "print(android_data[10472]) # Incorrect row\n",
    "print('\\n')\n",
    "print(android_data[0]) # Correct row"
   ]
  },
  {
   "cell_type": "markdown",
   "metadata": {},
   "source": [
    "In order to verify if this mistake happens in any other row, we'll write a function that will compare the length of every row in each dataset to the length of the data set's header."
   ]
  },
  {
   "cell_type": "code",
   "execution_count": 5,
   "metadata": {},
   "outputs": [
    {
     "name": "stdout",
     "output_type": "stream",
     "text": [
      "['Life Made WI-Fi Touchscreen Photo Frame', '1.9', '19', '3.0M', '1,000+', 'Free', '0', 'Everyone', '', 'February 11, 2018', '1.0.19', '4.0 and up']\n"
     ]
    }
   ],
   "source": [
    "def checking_rows(dataset):\n",
    "    count = 0\n",
    "    for row in dataset:\n",
    "        if len(row) != len(dataset[0]):\n",
    "            print(row)\n",
    "                \n",
    "                \n",
    "checking_rows(android)\n",
    "checking_rows(ios)"
   ]
  },
  {
   "cell_type": "markdown",
   "metadata": {},
   "source": [
    "Now we can be sure that row 10472 of the Google Store database is the only wrong row. We'll now delete it."
   ]
  },
  {
   "cell_type": "code",
   "execution_count": 6,
   "metadata": {},
   "outputs": [
    {
     "name": "stdout",
     "output_type": "stream",
     "text": [
      "10841\n",
      "10840\n"
     ]
    }
   ],
   "source": [
    "print(len(android_data))\n",
    "del android_data[10472] # This line cannot be executed twice\n",
    "print(len(android_data))"
   ]
  },
  {
   "cell_type": "markdown",
   "metadata": {},
   "source": [
    "# Duplicates\n",
    "\n",
    "\n",
    "We'll now check both databases in order to find if they present duplicate data. This task willbe divided in two steps. First, we are going to check if there is duplicate data and then we'll delete it.\n",
    "\n",
    "\n",
    "### First Step\n",
    "\n",
    "We will wirte a function tha will use a `for` loop to check every row in the dataset and assign them a to list of unique app or to a list of duplicated apps.\n"
   ]
  },
  {
   "cell_type": "code",
   "execution_count": 7,
   "metadata": {},
   "outputs": [
    {
     "name": "stdout",
     "output_type": "stream",
     "text": [
      "Number of android duplicated data:  1181\n",
      "Number of iOS duplicated data:  0\n"
     ]
    }
   ],
   "source": [
    "def duplicates(dataset):\n",
    "    unique_data = []\n",
    "    duplicated_data = []\n",
    "    for row in dataset:\n",
    "        name = row[0]\n",
    "        if name in unique_data:\n",
    "            duplicated_data.append(name)\n",
    "        else:\n",
    "            unique_data.append(name)\n",
    "    return duplicated_data\n",
    "\n",
    "duplicated_android = duplicates(android_data)\n",
    "duplicated_ios = duplicates(ios_data)\n",
    "print('Number of android duplicated data: ', len(duplicated_android))\n",
    "print('Number of iOS duplicated data: ', len(duplicated_ios))"
   ]
  },
  {
   "cell_type": "markdown",
   "metadata": {},
   "source": [
    "There are 1181 duplicated apps in the android database and none in the IOS database."
   ]
  },
  {
   "cell_type": "code",
   "execution_count": 8,
   "metadata": {},
   "outputs": [
    {
     "name": "stdout",
     "output_type": "stream",
     "text": [
      "Example of duplicated data: \n",
      "\n",
      " ['Quick PDF Scanner + OCR FREE', 'Box', 'Google My Business', 'ZOOM Cloud Meetings', 'join.me - Simple Meetings', 'Box', 'Zenefits', 'Google Ads', 'Google My Business', 'Slack', 'FreshBooks Classic', 'Insightly CRM', 'QuickBooks Accounting: Invoicing & Expenses', 'HipChat - Chat Built for Teams', 'Xero Accounting Software', 'MailChimp - Email, Marketing Automation']\n"
     ]
    }
   ],
   "source": [
    "print('Example of duplicated data: \\n\\n', duplicated_android[:16])"
   ]
  },
  {
   "cell_type": "markdown",
   "metadata": {},
   "source": [
    "### Second Step\n",
    "\n",
    "Using the Google Ads app as an example, we can see that the only difference between the duplicated data is in the fourth colunm, which correspond to the number of reviews. In order to not delete th eduplicated data randomly, we'll use this criteria to do it. For each duplicated app, we'll only keep only the row with the highest number of reviews because the higher the number, the most recent and reliable the ratings."
   ]
  },
  {
   "cell_type": "code",
   "execution_count": 9,
   "metadata": {},
   "outputs": [
    {
     "name": "stdout",
     "output_type": "stream",
     "text": [
      "['Google Ads', 'BUSINESS', '4.3', '29313', '20M', '5,000,000+', 'Free', '0', 'Everyone', 'Business', 'July 30, 2018', '1.12.0', '4.0.3 and up']\n",
      "['Google Ads', 'BUSINESS', '4.3', '29313', '20M', '5,000,000+', 'Free', '0', 'Everyone', 'Business', 'July 30, 2018', '1.12.0', '4.0.3 and up']\n",
      "['Google Ads', 'BUSINESS', '4.3', '29331', '20M', '5,000,000+', 'Free', '0', 'Everyone', 'Business', 'July 30, 2018', '1.12.0', '4.0.3 and up']\n"
     ]
    }
   ],
   "source": [
    "for row in android_data:\n",
    "    name = row[0]\n",
    "    if name == 'Google Ads':\n",
    "        print(row)"
   ]
  },
  {
   "cell_type": "markdown",
   "metadata": {},
   "source": [
    "In order to keep only the row with the highest numer of reviews for each duplicated data, we'll create a dictionary where each key is a unique app name, and the value is the highest number of reviews fo that app."
   ]
  },
  {
   "cell_type": "code",
   "execution_count": 10,
   "metadata": {},
   "outputs": [],
   "source": [
    "reviews_max = {}\n",
    "\n",
    "for row in android_data:\n",
    "    name = row[0]\n",
    "    n_reviews = float(row[3])\n",
    "    \n",
    "    if name in reviews_max:\n",
    "        if n_reviews > reviews_max[name]:\n",
    "            reviews_max[name] = n_reviews\n",
    "    else:\n",
    "        reviews_max[name] = n_reviews"
   ]
  },
  {
   "cell_type": "markdown",
   "metadata": {},
   "source": [
    "Now let's check if the dictionary length matches the total number of unique apps."
   ]
  },
  {
   "cell_type": "code",
   "execution_count": 11,
   "metadata": {},
   "outputs": [
    {
     "name": "stdout",
     "output_type": "stream",
     "text": [
      "Number of unique apps:  9659\n",
      "Dictionary length:  9659\n"
     ]
    }
   ],
   "source": [
    "print('Number of unique apps: ', len(android_data) - len(duplicated_android))\n",
    "print('Dictionary length: ', len(reviews_max))"
   ]
  },
  {
   "cell_type": "markdown",
   "metadata": {},
   "source": [
    "We'll now create a new android database with only the unique apps. For that we will initialize two empty lists, `android_clean` and `already_added`. We'll then loop through the android data set and, for each iteration, add the current row to the `android_clean` list and the app name to the `already_added` list if:\n",
    "   * The number o reviews of the current app matches the number of reviwes stored in the `reviews_max` dictonary:\n",
    "   * The name of the list is not in the `already_added` list, which would mean that this has already been added to the       `android_clean` list. That's importante because the highest number of reviews may not be unique for each duplicated app."
   ]
  },
  {
   "cell_type": "code",
   "execution_count": 12,
   "metadata": {},
   "outputs": [],
   "source": [
    "android_clean = []\n",
    "already_added = []\n",
    "\n",
    "for row in android_data:\n",
    "    name = row[0]\n",
    "    n_reviews = float(row[3])\n",
    "    \n",
    "    if reviews_max[name] == n_reviews and name not in already_added:\n",
    "        android_clean.append(row)\n",
    "        already_added.append(name)"
   ]
  },
  {
   "cell_type": "markdown",
   "metadata": {},
   "source": [
    "Let's quickly explore the new data set and check if its length matches the number of unique apps."
   ]
  },
  {
   "cell_type": "code",
   "execution_count": 13,
   "metadata": {},
   "outputs": [
    {
     "name": "stdout",
     "output_type": "stream",
     "text": [
      "['Photo Editor & Candy Camera & Grid & ScrapBook', 'ART_AND_DESIGN', '4.1', '159', '19M', '10,000+', 'Free', '0', 'Everyone', 'Art & Design', 'January 7, 2018', '1.0.0', '4.0.3 and up']\n",
      "\n",
      "\n",
      "['U Launcher Lite – FREE Live Cool Themes, Hide Apps', 'ART_AND_DESIGN', '4.7', '87510', '8.7M', '5,000,000+', 'Free', '0', 'Everyone', 'Art & Design', 'August 1, 2018', '1.2.4', '4.0.3 and up']\n",
      "\n",
      "\n",
      "['Sketch - Draw & Paint', 'ART_AND_DESIGN', '4.5', '215644', '25M', '50,000,000+', 'Free', '0', 'Teen', 'Art & Design', 'June 8, 2018', 'Varies with device', '4.2 and up']\n",
      "\n",
      "\n",
      "['Pixel Draw - Number Art Coloring Book', 'ART_AND_DESIGN', '4.3', '967', '2.8M', '100,000+', 'Free', '0', 'Everyone', 'Art & Design;Creativity', 'June 20, 2018', '1.1', '4.4 and up']\n",
      "\n",
      "\n",
      "['Paper flowers instructions', 'ART_AND_DESIGN', '4.4', '167', '5.6M', '50,000+', 'Free', '0', 'Everyone', 'Art & Design', 'March 26, 2017', '1.0', '2.3 and up']\n",
      "\n",
      "\n",
      "Total number of colunms:  13\n",
      "Total number of rows:  9659\n",
      "Number of unique apps:  9659\n"
     ]
    }
   ],
   "source": [
    "explore_data(android_clean, 0, 5, True)\n",
    "print('Number of unique apps: ', len(android_data) - len(duplicated_android))"
   ]
  },
  {
   "cell_type": "markdown",
   "metadata": {},
   "source": [
    "Duplicate apps removed successfully."
   ]
  },
  {
   "cell_type": "markdown",
   "metadata": {},
   "source": [
    "# Removing Non-Enlgish apps\n",
    "\n",
    "If you explore the data set long enoguh, you'll notice that the names of some apps suggest they are not directed to the english-speaking audience, as we can see in the examples below:"
   ]
  },
  {
   "cell_type": "code",
   "execution_count": 14,
   "metadata": {},
   "outputs": [
    {
     "name": "stdout",
     "output_type": "stream",
     "text": [
      "搜狐新闻—新闻热点资讯掌上阅读软件\n",
      "中国語 AQリスニング\n"
     ]
    }
   ],
   "source": [
    "print(ios_data[814][2])\n",
    "\n",
    "print(android_clean[4412][0])"
   ]
  },
  {
   "cell_type": "markdown",
   "metadata": {},
   "source": [
    "### First step\n",
    "\n",
    "As we're not interested in these apps, we will now write a function identify them. We'll take advantage of the [ASCII standard](https://pt.wikipedia.org/wiki/ASCII) and the built-in `ord()` to do it."
   ]
  },
  {
   "cell_type": "code",
   "execution_count": 15,
   "metadata": {},
   "outputs": [
    {
     "name": "stdout",
     "output_type": "stream",
     "text": [
      "True\n",
      "False\n"
     ]
    }
   ],
   "source": [
    "def is_english(a_string):\n",
    "    for characther in a_string:\n",
    "        if ord(characther) > 127:\n",
    "            return False\n",
    "    return True\n",
    "\n",
    "print(is_english('Facebook'))\n",
    "print(is_english('中国語 AQリスニング'))"
   ]
  },
  {
   "cell_type": "markdown",
   "metadata": {},
   "source": [
    "The function seems to be working just fine, but it still has some problems as it cannot identify some english app names as we can see in the example below:"
   ]
  },
  {
   "cell_type": "code",
   "execution_count": 16,
   "metadata": {},
   "outputs": [
    {
     "name": "stdout",
     "output_type": "stream",
     "text": [
      "False\n",
      "False\n"
     ]
    }
   ],
   "source": [
    "print(is_english('Docs To Go™ Free Office Suite'))\n",
    "print(is_english('Instachat 😜'))"
   ]
  },
  {
   "cell_type": "markdown",
   "metadata": {},
   "source": [
    "That happen because emoji and characters  like `™` are outside the ASCII range we determined. We'll then adapt `is_english` to return `False` only if the string has more than three characters that fall outside the ASCII range (0 - 127). That is necessary so we can minimiza the amount of data loss."
   ]
  },
  {
   "cell_type": "code",
   "execution_count": 17,
   "metadata": {},
   "outputs": [
    {
     "name": "stdout",
     "output_type": "stream",
     "text": [
      "True\n",
      "True\n",
      "True\n",
      "False\n"
     ]
    }
   ],
   "source": [
    "def is_english(a_string):\n",
    "    count = 0\n",
    "    for characther in a_string:\n",
    "        if ord(characther) > 127:\n",
    "            count += 1\n",
    "    if count > 3:\n",
    "        return False\n",
    "    return True\n",
    "\n",
    "print(is_english('Facebook'))\n",
    "print(is_english('Docs To Go™ Free Office Suite'))\n",
    "print(is_english('Instachat 😜'))\n",
    "print(is_english('中国語 AQリスニング'))"
   ]
  },
  {
   "cell_type": "markdown",
   "metadata": {},
   "source": [
    "Altough the function is not perfect, it is now good enough to minimize data loss during the cleaning process."
   ]
  },
  {
   "cell_type": "markdown",
   "metadata": {},
   "source": [
    "### Second step\n",
    "\n",
    "We will now take advantage of the `is_english` function to filter the non-english apps from both data sets."
   ]
  },
  {
   "cell_type": "code",
   "execution_count": 18,
   "metadata": {},
   "outputs": [
    {
     "name": "stdout",
     "output_type": "stream",
     "text": [
      "['Photo Editor & Candy Camera & Grid & ScrapBook', 'ART_AND_DESIGN', '4.1', '159', '19M', '10,000+', 'Free', '0', 'Everyone', 'Art & Design', 'January 7, 2018', '1.0.0', '4.0.3 and up']\n",
      "\n",
      "\n",
      "['U Launcher Lite – FREE Live Cool Themes, Hide Apps', 'ART_AND_DESIGN', '4.7', '87510', '8.7M', '5,000,000+', 'Free', '0', 'Everyone', 'Art & Design', 'August 1, 2018', '1.2.4', '4.0.3 and up']\n",
      "\n",
      "\n",
      "['Sketch - Draw & Paint', 'ART_AND_DESIGN', '4.5', '215644', '25M', '50,000,000+', 'Free', '0', 'Teen', 'Art & Design', 'June 8, 2018', 'Varies with device', '4.2 and up']\n",
      "\n",
      "\n",
      "['Pixel Draw - Number Art Coloring Book', 'ART_AND_DESIGN', '4.3', '967', '2.8M', '100,000+', 'Free', '0', 'Everyone', 'Art & Design;Creativity', 'June 20, 2018', '1.1', '4.4 and up']\n",
      "\n",
      "\n",
      "['Paper flowers instructions', 'ART_AND_DESIGN', '4.4', '167', '5.6M', '50,000+', 'Free', '0', 'Everyone', 'Art & Design', 'March 26, 2017', '1.0', '2.3 and up']\n",
      "\n",
      "\n",
      "Total number of colunms:  13\n",
      "Total number of rows:  9614\n",
      "\n",
      "\n",
      "['1', '281656475', 'PAC-MAN Premium', '100788224', 'USD', '3.99', '21292', '26', '4', '4.5', '6.3.5', '4+', 'Games', '38', '5', '10', '1']\n",
      "\n",
      "\n",
      "['2', '281796108', 'Evernote - stay organized', '158578688', 'USD', '0', '161065', '26', '4', '3.5', '8.2.2', '4+', 'Productivity', '37', '5', '23', '1']\n",
      "\n",
      "\n",
      "['3', '281940292', 'WeatherBug - Local Weather, Radar, Maps, Alerts', '100524032', 'USD', '0', '188583', '2822', '3.5', '4.5', '5.0.0', '4+', 'Weather', '37', '5', '3', '1']\n",
      "\n",
      "\n",
      "['4', '282614216', 'eBay: Best App to Buy, Sell, Save! Online Shopping', '128512000', 'USD', '0', '262241', '649', '4', '4.5', '5.10.0', '12+', 'Shopping', '37', '5', '9', '1']\n",
      "\n",
      "\n",
      "['5', '282935706', 'Bible', '92774400', 'USD', '0', '985920', '5320', '4.5', '5', '7.5.1', '4+', 'Reference', '37', '5', '45', '1']\n",
      "\n",
      "\n",
      "Total number of colunms:  17\n",
      "Total number of rows:  6183\n"
     ]
    }
   ],
   "source": [
    "android_en = []\n",
    "ios_en = []\n",
    "\n",
    "for row in android_clean:\n",
    "    name = row[0]\n",
    "    if is_english(name):\n",
    "        android_en.append(row)\n",
    "\n",
    "for row in ios_data:\n",
    "    name = row[2]\n",
    "    if is_english(name):\n",
    "        ios_en.append(row)\n",
    "\n",
    "explore_data(android_en, 0, 5, True)\n",
    "print('\\n')\n",
    "explore_data(ios_en, 0, 5, True)"
   ]
  },
  {
   "cell_type": "markdown",
   "metadata": {},
   "source": [
    "We're now left with 9614 Android apps and 6183 iOS apps."
   ]
  },
  {
   "cell_type": "markdown",
   "metadata": {},
   "source": [
    "# Filtering free apps\n",
    "\n",
    "For this project, we are only interested in analyzing the free apps. Therefore, we'll loop through both data sets and fill the `android_free` and `ios_free` lists with only free apps."
   ]
  },
  {
   "cell_type": "code",
   "execution_count": 19,
   "metadata": {},
   "outputs": [
    {
     "name": "stdout",
     "output_type": "stream",
     "text": [
      "Android free apps:  8864\n",
      "iOS free apps:  3222\n"
     ]
    }
   ],
   "source": [
    "android_free = []\n",
    "ios_free = []\n",
    "\n",
    "for row in android_en:\n",
    "    price = row[7]\n",
    "    if price == '0':\n",
    "        android_free.append(row)\n",
    "\n",
    "for row in ios_en:\n",
    "    price = float(row[5])\n",
    "    if price == 0:\n",
    "        ios_free.append(row)\n",
    "\n",
    "print('Android free apps: ', len(android_free))\n",
    "print('iOS free apps: ', len(ios_free))"
   ]
  },
  {
   "cell_type": "markdown",
   "metadata": {},
   "source": [
    "Finally, we're down to 8864 Android apps and 3222 iOS apps."
   ]
  },
  {
   "cell_type": "markdown",
   "metadata": {},
   "source": [
    "## Most popular apps by genre\n",
    "\n",
    "As mentioned in the introduction, the main goal of this project is dertermine what kind of app is more likely to attrac more users. That is important beacause the revenue of a free app comes basic from advertisement. Therefore, the higher the number of users, the higher the revenue.\n",
    "Considering that the end goal is to add the app both on Google Play and App Store, it is necessary to find app profiles that are successful in both markets. We'll start by analyzing the apps by genre.\n",
    "\n",
    "We'll build two functions to generate a frequency table of any colunm of tha data sets. The first one will actually creat the frequency table and second will display it in a descending order. Notice that by default the data will be diplayed in percentage, but it can also be displayed by the actual number of apps."
   ]
  },
  {
   "cell_type": "code",
   "execution_count": 20,
   "metadata": {},
   "outputs": [
    {
     "name": "stdout",
     "output_type": "stream",
     "text": [
      "Games : 58.16263190564867\n",
      "Entertainment : 7.883302296710118\n",
      "Photo & Video : 4.9658597144630665\n",
      "Education : 3.662321539416512\n",
      "Social Networking : 3.2898820608317814\n",
      "Shopping : 2.60707635009311\n",
      "Utilities : 2.5139664804469275\n",
      "Sports : 2.1415270018621975\n",
      "Music : 2.0484171322160147\n",
      "Health & Fitness : 2.0173805090006205\n",
      "Productivity : 1.7380509000620732\n",
      "Lifestyle : 1.5828677839851024\n",
      "News : 1.3345747982619491\n",
      "Travel : 1.2414649286157666\n",
      "Finance : 1.1173184357541899\n",
      "Weather : 0.8690254500310366\n",
      "Food & Drink : 0.8069522036002483\n",
      "Reference : 0.5586592178770949\n",
      "Business : 0.5276225946617008\n",
      "Book : 0.4345127250155183\n",
      "Navigation : 0.186219739292365\n",
      "Medical : 0.186219739292365\n",
      "Catalogs : 0.12414649286157665\n"
     ]
    }
   ],
   "source": [
    "def freq_table(dataset, index, percentage=True):\n",
    "    table = {}\n",
    "    for row in dataset:\n",
    "        value = row[index]\n",
    "        if value in table:\n",
    "            table[value] += 1\n",
    "        else:\n",
    "            table[value] = 1\n",
    "    if not percentage:\n",
    "        return table\n",
    "    else:\n",
    "        percent_table = {}\n",
    "        for line in table:\n",
    "            percent = (table[line] / len(dataset)) * 100\n",
    "            percent_table[line] = percent\n",
    "        return percent_table\n",
    "table_ios = freq_table(ios_free, 12, True)\n",
    "    \n",
    "def display_table(table):   \n",
    "    table_display = []\n",
    "    for key in table:\n",
    "        key_tuple = (table[key], key)\n",
    "        table_display.append(key_tuple)\n",
    "    table_sorted = sorted(table_display, reverse=True)\n",
    "    for tuple in table_sorted:\n",
    "        print(tuple[1], ':', tuple[0])\n",
    "\n",
    "display_table(table_ios)"
   ]
  },
  {
   "cell_type": "markdown",
   "metadata": {},
   "source": [
    "We can easily see the games dominate the English free apps market (58.16%). Entertaiment apps are close to 8% while Photo & Video apps do not reach 5%. Education (3,66%) and Social Networking (3.28%) and the top five. However, it is not yet possible to take any conlusions form this because the fact that there is a large number of apps for a particular genre does not imply that genre has a large number of users. The damand might not be as large as the offer and, also, a large offer creates a more tough market to succeed.\n",
    "\n",
    "Now, let's take a look in the Google Play data set. For that, we'll analyse two colunms that seem to be related: the 'Category' and 'Genres' colunms."
   ]
  },
  {
   "cell_type": "code",
   "execution_count": 21,
   "metadata": {},
   "outputs": [
    {
     "name": "stdout",
     "output_type": "stream",
     "text": [
      "FAMILY : 18.907942238267147\n",
      "GAME : 9.724729241877256\n",
      "TOOLS : 8.461191335740072\n",
      "BUSINESS : 4.591606498194946\n",
      "LIFESTYLE : 3.9034296028880866\n",
      "PRODUCTIVITY : 3.892148014440433\n",
      "FINANCE : 3.7003610108303246\n",
      "MEDICAL : 3.531137184115524\n",
      "SPORTS : 3.395758122743682\n",
      "PERSONALIZATION : 3.3167870036101084\n",
      "COMMUNICATION : 3.2378158844765346\n",
      "HEALTH_AND_FITNESS : 3.0798736462093865\n",
      "PHOTOGRAPHY : 2.944494584837545\n",
      "NEWS_AND_MAGAZINES : 2.7978339350180503\n",
      "SOCIAL : 2.6624548736462095\n",
      "TRAVEL_AND_LOCAL : 2.33528880866426\n",
      "SHOPPING : 2.2450361010830324\n",
      "BOOKS_AND_REFERENCE : 2.1435018050541514\n",
      "DATING : 1.861462093862816\n",
      "VIDEO_PLAYERS : 1.7937725631768955\n",
      "MAPS_AND_NAVIGATION : 1.3989169675090252\n",
      "FOOD_AND_DRINK : 1.2409747292418771\n",
      "EDUCATION : 1.1620036101083033\n",
      "ENTERTAINMENT : 0.9589350180505415\n",
      "LIBRARIES_AND_DEMO : 0.9363718411552346\n",
      "AUTO_AND_VEHICLES : 0.9250902527075812\n",
      "HOUSE_AND_HOME : 0.8235559566787004\n",
      "WEATHER : 0.8009927797833934\n",
      "EVENTS : 0.7107400722021661\n",
      "PARENTING : 0.6543321299638989\n",
      "ART_AND_DESIGN : 0.6430505415162455\n",
      "COMICS : 0.6204873646209386\n",
      "BEAUTY : 0.5979241877256317\n"
     ]
    }
   ],
   "source": [
    "android_table1 = freq_table(android_free, 1, True) #Category column\n",
    "display_table(android_table1) "
   ]
  },
  {
   "cell_type": "code",
   "execution_count": 22,
   "metadata": {},
   "outputs": [
    {
     "name": "stdout",
     "output_type": "stream",
     "text": [
      "Tools : 8.449909747292418\n",
      "Entertainment : 6.069494584837545\n",
      "Education : 5.347472924187725\n",
      "Business : 4.591606498194946\n",
      "Productivity : 3.892148014440433\n",
      "Lifestyle : 3.892148014440433\n",
      "Finance : 3.7003610108303246\n",
      "Medical : 3.531137184115524\n",
      "Sports : 3.463447653429603\n",
      "Personalization : 3.3167870036101084\n",
      "Communication : 3.2378158844765346\n",
      "Action : 3.1024368231046933\n",
      "Health & Fitness : 3.0798736462093865\n",
      "Photography : 2.944494584837545\n",
      "News & Magazines : 2.7978339350180503\n",
      "Social : 2.6624548736462095\n",
      "Travel & Local : 2.3240072202166067\n",
      "Shopping : 2.2450361010830324\n",
      "Books & Reference : 2.1435018050541514\n",
      "Simulation : 2.0419675090252705\n",
      "Dating : 1.861462093862816\n",
      "Arcade : 1.8501805054151623\n",
      "Video Players & Editors : 1.7712093862815883\n",
      "Casual : 1.7599277978339352\n",
      "Maps & Navigation : 1.3989169675090252\n",
      "Food & Drink : 1.2409747292418771\n",
      "Puzzle : 1.128158844765343\n",
      "Racing : 0.9927797833935018\n",
      "Role Playing : 0.9363718411552346\n",
      "Libraries & Demo : 0.9363718411552346\n",
      "Auto & Vehicles : 0.9250902527075812\n",
      "Strategy : 0.9138086642599278\n",
      "House & Home : 0.8235559566787004\n",
      "Weather : 0.8009927797833934\n",
      "Events : 0.7107400722021661\n",
      "Adventure : 0.6768953068592057\n",
      "Comics : 0.6092057761732852\n",
      "Beauty : 0.5979241877256317\n",
      "Art & Design : 0.5979241877256317\n",
      "Parenting : 0.4963898916967509\n",
      "Card : 0.45126353790613716\n",
      "Casino : 0.42870036101083037\n",
      "Trivia : 0.41741877256317694\n",
      "Educational;Education : 0.39485559566787\n",
      "Board : 0.3835740072202166\n",
      "Educational : 0.3722924187725632\n",
      "Education;Education : 0.33844765342960287\n",
      "Word : 0.2594765342960289\n",
      "Casual;Pretend Play : 0.236913357400722\n",
      "Music : 0.2030685920577617\n",
      "Racing;Action & Adventure : 0.16922382671480143\n",
      "Puzzle;Brain Games : 0.16922382671480143\n",
      "Entertainment;Music & Video : 0.16922382671480143\n",
      "Casual;Brain Games : 0.13537906137184114\n",
      "Casual;Action & Adventure : 0.13537906137184114\n",
      "Arcade;Action & Adventure : 0.12409747292418773\n",
      "Action;Action & Adventure : 0.10153429602888085\n",
      "Educational;Pretend Play : 0.09025270758122744\n",
      "Simulation;Action & Adventure : 0.078971119133574\n",
      "Parenting;Education : 0.078971119133574\n",
      "Entertainment;Brain Games : 0.078971119133574\n",
      "Board;Brain Games : 0.078971119133574\n",
      "Parenting;Music & Video : 0.06768953068592057\n",
      "Educational;Brain Games : 0.06768953068592057\n",
      "Casual;Creativity : 0.06768953068592057\n",
      "Art & Design;Creativity : 0.06768953068592057\n",
      "Education;Pretend Play : 0.056407942238267145\n",
      "Role Playing;Pretend Play : 0.04512635379061372\n",
      "Education;Creativity : 0.04512635379061372\n",
      "Role Playing;Action & Adventure : 0.033844765342960284\n",
      "Puzzle;Action & Adventure : 0.033844765342960284\n",
      "Entertainment;Creativity : 0.033844765342960284\n",
      "Entertainment;Action & Adventure : 0.033844765342960284\n",
      "Educational;Creativity : 0.033844765342960284\n",
      "Educational;Action & Adventure : 0.033844765342960284\n",
      "Education;Music & Video : 0.033844765342960284\n",
      "Education;Brain Games : 0.033844765342960284\n",
      "Education;Action & Adventure : 0.033844765342960284\n",
      "Adventure;Action & Adventure : 0.033844765342960284\n",
      "Video Players & Editors;Music & Video : 0.02256317689530686\n",
      "Sports;Action & Adventure : 0.02256317689530686\n",
      "Simulation;Pretend Play : 0.02256317689530686\n",
      "Puzzle;Creativity : 0.02256317689530686\n",
      "Music;Music & Video : 0.02256317689530686\n",
      "Entertainment;Pretend Play : 0.02256317689530686\n",
      "Casual;Education : 0.02256317689530686\n",
      "Board;Action & Adventure : 0.02256317689530686\n",
      "Video Players & Editors;Creativity : 0.01128158844765343\n",
      "Trivia;Education : 0.01128158844765343\n",
      "Travel & Local;Action & Adventure : 0.01128158844765343\n",
      "Tools;Education : 0.01128158844765343\n",
      "Strategy;Education : 0.01128158844765343\n",
      "Strategy;Creativity : 0.01128158844765343\n",
      "Strategy;Action & Adventure : 0.01128158844765343\n",
      "Simulation;Education : 0.01128158844765343\n",
      "Role Playing;Brain Games : 0.01128158844765343\n",
      "Racing;Pretend Play : 0.01128158844765343\n",
      "Puzzle;Education : 0.01128158844765343\n",
      "Parenting;Brain Games : 0.01128158844765343\n",
      "Music & Audio;Music & Video : 0.01128158844765343\n",
      "Lifestyle;Pretend Play : 0.01128158844765343\n",
      "Lifestyle;Education : 0.01128158844765343\n",
      "Health & Fitness;Education : 0.01128158844765343\n",
      "Health & Fitness;Action & Adventure : 0.01128158844765343\n",
      "Entertainment;Education : 0.01128158844765343\n",
      "Communication;Creativity : 0.01128158844765343\n",
      "Comics;Creativity : 0.01128158844765343\n",
      "Casual;Music & Video : 0.01128158844765343\n",
      "Card;Action & Adventure : 0.01128158844765343\n",
      "Books & Reference;Education : 0.01128158844765343\n",
      "Art & Design;Pretend Play : 0.01128158844765343\n",
      "Art & Design;Action & Adventure : 0.01128158844765343\n",
      "Arcade;Pretend Play : 0.01128158844765343\n",
      "Adventure;Education : 0.01128158844765343\n"
     ]
    }
   ],
   "source": [
    "android_table2 = freq_table(android_free, 9) # Genres colunm\n",
    "display_table(android_table2)"
   ]
  },
  {
   "cell_type": "markdown",
   "metadata": {},
   "source": [
    "The scenario is completely different for the Google Play data set as its market is more equally divided among the categories and genres than iOS market, altough the Family category corresponds to almost 19% of the apps. Games (9.72%), Tools (8.46%), Business (4.59%) and Lifestyle (3.90%) and a diversified top five. The Android database also seems to have more apps designed for practical life purposes than just for gaming.\n",
    "Considering the only the 'Genres' colunm, it has a lot more categories, which makes it harder to analyse and take conclusions from. That's why from now on we'll only consider the 'Category' colunm for the Android apps."
   ]
  },
  {
   "cell_type": "markdown",
   "metadata": {},
   "source": [
    "### Most popular apps by genre in the App Store\n",
    "\n",
    "Fisrt, we will loop through each genre and for each genre we'll loop through each app to calculate the average numbers of reviews per app for each genre."
   ]
  },
  {
   "cell_type": "code",
   "execution_count": 23,
   "metadata": {},
   "outputs": [
    {
     "name": "stdout",
     "output_type": "stream",
     "text": [
      "Navigation : 86090.33333333333\n",
      "Reference : 74942.11111111111\n",
      "Social Networking : 71548.34905660378\n",
      "Music : 57326.530303030304\n",
      "Weather : 52279.892857142855\n",
      "Book : 39758.5\n",
      "Food & Drink : 33333.92307692308\n",
      "Finance : 31467.944444444445\n",
      "Photo & Video : 28441.54375\n",
      "Travel : 28243.8\n",
      "Shopping : 26919.690476190477\n",
      "Health & Fitness : 23298.015384615384\n",
      "Sports : 23008.898550724636\n",
      "Games : 22788.6696905016\n",
      "News : 21248.023255813954\n",
      "Productivity : 21028.410714285714\n",
      "Utilities : 18684.456790123455\n",
      "Lifestyle : 16485.764705882353\n",
      "Entertainment : 14029.830708661417\n",
      "Business : 7491.117647058823\n",
      "Education : 7003.983050847458\n",
      "Catalogs : 4004.0\n",
      "Medical : 612.0\n"
     ]
    }
   ],
   "source": [
    "genres_ios = freq_table(ios_free, 12)\n",
    "\n",
    "rating_per_genre = {}\n",
    "\n",
    "for genre in genres_ios:\n",
    "    total = 0\n",
    "    len_genre = 0\n",
    " \n",
    "    for app in ios_free:\n",
    "        genre_app = app[12]\n",
    "        if genre_app == genre:\n",
    "            n_ratings = float(app[6])\n",
    "            total += n_ratings\n",
    "            len_genre += 1\n",
    "            \n",
    "    avg_n_ratings = total / len_genre\n",
    "    rating_per_genre[genre] = avg_n_ratings\n",
    "\n",
    "display_table(rating_per_genre)\n",
    "            "
   ]
  },
  {
   "cell_type": "markdown",
   "metadata": {},
   "source": [
    "We can see that navigation apps have the highest number of user reviews in average, followed byreference and social networking apps averaging over 70,000 reviews per app. However we should check how concentrated are these reviews in one or two big apps. For that, we built a small function that displays the number of reviews per app in a determined genre."
   ]
  },
  {
   "cell_type": "code",
   "execution_count": 24,
   "metadata": {},
   "outputs": [
    {
     "name": "stdout",
     "output_type": "stream",
     "text": [
      "Waze - GPS Navigation, Maps & Real-time Traffic : 345046.0\n",
      "Google Maps - Navigation & Transit : 154911.0\n",
      "Geocaching® : 12811.0\n",
      "CoPilot GPS – Car Navigation & Offline Maps : 3582.0\n",
      "ImmobilienScout24: Real Estate Search in Germany : 187.0\n",
      "Railway Route Search : 5.0\n",
      "\n",
      "\n",
      "Bible : 985920.0\n",
      "Dictionary.com Dictionary & Thesaurus : 200047.0\n",
      "Dictionary.com Dictionary & Thesaurus for iPad : 54175.0\n",
      "Google Translate : 26786.0\n",
      "Muslim Pro: Ramadan 2017 Prayer Times, Azan, Quran : 18418.0\n",
      "New Furniture Mods - Pocket Wiki & Game Tools for Minecraft PC Edition : 17588.0\n",
      "Merriam-Webster Dictionary : 16849.0\n",
      "Night Sky : 12122.0\n",
      "City Maps for Minecraft PE - The Best Maps for Minecraft Pocket Edition (MCPE) : 8535.0\n",
      "LUCKY BLOCK MOD ™ for Minecraft PC Edition - The Best Pocket Wiki & Mods Installer Tools : 4693.0\n",
      "GUNS MODS for Minecraft PC Edition - Mods Tools : 1497.0\n",
      "Guides for Pokémon GO - Pokemon GO News and Cheats : 826.0\n",
      "WWDC : 762.0\n",
      "Horror Maps for Minecraft PE - Download The Scariest Maps for Minecraft Pocket Edition (MCPE) Free : 718.0\n",
      "VPN Express : 14.0\n",
      "Real Bike Traffic Rider Virtual Reality Glasses : 8.0\n",
      "教えて!goo : 0.0\n",
      "Jishokun-Japanese English Dictionary & Translator : 0.0\n",
      "\n",
      "\n",
      "Facebook : 2974676.0\n",
      "Pinterest : 1061624.0\n",
      "Skype for iPhone : 373519.0\n",
      "Messenger : 351466.0\n",
      "Tumblr : 334293.0\n",
      "WhatsApp Messenger : 287589.0\n",
      "Kik : 260965.0\n",
      "ooVoo – Free Video Call, Text and Voice : 177501.0\n",
      "TextNow - Unlimited Text + Calls : 164963.0\n",
      "Viber Messenger – Text & Call : 164249.0\n",
      "Followers - Social Analytics For Instagram : 112778.0\n",
      "MeetMe - Chat and Meet New People : 97072.0\n",
      "We Heart It - Fashion, wallpapers, quotes, tattoos : 90414.0\n",
      "InsTrack for Instagram - Analytics Plus More : 85535.0\n",
      "Tango - Free Video Call, Voice and Chat : 75412.0\n",
      "LinkedIn : 71856.0\n",
      "Match™ - #1 Dating App. : 60659.0\n",
      "Skype for iPad : 60163.0\n",
      "POF - Best Dating App for Conversations : 52642.0\n",
      "Timehop : 49510.0\n",
      "Find My Family, Friends & iPhone - Life360 Locator : 43877.0\n",
      "Whisper - Share, Express, Meet : 39819.0\n",
      "Hangouts : 36404.0\n",
      "LINE PLAY - Your Avatar World : 34677.0\n",
      "WeChat : 34584.0\n",
      "Badoo - Meet New People, Chat, Socialize. : 34428.0\n",
      "Followers + for Instagram - Follower Analytics : 28633.0\n",
      "GroupMe : 28260.0\n",
      "Marco Polo Video Walkie Talkie : 27662.0\n",
      "Miitomo : 23965.0\n",
      "SimSimi : 23530.0\n",
      "Grindr - Gay and same sex guys chat, meet and date : 23201.0\n",
      "Wishbone - Compare Anything : 20649.0\n",
      "imo video calls and chat : 18841.0\n",
      "After School - Funny Anonymous School News : 18482.0\n",
      "Quick Reposter - Repost, Regram and Reshare Photos : 17694.0\n",
      "Weibo HD : 16772.0\n",
      "Repost for Instagram : 15185.0\n",
      "Live.me – Live Video Chat & Make Friends Nearby : 14724.0\n",
      "Nextdoor : 14402.0\n",
      "Followers Analytics for Instagram - InstaReport : 13914.0\n",
      "YouNow: Live Stream Video Chat : 12079.0\n",
      "FollowMeter for Instagram - Followers Tracking : 11976.0\n",
      "LINE : 11437.0\n",
      "eHarmony™ Dating App - Meet Singles : 11124.0\n",
      "Discord - Chat for Gamers : 9152.0\n",
      "QQ : 9109.0\n",
      "Telegram Messenger : 7573.0\n",
      "Weibo : 7265.0\n",
      "Periscope - Live Video Streaming Around the World : 6062.0\n",
      "Chat for Whatsapp - iPad Version : 5060.0\n",
      "QQ HD : 5058.0\n",
      "Followers Analysis Tool For Instagram App Free : 4253.0\n",
      "live.ly - live video streaming : 4145.0\n",
      "Houseparty - Group Video Chat : 3991.0\n",
      "SOMA Messenger : 3232.0\n",
      "Monkey : 3060.0\n",
      "Down To Lunch : 2535.0\n",
      "Flinch - Video Chat Staring Contest : 2134.0\n",
      "Highrise - Your Avatar Community : 2011.0\n",
      "LOVOO - Dating Chat : 1985.0\n",
      "PlayStation®Messages : 1918.0\n",
      "BOO! - Video chat camera with filters & stickers : 1805.0\n",
      "Qzone : 1649.0\n",
      "Chatous - Chat with new people : 1609.0\n",
      "Kiwi - Q&A : 1538.0\n",
      "GhostCodes - a discovery app for Snapchat : 1313.0\n",
      "Jodel : 1193.0\n",
      "FireChat : 1037.0\n",
      "Google Duo - simple video calling : 1033.0\n",
      "Fiesta by Tango - Chat & Meet New People : 885.0\n",
      "Google Allo — smart messaging : 862.0\n",
      "Peach — share vividly : 727.0\n",
      "Hey! VINA - Where Women Meet New Friends : 719.0\n",
      "Battlefield™ Companion : 689.0\n",
      "All Devices for WhatsApp - Messenger for iPad : 682.0\n",
      "Chat for Pokemon Go - GoChat : 500.0\n",
      "IAmNaughty – Dating App to Meet New People Online : 463.0\n",
      "Qzone HD : 458.0\n",
      "Zenly - Locate your friends in realtime : 427.0\n",
      "League of Legends Friends : 420.0\n",
      "豆瓣 : 407.0\n",
      "Candid - Speak Your Mind Freely : 398.0\n",
      "知乎 : 397.0\n",
      "Selfeo : 366.0\n",
      "Fake-A-Location Free ™ : 354.0\n",
      "Popcorn Buzz - Free Group Calls : 281.0\n",
      "Fam — Group video calling for iMessage : 279.0\n",
      "QQ International : 274.0\n",
      "Ameba : 269.0\n",
      "SoundCloud Pulse: for creators : 240.0\n",
      "Tantan : 235.0\n",
      "Cougar Dating & Life Style App for Mature Women : 213.0\n",
      "Rawr Messenger - Dab your chat : 180.0\n",
      "WhenToPost: Best Time to Post Photos for Instagram : 158.0\n",
      "Inke—Broadcast an amazing life : 147.0\n",
      "Mustknow - anonymous video Q&A : 53.0\n",
      "CTFxCmoji : 39.0\n",
      "Lobi : 36.0\n",
      "Chain: Collaborate On MyVideo Story/Group Video : 35.0\n",
      "botman - Real time video chat : 7.0\n",
      "niconico ch : 0.0\n",
      "bit-tube - Live Stream Video Chat : 0.0\n",
      "MATCH ON LINE chat : 0.0\n",
      "LINE BLOG : 0.0\n",
      "BestieBox : 0.0\n"
     ]
    }
   ],
   "source": [
    "def ios_genre_search(s_genre):\n",
    "    app_ratings_total = {}\n",
    "    for app in ios_free:\n",
    "        genre = app[12]\n",
    "        if genre == s_genre:\n",
    "            name = app[2]\n",
    "            n_reviews = float(app[6])\n",
    "            app_ratings_total[name] = n_reviews\n",
    "    display_table(app_ratings_total)\n",
    "    \n",
    "    \n",
    "ios_genre_search('Navigation')\n",
    "print('\\n')\n",
    "ios_genre_search('Reference')\n",
    "print('\\n')\n",
    "ios_genre_search('Social Networking')\n"
   ]
  },
  {
   "cell_type": "markdown",
   "metadata": {},
   "source": [
    "As we can see, the navigation and social networking apps are dominated by few famous apps. Navigation for instance has almost half a million reviews just for Waze and Google Maps. That is why we should consider reference apps as a good option here. This genre reviews are much influenced by the bible app, however this shoud not be a problem since the its number of reviews is so much greater than the others that makes reference apps a one-app genre, which show us a potencial room for new apps to succceed.\n",
    "\n",
    "We could use the Bible as an example to be replicated with a different famous book, adding new features and making the app even more interactive to the user."
   ]
  },
  {
   "cell_type": "markdown",
   "metadata": {},
   "source": [
    "## Most popular apps by genre on Google Play\n",
    "\n",
    "The Google Play database gives us data about the number of intalls for each app. However, we can see that most values are open-ended (100+, 1,000+, 5,000+, etc.) which make it look less precise.\n"
   ]
  },
  {
   "cell_type": "code",
   "execution_count": 25,
   "metadata": {},
   "outputs": [
    {
     "name": "stdout",
     "output_type": "stream",
     "text": [
      "1,000,000+ : 15.726534296028879\n",
      "100,000+ : 11.552346570397113\n",
      "10,000,000+ : 10.548285198555957\n",
      "10,000+ : 10.198555956678701\n",
      "1,000+ : 8.393501805054152\n",
      "100+ : 6.915613718411552\n",
      "5,000,000+ : 6.825361010830325\n",
      "500,000+ : 5.561823104693141\n",
      "50,000+ : 4.7721119133574\n",
      "5,000+ : 4.512635379061372\n",
      "10+ : 3.5424187725631766\n",
      "500+ : 3.2490974729241873\n",
      "50,000,000+ : 2.3014440433213\n",
      "100,000,000+ : 2.1322202166064983\n",
      "50+ : 1.917870036101083\n",
      "5+ : 0.78971119133574\n",
      "1+ : 0.5076714801444043\n",
      "500,000,000+ : 0.2707581227436823\n",
      "1,000,000,000+ : 0.22563176895306858\n",
      "0+ : 0.04512635379061372\n",
      "0 : 0.01128158844765343\n"
     ]
    }
   ],
   "source": [
    "android_freq = freq_table(android_free, 5)\n",
    "display_table(android_freq)"
   ]
  },
  {
   "cell_type": "markdown",
   "metadata": {},
   "source": [
    "We only intend to get an ideia of which genres attracc the most users, therefore we do not need this data to be abslotely precise. We'll then consider that an app with 100,000+ installs has 100,000 installs, and an app with 1,000,000+ installs has 1,000,000 installs, and so on.\n",
    "\n",
    "During this process we'll need to convert the number of reviews to float, so you'll notice that while we calculate the average number of reviews per app in each category, we'll als do this convertion."
   ]
  },
  {
   "cell_type": "code",
   "execution_count": 26,
   "metadata": {},
   "outputs": [
    {
     "name": "stdout",
     "output_type": "stream",
     "text": [
      "COMMUNICATION : 38456119.167247385\n",
      "VIDEO_PLAYERS : 24727872.452830188\n",
      "SOCIAL : 23253652.127118643\n",
      "PHOTOGRAPHY : 17840110.40229885\n",
      "PRODUCTIVITY : 16787331.344927534\n",
      "GAME : 15588015.603248259\n",
      "TRAVEL_AND_LOCAL : 13984077.710144928\n",
      "ENTERTAINMENT : 11640705.88235294\n",
      "TOOLS : 10801391.298666667\n",
      "NEWS_AND_MAGAZINES : 9549178.467741935\n",
      "BOOKS_AND_REFERENCE : 8767811.894736841\n",
      "SHOPPING : 7036877.311557789\n",
      "PERSONALIZATION : 5201482.6122448975\n",
      "WEATHER : 5074486.197183099\n",
      "HEALTH_AND_FITNESS : 4188821.9853479853\n",
      "MAPS_AND_NAVIGATION : 4056941.7741935486\n",
      "FAMILY : 3695641.8198090694\n",
      "SPORTS : 3638640.1428571427\n",
      "ART_AND_DESIGN : 1986335.0877192982\n",
      "FOOD_AND_DRINK : 1924897.7363636363\n",
      "EDUCATION : 1833495.145631068\n",
      "BUSINESS : 1712290.1474201474\n",
      "LIFESTYLE : 1437816.2687861272\n",
      "FINANCE : 1387692.475609756\n",
      "HOUSE_AND_HOME : 1331540.5616438356\n",
      "DATING : 854028.8303030303\n",
      "COMICS : 817657.2727272727\n",
      "AUTO_AND_VEHICLES : 647317.8170731707\n",
      "LIBRARIES_AND_DEMO : 638503.734939759\n",
      "PARENTING : 542603.6206896552\n",
      "BEAUTY : 513151.88679245283\n",
      "EVENTS : 253542.22222222222\n",
      "MEDICAL : 120550.61980830671\n"
     ]
    }
   ],
   "source": [
    "category_android = freq_table(android_free, 1)\n",
    "\n",
    "installs_per_category = {}\n",
    "\n",
    "for category in category_android:\n",
    "    total = 0\n",
    "    len_category = 0\n",
    " \n",
    "    for app in android_free:\n",
    "        category_app = app[1]\n",
    "        if category_app == category:\n",
    "            n_installs = app[5]\n",
    "            n_installs = n_installs.replace(',','')\n",
    "            n_installs = n_installs.replace('+', '')\n",
    "            total += float(n_installs)\n",
    "            len_category += 1\n",
    "            \n",
    "    avg_n_installs = total / len_category\n",
    "    installs_per_category[category] = avg_n_installs\n",
    "\n",
    "display_table(installs_per_category)\n",
    "            "
   ]
  },
  {
   "cell_type": "markdown",
   "metadata": {},
   "source": [
    "Communication, Video Players and social apps dominate the Google Play market. We know however that this catgories are alread built around some huge apps like Facebook, Whatsapp and YouTube. Considering that and that we suggested the Reference genre as good option for the iOS market, we should take a look at the Book and Reference category."
   ]
  },
  {
   "cell_type": "code",
   "execution_count": 27,
   "metadata": {},
   "outputs": [
    {
     "name": "stdout",
     "output_type": "stream",
     "text": [
      "E-Book Read - Read Book for free : 50,000+\n",
      "Download free book with green book : 100,000+\n",
      "Wikipedia : 10,000,000+\n",
      "Cool Reader : 10,000,000+\n",
      "Free Panda Radio Music : 100,000+\n",
      "Book store : 1,000,000+\n",
      "FBReader: Favorite Book Reader : 10,000,000+\n",
      "English Grammar Complete Handbook : 500,000+\n",
      "Free Books - Spirit Fanfiction and Stories : 1,000,000+\n",
      "Google Play Books : 1,000,000,000+\n",
      "AlReader -any text book reader : 5,000,000+\n",
      "Offline English Dictionary : 100,000+\n",
      "Offline: English to Tagalog Dictionary : 500,000+\n",
      "FamilySearch Tree : 1,000,000+\n",
      "Cloud of Books : 1,000,000+\n",
      "Recipes of Prophetic Medicine for free : 500,000+\n",
      "ReadEra – free ebook reader : 1,000,000+\n",
      "Anonymous caller detection : 10,000+\n",
      "Ebook Reader : 5,000,000+\n",
      "Litnet - E-books : 100,000+\n",
      "Read books online : 5,000,000+\n",
      "English to Urdu Dictionary : 500,000+\n",
      "eBoox: book reader fb2 epub zip : 1,000,000+\n",
      "English Persian Dictionary : 500,000+\n",
      "Flybook : 500,000+\n",
      "All Maths Formulas : 1,000,000+\n",
      "Ancestry : 5,000,000+\n",
      "HTC Help : 10,000,000+\n",
      "English translation from Bengali : 100,000+\n",
      "Pdf Book Download - Read Pdf Book : 100,000+\n",
      "Free Book Reader : 100,000+\n",
      "eBoox new: Reader for fb2 epub zip books : 50,000+\n",
      "Only 30 days in English, the guideline is guaranteed : 500,000+\n",
      "Moon+ Reader : 10,000,000+\n",
      "SH-02J Owner's Manual (Android 8.0) : 50,000+\n",
      "English-Myanmar Dictionary : 1,000,000+\n",
      "Golden Dictionary (EN-AR) : 1,000,000+\n",
      "All Language Translator Free : 1,000,000+\n",
      "Azpen eReader : 500,000+\n",
      "URBANO V 02 instruction manual : 100,000+\n",
      "Bible : 100,000,000+\n",
      "C Programs and Reference : 50,000+\n",
      "C Offline Tutorial : 1,000+\n",
      "C Programs Handbook : 50,000+\n",
      "Amazon Kindle : 100,000,000+\n",
      "Aab e Hayat Full Novel : 100,000+\n",
      "Aldiko Book Reader : 10,000,000+\n",
      "Google I/O 2018 : 500,000+\n",
      "R Language Reference Guide : 10,000+\n",
      "Learn R Programming Full : 5,000+\n",
      "R Programing Offline Tutorial : 1,000+\n",
      "Guide for R Programming : 5+\n",
      "Learn R Programming : 10+\n",
      "R Quick Reference Big Data : 1,000+\n",
      "V Made : 100,000+\n",
      "Wattpad 📖 Free Books : 100,000,000+\n",
      "Dictionary - WordWeb : 5,000,000+\n",
      "Guide (for X-MEN) : 100,000+\n",
      "AC Air condition Troubleshoot,Repair,Maintenance : 5,000+\n",
      "AE Bulletins : 1,000+\n",
      "Ae Allah na Dai (Rasa) : 10,000+\n",
      "50000 Free eBooks & Free AudioBooks : 5,000,000+\n",
      "Ag PhD Field Guide : 10,000+\n",
      "Ag PhD Deficiencies : 10,000+\n",
      "Ag PhD Planting Population Calculator : 1,000+\n",
      "Ag PhD Soybean Diseases : 1,000+\n",
      "Fertilizer Removal By Crop : 50,000+\n",
      "A-J Media Vault : 50+\n",
      "Al-Quran (Free) : 10,000,000+\n",
      "Al Quran (Tafsir & by Word) : 500,000+\n",
      "Al Quran Indonesia : 10,000,000+\n",
      "Al'Quran Bahasa Indonesia : 10,000,000+\n",
      "Al Quran Al karim : 1,000,000+\n",
      "Al-Muhaffiz : 50,000+\n",
      "Al Quran : EAlim - Translations & MP3 Offline : 5,000,000+\n",
      "Al-Quran 30 Juz free copies : 500,000+\n",
      "Koran Read &MP3 30 Juz Offline : 1,000,000+\n",
      "Hafizi Quran 15 lines per page : 1,000,000+\n",
      "Quran for Android : 10,000,000+\n",
      "Surah Al-Waqiah : 100,000+\n",
      "Hisnul Al Muslim - Hisn Invocations & Adhkaar : 100,000+\n",
      "Satellite AR : 1,000,000+\n",
      "Audiobooks from Audible : 100,000,000+\n",
      "Kinot & Eichah for Tisha B'Av : 10,000+\n",
      "AW Tozer Devotionals - Daily : 5,000+\n",
      "Tozer Devotional -Series 1 : 1,000+\n",
      "The Pursuit of God : 1,000+\n",
      "AY Sing : 5,000+\n",
      "Ay Hasnain k Nana Milad Naat : 10,000+\n",
      "Ay Mohabbat Teri Khatir Novel : 10,000+\n",
      "Arizona Statutes, ARS (AZ Law) : 1,000+\n",
      "Oxford A-Z of English Usage : 1,000,000+\n",
      "BD Fishpedia : 1,000+\n",
      "BD All Sim Offer : 10,000+\n",
      "Youboox - Livres, BD et magazines : 500,000+\n",
      "B&H Kids AR : 10,000+\n",
      "B y H Niños ES : 5,000+\n",
      "Dictionary.com: Find Definitions for English Words : 10,000,000+\n",
      "English Dictionary - Offline : 10,000,000+\n",
      "Bible KJV : 5,000,000+\n",
      "Borneo Bible, BM Bible : 10,000+\n",
      "MOD Black for BM : 100+\n",
      "BM Box : 1,000+\n",
      "Anime Mod for BM : 100+\n",
      "NOOK: Read eBooks & Magazines : 10,000,000+\n",
      "NOOK Audiobooks : 500,000+\n",
      "NOOK App for NOOK Devices : 500,000+\n",
      "Browsery by Barnes & Noble : 5,000+\n",
      "bp e-store : 1,000+\n",
      "Brilliant Quotes: Life, Love, Family & Motivation : 1,000,000+\n",
      "BR Ambedkar Biography & Quotes : 10,000+\n",
      "BU Alsace : 100+\n",
      "Catholic La Bu Zo Kam : 500+\n",
      "Khrifa Hla Bu (Solfa) : 10+\n",
      "Kristian Hla Bu : 10,000+\n",
      "SA HLA BU : 1,000+\n",
      "Learn SAP BW : 500+\n",
      "Learn SAP BW on HANA : 500+\n",
      "CA Laws 2018 (California Laws and Codes) : 5,000+\n",
      "Bootable Methods(USB-CD-DVD) : 10,000+\n",
      "cloudLibrary : 100,000+\n",
      "SDA Collegiate Quarterly : 500+\n",
      "Sabbath School : 100,000+\n",
      "Cypress College Library : 100+\n",
      "Stats Royale for Clash Royale : 1,000,000+\n",
      "GATE 21 years CS Papers(2011-2018 Solved) : 50+\n",
      "Learn CT Scan Of Head : 5,000+\n",
      "Easy Cv maker 2018 : 10,000+\n",
      "How to Write CV : 100,000+\n",
      "CW Nuclear : 1,000+\n",
      "CY Spray nozzle : 10+\n",
      "BibleRead En Cy Zh Yue : 5+\n",
      "CZ-Help : 5+\n",
      "Modlitební knížka CZ : 500+\n",
      "Guide for DB Xenoverse : 10,000+\n",
      "Guide for DB Xenoverse 2 : 10,000+\n",
      "Guide for IMS DB : 10+\n",
      "DC HSEMA : 5,000+\n",
      "DC Public Library : 1,000+\n",
      "Painting Lulu DC Super Friends : 1,000+\n",
      "Dictionary : 10,000,000+\n",
      "Fix Error Google Playstore : 1,000+\n",
      "D. H. Lawrence Poems FREE : 1,000+\n",
      "Bilingual Dictionary Audio App : 5,000+\n",
      "DM Screen : 10,000+\n",
      "wikiHow: how to do anything : 1,000,000+\n",
      "Dr. Doug's Tips : 1,000+\n",
      "Bible du Semeur-BDS (French) : 50,000+\n",
      "La citadelle du musulman : 50,000+\n",
      "DV 2019 Entry Guide : 10,000+\n",
      "DV 2019 - EDV Photo & Form : 50,000+\n",
      "DV 2018 Winners Guide : 1,000+\n",
      "EB Annual Meetings : 1,000+\n",
      "EC - AP & Telangana : 5,000+\n",
      "TN Patta Citta & EC : 10,000+\n",
      "AP Stamps and Registration : 10,000+\n",
      "CompactiMa EC pH Calibration : 100+\n",
      "EGW Writings 2 : 100,000+\n",
      "EGW Writings : 1,000,000+\n",
      "Bible with EGW Comments : 100,000+\n",
      "My Little Pony AR Guide : 1,000,000+\n",
      "SDA Sabbath School Quarterly : 500,000+\n",
      "Duaa Ek Ibaadat : 5,000+\n",
      "Spanish English Translator : 10,000,000+\n",
      "Dictionary - Merriam-Webster : 10,000,000+\n",
      "JW Library : 10,000,000+\n",
      "Oxford Dictionary of English : Free : 10,000,000+\n",
      "English Hindi Dictionary : 10,000,000+\n",
      "English to Hindi Dictionary : 5,000,000+\n",
      "EP Research Service : 1,000+\n",
      "Hymnes et Louanges : 100,000+\n",
      "EU Charter : 1,000+\n",
      "EU Data Protection : 1,000+\n",
      "EU IP Codes : 100+\n",
      "EW PDF : 5+\n",
      "BakaReader EX : 100,000+\n",
      "EZ Quran : 50,000+\n",
      "FA Part 1 & 2 Past Papers Solved Free – Offline : 5,000+\n",
      "La Fe de Jesus : 1,000+\n",
      "La Fe de Jesús : 500+\n",
      "Le Fe de Jesus : 500+\n",
      "Florida - Pocket Brainbook : 1,000+\n",
      "Florida Statutes (FL Code) : 1,000+\n",
      "English To Shona Dictionary : 10,000+\n",
      "Greek Bible FP (Audio) : 1,000+\n",
      "Golden Dictionary (FR-AR) : 500,000+\n",
      "Fanfic-FR : 5,000+\n",
      "Bulgarian French Dictionary Fr : 10,000+\n",
      "Chemin (fr) : 1,000+\n",
      "The SCP Foundation DB fr nn5n : 1,000+\n",
      "\n",
      "\n",
      "TOTAL:  190\n"
     ]
    }
   ],
   "source": [
    "total_BaR = 0\n",
    "for app in android_free:\n",
    "\n",
    "    if app[1] == 'BOOKS_AND_REFERENCE':\n",
    "        print(app[0], ':', app[5])\n",
    "        total_BaR += 1\n",
    "        \n",
    "print('\\n')\n",
    "print('TOTAL: ', total_BaR)"
   ]
  },
  {
   "cell_type": "markdown",
   "metadata": {},
   "source": [
    "We now know that there are 190 apps in this category. Let's chack how many of them have over 100,000,000 installs."
   ]
  },
  {
   "cell_type": "code",
   "execution_count": 28,
   "metadata": {},
   "outputs": [
    {
     "name": "stdout",
     "output_type": "stream",
     "text": [
      "Google Play Books : 1,000,000,000+\n",
      "Bible : 100,000,000+\n",
      "Amazon Kindle : 100,000,000+\n",
      "Wattpad 📖 Free Books : 100,000,000+\n",
      "Audiobooks from Audible : 100,000,000+\n",
      "\n",
      "\n",
      "Total:  5\n"
     ]
    }
   ],
   "source": [
    "total_BaR_over = 0\n",
    "for app in android_free:\n",
    "    if app[1] == 'BOOKS_AND_REFERENCE' and (app[5] == '1,000,000,000+'\n",
    "                                            or app[5] == '500,000,000+'\n",
    "                                            or app[5] == '100,000,000+'):\n",
    "        print(app[0], ':', app[5])\n",
    "        total_BaR_over += 1\n",
    "print('\\n')\n",
    "print('Total: ', total_BaR_over)"
   ]
  },
  {
   "cell_type": "markdown",
   "metadata": {},
   "source": [
    "It looks like this category has just a few very popular apps and also a lot of the apps are software for processing and reading ebooks, dictionaries and libraries, which seems to show room for new apps to succeed. \n",
    "That's why a similiar ideia to that we suggested for the iOS market may have some potential here. Also, it is part of our goal to suggest the same app to be built for both the plataforms.\n",
    "Selecting a popular book an making an app out of it, with new features and user's interactions might be the way to go here."
   ]
  },
  {
   "cell_type": "markdown",
   "metadata": {},
   "source": [
    "# Conclusions\n",
    "\n",
    "In this project, we analyzed data about the App Store and Google Play mobile apps with the goal of recommending an app profile that can be profitable for both markets.\n",
    "\n",
    "We conclued that creating an app out of a popular book could be profitable for both App Store and Google Play markets. As these markets are already full o libraries and e-readers, a fun interactive app about a book that lots of people care about could really draw some attention, especially if we use nice features and new forms of interation with the book's content.\n"
   ]
  }
 ],
 "metadata": {
  "kernelspec": {
   "display_name": "Python 3",
   "language": "python",
   "name": "python3"
  },
  "language_info": {
   "codemirror_mode": {
    "name": "ipython",
    "version": 3
   },
   "file_extension": ".py",
   "mimetype": "text/x-python",
   "name": "python",
   "nbconvert_exporter": "python",
   "pygments_lexer": "ipython3",
   "version": "3.7.4"
  }
 },
 "nbformat": 4,
 "nbformat_minor": 2
}
