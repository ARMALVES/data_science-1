{
 "cells": [
  {
   "cell_type": "markdown",
   "metadata": {},
   "source": [
    "# Business Insights with SQL\n",
    "\n",
    "SQL is the short for Structured Query Language. It is a domain-specific language used in programming and designed for managing data held in a relational database management systems. According to [Wikipedia](https://en.wikipedia.org/wiki/SQL), it is particularly useful in handling structured data, i.e. data incorporating relations among entities and variables.\n",
    "\n",
    "In this project we will work with data from the [Chinook database](https://github.com/lerocha/chinook-database). The Chinook database contains information about a fictional digital music shop such as data about the artists, songs, playlists, music genres and albums from the music shop, as well as information on the shop's employees, customers, and the customers purchases.\n",
    "\n",
    "Just as a curiosity, the database's name is inspired in another database, the Northwind database. According to its creator, the Chinook database is named after the winds in the interior West of North America, where the Canadian Prairies and Great Plains meet various mountain ranges. The Chinooks are most common over southern Alberta in Canada and that is why he thought it would be I good name for a database that intented to be an alternative to Northwind.\n",
    "\n",
    "With all information that Chinook contains, there is an infinity of answers we could get out of this database. Therefore, the main goal of this project, is to write some queries to demonstrate some of the insights we can get from the data and how they could be applied to the real world. \n",
    "\n",
    "Although the code is available, this project does not aim to explain it in details. We'll, of course, explain what we are doing, what we expect form teh queries and what we can conclude from them. However, if you have any questions about the code itself [fell free to ask.](https://github.com/otavio-s-s/data_science/issues)\n",
    "\n",
    "For the sake of simplicity, we'll assume that the fictional digital music shop is also named Chinook.\n",
    "\n",
    "\n",
    "![](https://www.imagemhost.com.br/images/2020/05/12/3255539.jpg)\n",
    "Image: <a href=\"https://www.freepik.com/free-photos-vectors/music\">Music vector created by stories - www.freepik.com</a>"
   ]
  },
  {
   "cell_type": "markdown",
   "metadata": {},
   "source": [
    "First, let's set up the SQL environment and then load the database."
   ]
  },
  {
   "cell_type": "code",
   "execution_count": 1,
   "metadata": {},
   "outputs": [],
   "source": [
    "%%capture\n",
    "%load_ext sql\n",
    "%sql sqlite:///chinook.db"
   ]
  },
  {
   "cell_type": "markdown",
   "metadata": {},
   "source": [
    "## The Data\n",
    "\n",
    "The Chinook database contains eleven tables and every table is connected to another. The following schema diagram can helps us to beter understand the table in this database, as well as their coulumns and conections to each other:\n",
    "\n",
    "![](https://www.imagemhost.com.br/images/2020/05/12/Capturar.png)\n",
    "\n",
    "In this schema diagram:\n",
    "\n",
    "* The names in bold are the names of the tables;\n",
    "* The columns with shading are the primary keys for each table;\n",
    "* The connections between each table are shown by the black lines.\n",
    "\n",
    "Now, let's write a query to see if these tables are actually in the database."
   ]
  },
  {
   "cell_type": "code",
   "execution_count": 14,
   "metadata": {
    "scrolled": false
   },
   "outputs": [
    {
     "name": "stdout",
     "output_type": "stream",
     "text": [
      " * sqlite:///chinook.db\n",
      "Done.\n"
     ]
    },
    {
     "data": {
      "text/html": [
       "<table>\n",
       "    <tr>\n",
       "        <th>name</th>\n",
       "        <th>type</th>\n",
       "    </tr>\n",
       "    <tr>\n",
       "        <td>album</td>\n",
       "        <td>table</td>\n",
       "    </tr>\n",
       "    <tr>\n",
       "        <td>artist</td>\n",
       "        <td>table</td>\n",
       "    </tr>\n",
       "    <tr>\n",
       "        <td>customer</td>\n",
       "        <td>table</td>\n",
       "    </tr>\n",
       "    <tr>\n",
       "        <td>employee</td>\n",
       "        <td>table</td>\n",
       "    </tr>\n",
       "    <tr>\n",
       "        <td>genre</td>\n",
       "        <td>table</td>\n",
       "    </tr>\n",
       "    <tr>\n",
       "        <td>invoice</td>\n",
       "        <td>table</td>\n",
       "    </tr>\n",
       "    <tr>\n",
       "        <td>invoice_line</td>\n",
       "        <td>table</td>\n",
       "    </tr>\n",
       "    <tr>\n",
       "        <td>media_type</td>\n",
       "        <td>table</td>\n",
       "    </tr>\n",
       "    <tr>\n",
       "        <td>playlist</td>\n",
       "        <td>table</td>\n",
       "    </tr>\n",
       "    <tr>\n",
       "        <td>playlist_track</td>\n",
       "        <td>table</td>\n",
       "    </tr>\n",
       "    <tr>\n",
       "        <td>track</td>\n",
       "        <td>table</td>\n",
       "    </tr>\n",
       "</table>"
      ],
      "text/plain": [
       "[('album', 'table'),\n",
       " ('artist', 'table'),\n",
       " ('customer', 'table'),\n",
       " ('employee', 'table'),\n",
       " ('genre', 'table'),\n",
       " ('invoice', 'table'),\n",
       " ('invoice_line', 'table'),\n",
       " ('media_type', 'table'),\n",
       " ('playlist', 'table'),\n",
       " ('playlist_track', 'table'),\n",
       " ('track', 'table')]"
      ]
     },
     "execution_count": 14,
     "metadata": {},
     "output_type": "execute_result"
    }
   ],
   "source": [
    "%%sql\n",
    "\n",
    "SELECT\n",
    "    name,\n",
    "    type\n",
    "FROM sqlite_master\n",
    "WHERE type IN ('table');"
   ]
  },
  {
   "cell_type": "markdown",
   "metadata": {},
   "source": [
    "And we can see that the database contains all the tables in the diagram."
   ]
  },
  {
   "cell_type": "markdown",
   "metadata": {},
   "source": [
    "## The Queries\n",
    "\n",
    "Now that we familiarized with the database, we can start querying it.\n"
   ]
  },
  {
   "cell_type": "markdown",
   "metadata": {},
   "source": [
    "### Employees\n",
    "\n",
    "In this first query, we are going to evaluate the work of our sales team. Each customer for the Chinook store gets assigned to a sales support agent within the company when they first make a purchase. So, this query returns the total dollar amount of sales assigned to each sales support agent in the company. We'll also be able to see for how long each of these employees have worked for Chinook and their average dollar amount of sales per month."
   ]
  },
  {
   "cell_type": "code",
   "execution_count": 3,
   "metadata": {},
   "outputs": [
    {
     "name": "stdout",
     "output_type": "stream",
     "text": [
      " * sqlite:///chinook.db\n",
      "Done.\n"
     ]
    },
    {
     "data": {
      "text/html": [
       "<table>\n",
       "    <tr>\n",
       "        <th>agent_name</th>\n",
       "        <th>total_sold</th>\n",
       "        <th>months_worked</th>\n",
       "        <th>avg_sales_month</th>\n",
       "    </tr>\n",
       "    <tr>\n",
       "        <td>Jane Peacock</td>\n",
       "        <td>1731.51</td>\n",
       "        <td>37</td>\n",
       "        <td>46.8</td>\n",
       "    </tr>\n",
       "    <tr>\n",
       "        <td>Steve Johnson</td>\n",
       "        <td>1393.92</td>\n",
       "        <td>31</td>\n",
       "        <td>44.97</td>\n",
       "    </tr>\n",
       "    <tr>\n",
       "        <td>Margaret Park</td>\n",
       "        <td>1584.0</td>\n",
       "        <td>36</td>\n",
       "        <td>44.0</td>\n",
       "    </tr>\n",
       "</table>"
      ],
      "text/plain": [
       "[('Jane Peacock', 1731.51, 37, 46.8),\n",
       " ('Steve Johnson', 1393.92, 31, 44.97),\n",
       " ('Margaret Park', 1584.0, 36, 44.0)]"
      ]
     },
     "execution_count": 3,
     "metadata": {},
     "output_type": "execute_result"
    }
   ],
   "source": [
    "%%sql\n",
    "\n",
    "WITH sales_suport_agents AS\n",
    "    (\n",
    "    SELECT\n",
    "        e.*\n",
    "    FROM employee e\n",
    "    WHERE e.title = 'Sales Support Agent'\n",
    "    )\n",
    "    \n",
    "SELECT\n",
    "    ssa.first_name || ' ' || ssa.last_name agent_name,\n",
    "    ROUND(SUM(i.total), 2) total_sold,\n",
    "    CAST(julianday('now') -  julianday(ssa.hire_date) AS INTEGER) / 30 months_worked,\n",
    "    ROUND(ROUND(SUM(i.total), 2) / (CAST(julianday('now') -  julianday(ssa.hire_date) AS INTEGER) / 30), 2) avg_sales_month\n",
    "FROM sales_suport_agents ssa\n",
    "INNER JOIN customer c ON ssa.employee_id = c.support_rep_id\n",
    "INNER JOIN invoice i ON c.customer_id = i.customer_id\n",
    "GROUP BY 1\n",
    "ORDER BY 4 DESC;"
   ]
  },
  {
   "cell_type": "markdown",
   "metadata": {},
   "source": [
    "With information like this we can easily evaluate the performance of Chinook's employees. For instance, although Margaret Park has a greater total dollar amount of sales assigned to her than Steve Johnson, we can see the Steve has been more productive since his average sales per month is higher. "
   ]
  },
  {
   "cell_type": "markdown",
   "metadata": {},
   "source": [
    "### Customers\n",
    "\n",
    "Now we are going to look at the other side of sales and talk about customers.\n",
    "\n",
    "The next query returns data on purchases from different countries. We will be able to see the total amount of sales as well as the average amount of dollar per customer and the average order value.\n",
    "\n",
    "Notice that countries with only one costumer will be grouped as 'Other'."
   ]
  },
  {
   "cell_type": "code",
   "execution_count": 4,
   "metadata": {
    "scrolled": true
   },
   "outputs": [
    {
     "name": "stdout",
     "output_type": "stream",
     "text": [
      " * sqlite:///chinook.db\n",
      "Done.\n"
     ]
    },
    {
     "data": {
      "text/html": [
       "<table>\n",
       "    <tr>\n",
       "        <th>country</th>\n",
       "        <th>total_customers</th>\n",
       "        <th>total_sales</th>\n",
       "        <th>avg_value_per_costumer</th>\n",
       "        <th>avg_order_value</th>\n",
       "    </tr>\n",
       "    <tr>\n",
       "        <td>USA</td>\n",
       "        <td>13</td>\n",
       "        <td>1040.49</td>\n",
       "        <td>80.04</td>\n",
       "        <td>7.94</td>\n",
       "    </tr>\n",
       "    <tr>\n",
       "        <td>Canada</td>\n",
       "        <td>8</td>\n",
       "        <td>535.59</td>\n",
       "        <td>66.95</td>\n",
       "        <td>7.05</td>\n",
       "    </tr>\n",
       "    <tr>\n",
       "        <td>Brazil</td>\n",
       "        <td>5</td>\n",
       "        <td>427.68</td>\n",
       "        <td>85.54</td>\n",
       "        <td>7.01</td>\n",
       "    </tr>\n",
       "    <tr>\n",
       "        <td>France</td>\n",
       "        <td>5</td>\n",
       "        <td>389.07</td>\n",
       "        <td>77.81</td>\n",
       "        <td>7.78</td>\n",
       "    </tr>\n",
       "    <tr>\n",
       "        <td>Germany</td>\n",
       "        <td>4</td>\n",
       "        <td>334.62</td>\n",
       "        <td>83.66</td>\n",
       "        <td>8.16</td>\n",
       "    </tr>\n",
       "    <tr>\n",
       "        <td>Czech Republic</td>\n",
       "        <td>2</td>\n",
       "        <td>273.24</td>\n",
       "        <td>136.62</td>\n",
       "        <td>9.11</td>\n",
       "    </tr>\n",
       "    <tr>\n",
       "        <td>United Kingdom</td>\n",
       "        <td>3</td>\n",
       "        <td>245.52</td>\n",
       "        <td>81.84</td>\n",
       "        <td>8.77</td>\n",
       "    </tr>\n",
       "    <tr>\n",
       "        <td>Portugal</td>\n",
       "        <td>2</td>\n",
       "        <td>185.13</td>\n",
       "        <td>92.57</td>\n",
       "        <td>6.38</td>\n",
       "    </tr>\n",
       "    <tr>\n",
       "        <td>India</td>\n",
       "        <td>2</td>\n",
       "        <td>183.15</td>\n",
       "        <td>91.58</td>\n",
       "        <td>8.72</td>\n",
       "    </tr>\n",
       "    <tr>\n",
       "        <td>Other</td>\n",
       "        <td>15</td>\n",
       "        <td>1094.94</td>\n",
       "        <td>73.0</td>\n",
       "        <td>7.45</td>\n",
       "    </tr>\n",
       "</table>"
      ],
      "text/plain": [
       "[('USA', 13, 1040.49, 80.04, 7.94),\n",
       " ('Canada', 8, 535.59, 66.95, 7.05),\n",
       " ('Brazil', 5, 427.68, 85.54, 7.01),\n",
       " ('France', 5, 389.07, 77.81, 7.78),\n",
       " ('Germany', 4, 334.62, 83.66, 8.16),\n",
       " ('Czech Republic', 2, 273.24, 136.62, 9.11),\n",
       " ('United Kingdom', 3, 245.52, 81.84, 8.77),\n",
       " ('Portugal', 2, 185.13, 92.57, 6.38),\n",
       " ('India', 2, 183.15, 91.58, 8.72),\n",
       " ('Other', 15, 1094.94, 73.0, 7.45)]"
      ]
     },
     "execution_count": 4,
     "metadata": {},
     "output_type": "execute_result"
    }
   ],
   "source": [
    "%%sql\n",
    "\n",
    "WITH countries_orders AS\n",
    "    (\n",
    "    SELECT\n",
    "    CASE\n",
    "        WHEN (\n",
    "                SELECT COUNT(*) \n",
    "                FROM customer\n",
    "                WHERE country = c.country\n",
    "              ) = 1 THEN 'Other'\n",
    "        ELSE c.country\n",
    "        END AS country,\n",
    "        c.customer_id,\n",
    "        i.*\n",
    "    FROM customer c\n",
    "    INNER JOIN invoice i ON c.customer_id = i.customer_id\n",
    "    )\n",
    "\n",
    "SELECT\n",
    "    country,\n",
    "    total_customers,\n",
    "    total_sales,\n",
    "    avg_value_per_costumer,\n",
    "    avg_order_value\n",
    "FROM\n",
    "    (\n",
    "    SELECT\n",
    "        country,\n",
    "        COUNT(DISTINCT customer_id) total_customers,\n",
    "        ROUND(SUM(total), 2) total_sales,\n",
    "        ROUND(SUM(total) / COUNT(DISTINCT customer_id), 2) avg_value_per_costumer,\n",
    "        ROUND(SUM(total) / COUNT(DISTINCT invoice_id), 2) avg_order_value,\n",
    "        CASE\n",
    "            WHEN country = 'Other' THEN 1\n",
    "            ELSE 0\n",
    "            END AS sort\n",
    "    FROM countries_orders\n",
    "    GROUP BY 1\n",
    "    ORDER BY sort ASC, total_sales DESC\n",
    "    );"
   ]
  },
  {
   "cell_type": "markdown",
   "metadata": {},
   "source": [
    "Of course the sample size here is not good enough, but if we have more data this query can provide some useful insights. For instance, not only we can visualize which countries are already a established market for the company, but we can have an ideia of which countries have more potencial to become a successful market.  For example, we can consider as promising markets countries that, although do not present a large amount of total sales, present high average values per costumer and per order.\n",
    "\n",
    "This kind of insights are surely helpful when a company needs to decide how much of its budget will be invested in each of the countries or even if one of them is not worthy any expenses at all.\n"
   ]
  },
  {
   "cell_type": "markdown",
   "metadata": {},
   "source": [
    "### Platform Content and Consumer Preferences\n",
    "\n",
    "We'll now investigate what kind of content the customers are more likely to purchase and what kind of ideas we can extract from this information.\n",
    "\n",
    "The first query we'll write in this section returns the top 10 most popular music genres in the United States. The genres are sorted by the absolute number of tracks sold, but we can also see the percentage of the tracks sold he belong to each genre."
   ]
  },
  {
   "cell_type": "code",
   "execution_count": 5,
   "metadata": {
    "scrolled": true
   },
   "outputs": [
    {
     "name": "stdout",
     "output_type": "stream",
     "text": [
      " * sqlite:///chinook.db\n",
      "Done.\n"
     ]
    },
    {
     "data": {
      "text/html": [
       "<table>\n",
       "    <tr>\n",
       "        <th>genre</th>\n",
       "        <th>tracks_sold</th>\n",
       "        <th>percentage_sold</th>\n",
       "    </tr>\n",
       "    <tr>\n",
       "        <td>Rock</td>\n",
       "        <td>2635</td>\n",
       "        <td>0.55</td>\n",
       "    </tr>\n",
       "    <tr>\n",
       "        <td>Metal</td>\n",
       "        <td>619</td>\n",
       "        <td>0.13</td>\n",
       "    </tr>\n",
       "    <tr>\n",
       "        <td>Alternative &amp; Punk</td>\n",
       "        <td>492</td>\n",
       "        <td>0.1</td>\n",
       "    </tr>\n",
       "    <tr>\n",
       "        <td>Latin</td>\n",
       "        <td>167</td>\n",
       "        <td>0.04</td>\n",
       "    </tr>\n",
       "    <tr>\n",
       "        <td>R&amp;B/Soul</td>\n",
       "        <td>159</td>\n",
       "        <td>0.03</td>\n",
       "    </tr>\n",
       "    <tr>\n",
       "        <td>Blues</td>\n",
       "        <td>124</td>\n",
       "        <td>0.03</td>\n",
       "    </tr>\n",
       "    <tr>\n",
       "        <td>Jazz</td>\n",
       "        <td>121</td>\n",
       "        <td>0.03</td>\n",
       "    </tr>\n",
       "    <tr>\n",
       "        <td>Alternative</td>\n",
       "        <td>117</td>\n",
       "        <td>0.02</td>\n",
       "    </tr>\n",
       "    <tr>\n",
       "        <td>Easy Listening</td>\n",
       "        <td>74</td>\n",
       "        <td>0.02</td>\n",
       "    </tr>\n",
       "    <tr>\n",
       "        <td>Pop</td>\n",
       "        <td>63</td>\n",
       "        <td>0.01</td>\n",
       "    </tr>\n",
       "</table>"
      ],
      "text/plain": [
       "[('Rock', 2635, 0.55),\n",
       " ('Metal', 619, 0.13),\n",
       " ('Alternative & Punk', 492, 0.1),\n",
       " ('Latin', 167, 0.04),\n",
       " ('R&B/Soul', 159, 0.03),\n",
       " ('Blues', 124, 0.03),\n",
       " ('Jazz', 121, 0.03),\n",
       " ('Alternative', 117, 0.02),\n",
       " ('Easy Listening', 74, 0.02),\n",
       " ('Pop', 63, 0.01)]"
      ]
     },
     "execution_count": 5,
     "metadata": {},
     "output_type": "execute_result"
    }
   ],
   "source": [
    "%%sql\n",
    "\n",
    "WITH all_tracks_purchased AS\n",
    "    (\n",
    "    SELECT\n",
    "        il.*\n",
    "    FROM invoice_line il\n",
    "    )\n",
    "        \n",
    "SELECT \n",
    "    g.name genre,\n",
    "    COUNT(atp.invoice_line_id) tracks_sold,\n",
    "    ROUND(CAST(COUNT(atp.invoice_line_id) AS FLOAT ) / ( SELECT COUNT(*) FROM all_tracks_purchased ), 2) percentage_sold\n",
    "FROM all_tracks_purchased atp\n",
    "INNER JOIN track t ON atp.track_id = t.track_id\n",
    "INNER JOIN genre g ON t.genre_id = g.genre_id\n",
    "GROUP BY 1 ORDER BY 2 DESC\n",
    "LIMIT 10"
   ]
  },
  {
   "cell_type": "markdown",
   "metadata": {},
   "source": [
    "In real life, this kind of information would be useful because if you know what your audience prefers, then you can add  more songs that belong to that genre to the platform, or even increase the advertisement on the genres that are not doing so well"
   ]
  },
  {
   "cell_type": "markdown",
   "metadata": {},
   "source": [
    "Another very useful information is the most purchased artists. That's what the next query will return."
   ]
  },
  {
   "cell_type": "code",
   "execution_count": 6,
   "metadata": {},
   "outputs": [
    {
     "name": "stdout",
     "output_type": "stream",
     "text": [
      " * sqlite:///chinook.db\n",
      "Done.\n"
     ]
    },
    {
     "data": {
      "text/html": [
       "<table>\n",
       "    <tr>\n",
       "        <th>name</th>\n",
       "        <th>number_of_tracks</th>\n",
       "    </tr>\n",
       "    <tr>\n",
       "        <td>Queen</td>\n",
       "        <td>192</td>\n",
       "    </tr>\n",
       "    <tr>\n",
       "        <td>Jimi Hendrix</td>\n",
       "        <td>187</td>\n",
       "    </tr>\n",
       "    <tr>\n",
       "        <td>Red Hot Chili Peppers</td>\n",
       "        <td>130</td>\n",
       "    </tr>\n",
       "    <tr>\n",
       "        <td>Nirvana</td>\n",
       "        <td>130</td>\n",
       "    </tr>\n",
       "    <tr>\n",
       "        <td>Pearl Jam</td>\n",
       "        <td>129</td>\n",
       "    </tr>\n",
       "    <tr>\n",
       "        <td>Guns N&#x27; Roses</td>\n",
       "        <td>124</td>\n",
       "    </tr>\n",
       "    <tr>\n",
       "        <td>AC/DC</td>\n",
       "        <td>124</td>\n",
       "    </tr>\n",
       "    <tr>\n",
       "        <td>Foo Fighters</td>\n",
       "        <td>121</td>\n",
       "    </tr>\n",
       "    <tr>\n",
       "        <td>The Rolling Stones</td>\n",
       "        <td>117</td>\n",
       "    </tr>\n",
       "    <tr>\n",
       "        <td>Metallica</td>\n",
       "        <td>106</td>\n",
       "    </tr>\n",
       "</table>"
      ],
      "text/plain": [
       "[('Queen', 192),\n",
       " ('Jimi Hendrix', 187),\n",
       " ('Red Hot Chili Peppers', 130),\n",
       " ('Nirvana', 130),\n",
       " ('Pearl Jam', 129),\n",
       " (\"Guns N' Roses\", 124),\n",
       " ('AC/DC', 124),\n",
       " ('Foo Fighters', 121),\n",
       " ('The Rolling Stones', 117),\n",
       " ('Metallica', 106)]"
      ]
     },
     "execution_count": 6,
     "metadata": {},
     "output_type": "execute_result"
    }
   ],
   "source": [
    "%%sql\n",
    "\n",
    "SELECT\n",
    "    a.name,\n",
    "    COUNT(il.track_id) number_of_tracks\n",
    "FROM artist a\n",
    "INNER JOIN album al ON a.artist_id = al.artist_id\n",
    "INNER JOIN track t ON al.album_id = t.album_id\n",
    "INNER JOIN invoice_line il ON t.track_id = il.track_id\n",
    "GROUP BY 1 ORDER BY 2 DESC\n",
    "LIMIT 10"
   ]
  },
  {
   "cell_type": "markdown",
   "metadata": {},
   "source": [
    "With the last two queries we can have a pretty good ideia of what kind of music the customers like most and use such information to define the company's marketing and tracks purchasing strategies, for example.\n",
    "\n",
    "We also can see how the number change in different locations in order to better adapt the estrategies to each country o even to each state.\n",
    "\n",
    "Let's see this same information, but now only for the customers living in the United States."
   ]
  },
  {
   "cell_type": "code",
   "execution_count": 7,
   "metadata": {
    "scrolled": true
   },
   "outputs": [
    {
     "name": "stdout",
     "output_type": "stream",
     "text": [
      " * sqlite:///chinook.db\n",
      "Done.\n"
     ]
    },
    {
     "data": {
      "text/html": [
       "<table>\n",
       "    <tr>\n",
       "        <th>genre</th>\n",
       "        <th>tracks_sold</th>\n",
       "        <th>percentage_sold</th>\n",
       "    </tr>\n",
       "    <tr>\n",
       "        <td>Rock</td>\n",
       "        <td>561</td>\n",
       "        <td>0.53</td>\n",
       "    </tr>\n",
       "    <tr>\n",
       "        <td>Alternative &amp; Punk</td>\n",
       "        <td>130</td>\n",
       "        <td>0.12</td>\n",
       "    </tr>\n",
       "    <tr>\n",
       "        <td>Metal</td>\n",
       "        <td>124</td>\n",
       "        <td>0.12</td>\n",
       "    </tr>\n",
       "    <tr>\n",
       "        <td>R&amp;B/Soul</td>\n",
       "        <td>53</td>\n",
       "        <td>0.05</td>\n",
       "    </tr>\n",
       "    <tr>\n",
       "        <td>Blues</td>\n",
       "        <td>36</td>\n",
       "        <td>0.03</td>\n",
       "    </tr>\n",
       "    <tr>\n",
       "        <td>Alternative</td>\n",
       "        <td>35</td>\n",
       "        <td>0.03</td>\n",
       "    </tr>\n",
       "    <tr>\n",
       "        <td>Pop</td>\n",
       "        <td>22</td>\n",
       "        <td>0.02</td>\n",
       "    </tr>\n",
       "    <tr>\n",
       "        <td>Latin</td>\n",
       "        <td>22</td>\n",
       "        <td>0.02</td>\n",
       "    </tr>\n",
       "    <tr>\n",
       "        <td>Hip Hop/Rap</td>\n",
       "        <td>20</td>\n",
       "        <td>0.02</td>\n",
       "    </tr>\n",
       "    <tr>\n",
       "        <td>Jazz</td>\n",
       "        <td>14</td>\n",
       "        <td>0.01</td>\n",
       "    </tr>\n",
       "</table>"
      ],
      "text/plain": [
       "[('Rock', 561, 0.53),\n",
       " ('Alternative & Punk', 130, 0.12),\n",
       " ('Metal', 124, 0.12),\n",
       " ('R&B/Soul', 53, 0.05),\n",
       " ('Blues', 36, 0.03),\n",
       " ('Alternative', 35, 0.03),\n",
       " ('Pop', 22, 0.02),\n",
       " ('Latin', 22, 0.02),\n",
       " ('Hip Hop/Rap', 20, 0.02),\n",
       " ('Jazz', 14, 0.01)]"
      ]
     },
     "execution_count": 7,
     "metadata": {},
     "output_type": "execute_result"
    }
   ],
   "source": [
    "%%sql\n",
    "\n",
    "WITH usa_tracks AS\n",
    "    (\n",
    "    SELECT\n",
    "        il.*\n",
    "    FROM invoice_line il\n",
    "    INNER JOIN invoice i ON il.invoice_id = i.invoice_id\n",
    "    INNER JOIN customer c ON  i.customer_id = c.customer_id\n",
    "    WHERE c.country = 'USA'\n",
    "    )\n",
    "        \n",
    "SELECT \n",
    "    g.name genre,\n",
    "    COUNT(ut.invoice_line_id) tracks_sold,\n",
    "    ROUND(CAST(COUNT(ut.invoice_line_id) AS FLOAT ) / ( SELECT COUNT(*) FROM usa_tracks ), 2) percentage_sold\n",
    "FROM usa_tracks ut\n",
    "INNER JOIN track t ON ut.track_id = t.track_id\n",
    "INNER JOIN genre g ON t.genre_id = g.genre_id\n",
    "GROUP BY 1 ORDER BY 2 DESC\n",
    "LIMIT 10"
   ]
  },
  {
   "cell_type": "code",
   "execution_count": 8,
   "metadata": {
    "scrolled": true
   },
   "outputs": [
    {
     "name": "stdout",
     "output_type": "stream",
     "text": [
      " * sqlite:///chinook.db\n",
      "Done.\n"
     ]
    },
    {
     "data": {
      "text/html": [
       "<table>\n",
       "    <tr>\n",
       "        <th>name</th>\n",
       "        <th>number_of_tracks</th>\n",
       "    </tr>\n",
       "    <tr>\n",
       "        <td>Van Halen</td>\n",
       "        <td>43</td>\n",
       "    </tr>\n",
       "    <tr>\n",
       "        <td>R.E.M.</td>\n",
       "        <td>38</td>\n",
       "    </tr>\n",
       "    <tr>\n",
       "        <td>The Rolling Stones</td>\n",
       "        <td>37</td>\n",
       "    </tr>\n",
       "    <tr>\n",
       "        <td>Nirvana</td>\n",
       "        <td>35</td>\n",
       "    </tr>\n",
       "    <tr>\n",
       "        <td>Foo Fighters</td>\n",
       "        <td>34</td>\n",
       "    </tr>\n",
       "    <tr>\n",
       "        <td>Eric Clapton</td>\n",
       "        <td>34</td>\n",
       "    </tr>\n",
       "    <tr>\n",
       "        <td>Guns N&#x27; Roses</td>\n",
       "        <td>32</td>\n",
       "    </tr>\n",
       "    <tr>\n",
       "        <td>Green Day</td>\n",
       "        <td>32</td>\n",
       "    </tr>\n",
       "    <tr>\n",
       "        <td>Pearl Jam</td>\n",
       "        <td>31</td>\n",
       "    </tr>\n",
       "    <tr>\n",
       "        <td>Amy Winehouse</td>\n",
       "        <td>30</td>\n",
       "    </tr>\n",
       "</table>"
      ],
      "text/plain": [
       "[('Van Halen', 43),\n",
       " ('R.E.M.', 38),\n",
       " ('The Rolling Stones', 37),\n",
       " ('Nirvana', 35),\n",
       " ('Foo Fighters', 34),\n",
       " ('Eric Clapton', 34),\n",
       " (\"Guns N' Roses\", 32),\n",
       " ('Green Day', 32),\n",
       " ('Pearl Jam', 31),\n",
       " ('Amy Winehouse', 30)]"
      ]
     },
     "execution_count": 8,
     "metadata": {},
     "output_type": "execute_result"
    }
   ],
   "source": [
    "%%sql\n",
    "\n",
    "SELECT\n",
    "    a.name,\n",
    "    COUNT(il.track_id) number_of_tracks\n",
    "FROM artist a\n",
    "INNER JOIN album al ON a.artist_id = al.artist_id\n",
    "INNER JOIN track t ON al.album_id = t.album_id\n",
    "INNER JOIN invoice_line il ON t.track_id = il.track_id\n",
    "INNER JOIN invoice i ON il.invoice_id = i.invoice_id\n",
    "INNER JOIN customer c ON i.customer_id = c.customer_id\n",
    "WHERE c.country = 'USA'\n",
    "GROUP BY 1 ORDER BY 2 DESC\n",
    "LIMIT 10"
   ]
  },
  {
   "cell_type": "markdown",
   "metadata": {},
   "source": [
    "We can see some small differences in the genre preferences and some considerable differences on artist preferences. As said, this can be used to optimize the company's strategies for each location."
   ]
  },
  {
   "cell_type": "markdown",
   "metadata": {},
   "source": [
    "As we're talking about strategies, let's see if the range of tracks in the store is reflective of their sales popularity. As we saw earlier, the top 10 most purchased genres are:\n",
    "\n",
    "|genre\t           | percentage_sold|\n",
    "|------------------|----------------|\n",
    "|Rock\t           |   \t        0.55|\n",
    "|Metal\t           |            0.13|\n",
    "|Alternative & Punk|   \t        0.10|\n",
    "|Latin\t           |            0.04|\n",
    "|R&B/Soul\t       |   \t        0.03|\n",
    "|Blues\t           |  \t        0.03|\n",
    "|Jazz\t           |  \t        0.03|\n",
    "|Alternative       |  \t        0.02|\n",
    "|Easy Listening\t   |            0.02|\n",
    "|Pop\t           |            0.01|\n",
    "\n",
    "Now, we'll write a query to see top 10 most common genres in the store and see if it matches the top 10 most purchased genres."
   ]
  },
  {
   "cell_type": "code",
   "execution_count": 9,
   "metadata": {
    "scrolled": true
   },
   "outputs": [
    {
     "name": "stdout",
     "output_type": "stream",
     "text": [
      " * sqlite:///chinook.db\n",
      "Done.\n"
     ]
    },
    {
     "data": {
      "text/html": [
       "<table>\n",
       "    <tr>\n",
       "        <th>genre</th>\n",
       "        <th>percentage_tracks</th>\n",
       "    </tr>\n",
       "    <tr>\n",
       "        <td>Rock</td>\n",
       "        <td>0.37</td>\n",
       "    </tr>\n",
       "    <tr>\n",
       "        <td>Latin</td>\n",
       "        <td>0.17</td>\n",
       "    </tr>\n",
       "    <tr>\n",
       "        <td>Metal</td>\n",
       "        <td>0.11</td>\n",
       "    </tr>\n",
       "    <tr>\n",
       "        <td>Alternative &amp; Punk</td>\n",
       "        <td>0.09</td>\n",
       "    </tr>\n",
       "    <tr>\n",
       "        <td>Jazz</td>\n",
       "        <td>0.04</td>\n",
       "    </tr>\n",
       "    <tr>\n",
       "        <td>TV Shows</td>\n",
       "        <td>0.03</td>\n",
       "    </tr>\n",
       "    <tr>\n",
       "        <td>Reggae</td>\n",
       "        <td>0.02</td>\n",
       "    </tr>\n",
       "    <tr>\n",
       "        <td>R&amp;B/Soul</td>\n",
       "        <td>0.02</td>\n",
       "    </tr>\n",
       "    <tr>\n",
       "        <td>Drama</td>\n",
       "        <td>0.02</td>\n",
       "    </tr>\n",
       "    <tr>\n",
       "        <td>Classical</td>\n",
       "        <td>0.02</td>\n",
       "    </tr>\n",
       "</table>"
      ],
      "text/plain": [
       "[('Rock', 0.37),\n",
       " ('Latin', 0.17),\n",
       " ('Metal', 0.11),\n",
       " ('Alternative & Punk', 0.09),\n",
       " ('Jazz', 0.04),\n",
       " ('TV Shows', 0.03),\n",
       " ('Reggae', 0.02),\n",
       " ('R&B/Soul', 0.02),\n",
       " ('Drama', 0.02),\n",
       " ('Classical', 0.02)]"
      ]
     },
     "execution_count": 9,
     "metadata": {},
     "output_type": "execute_result"
    }
   ],
   "source": [
    "%%sql\n",
    "WITH all_tracks AS\n",
    "    (\n",
    "    SELECT\n",
    "        t.*\n",
    "    FROM track t\n",
    "    )\n",
    "    \n",
    "\n",
    "SELECT\n",
    "    g.name genre,\n",
    "    ROUND(CAST(COUNT(t.track_id) AS FLOAT) / (SELECT COUNT(*) FROM all_tracks ), 2) percentage_tracks\n",
    "FROM all_tracks at\n",
    "INNER JOIN track t ON at.track_id = t.track_id\n",
    "INNER JOIN genre g ON t.genre_id = g.genre_id\n",
    "GROUP BY 1 ORDER BY 2 DESC\n",
    "LIMIT 10\n",
    "\n"
   ]
  },
  {
   "cell_type": "markdown",
   "metadata": {},
   "source": [
    "One insight we can take from this is abou the Latin genre. While this genre represents 17% of the musics available in the platform, it only represents 4% of the purchased tracks. With this information, Chinook can take some action to fix this. They could either promote the Latin music on the platform, or make the platform more friendly to Latin people (maybe with a Spanish version) or even reduce the amount of Latin music it buys from the recorders."
   ]
  },
  {
   "cell_type": "markdown",
   "metadata": {},
   "source": [
    "Let's keep working with the customers preferences. We'll investigate a little on the customers habits when making a purchase.\n",
    "\n",
    "The following query returns the percentage of purchases that are individual tracks and the percentage that are whole albums. For this job, we will identify whether each invoice has all the tracks from an album. We can accomplish this by getting all the of tracks from an invoice and comparing it to the tracks from an album."
   ]
  },
  {
   "cell_type": "code",
   "execution_count": 10,
   "metadata": {
    "scrolled": false
   },
   "outputs": [
    {
     "name": "stdout",
     "output_type": "stream",
     "text": [
      " * sqlite:///chinook.db\n",
      "Done.\n"
     ]
    },
    {
     "data": {
      "text/html": [
       "<table>\n",
       "    <tr>\n",
       "        <th>album_purchase</th>\n",
       "        <th>invoices</th>\n",
       "        <th>percent</th>\n",
       "    </tr>\n",
       "    <tr>\n",
       "        <td>no</td>\n",
       "        <td>500</td>\n",
       "        <td>0.8143322475570033</td>\n",
       "    </tr>\n",
       "    <tr>\n",
       "        <td>yes</td>\n",
       "        <td>114</td>\n",
       "        <td>0.18566775244299674</td>\n",
       "    </tr>\n",
       "</table>"
      ],
      "text/plain": [
       "[('no', 500, 0.8143322475570033), ('yes', 114, 0.18566775244299674)]"
      ]
     },
     "execution_count": 10,
     "metadata": {},
     "output_type": "execute_result"
    }
   ],
   "source": [
    "%%sql\n",
    "\n",
    "WITH invoice_first_track AS\n",
    "    (\n",
    "    SELECT\n",
    "        il.invoice_id invoice_id,\n",
    "        MIN(il.track_id) first_track_id\n",
    "    FROM invoice_line il\n",
    "    GROUP BY 1\n",
    "    )\n",
    "    \n",
    "SELECT \n",
    "    album_purchase,\n",
    "    COUNT(invoice_id) invoices,\n",
    "    CAST(COUNT(invoice_id) AS FLOAT) / (\n",
    "                                        SELECT COUNT (*) FROM invoice\n",
    "                                    ) percent\n",
    "FROM\n",
    "    (\n",
    "    SELECT \n",
    "        ift.*,\n",
    "        CASE\n",
    "            WHEN\n",
    "                (\n",
    "                SELECT t.track_id FROM track t\n",
    "                WHERE t.album_id = (\n",
    "                                    SELECT t2.album_id FROM track t2\n",
    "                                    WHERE t2.track_id = ift.first_track_id\n",
    "                                    )\n",
    "                    \n",
    "                EXCEPT\n",
    "                \n",
    "                SELECT il2.track_id FROM invoice_line il2\n",
    "                WHERE il2.invoice_id = ift.invoice_id\n",
    "                ) IS NULL\n",
    "            AND\n",
    "                (\n",
    "                SELECT il2.track_id FROM invoice_line il2\n",
    "                WHERE il2.invoice_id = ift.invoice_id\n",
    "                    \n",
    "                EXCEPT\n",
    "                    \n",
    "                SELECT t.track_id FROM track t\n",
    "                WHERE t.album_id = (\n",
    "                                    SELECT t2.album_id FROM track t2\n",
    "                                    WHERE t2.track_id = ift.first_track_id\n",
    "                                    )\n",
    "                ) IS NULL\n",
    "            THEN 'yes'\n",
    "            ELSE 'no'\n",
    "            END AS 'album_purchase'\n",
    "        FROM invoice_first_track ift\n",
    "    )\n",
    "GROUP BY album_purchase;"
   ]
  },
  {
   "cell_type": "markdown",
   "metadata": {},
   "source": [
    "We can see that a substancial part of the invoices correspond to entire albums, almost twenty per cent of them. If that was not the case, then maybe it would be worth to investigate if there's any songs that are never purchased and use this information to rethink the way Chinook buys the tracks from the recorders. Instead of buying full album, they could start to think about buying only the kind os song that are more likely to be purchased by the Chinook's customers."
   ]
  },
  {
   "cell_type": "markdown",
   "metadata": {},
   "source": [
    "As we approach the end of this project, we'll see how Chinook is handling the protected media. \n",
    "\n",
    "In the `media_type` table we can see the tracks are divided into five different types of media, as you can see with the query below."
   ]
  },
  {
   "cell_type": "code",
   "execution_count": 11,
   "metadata": {},
   "outputs": [
    {
     "name": "stdout",
     "output_type": "stream",
     "text": [
      " * sqlite:///chinook.db\n",
      "Done.\n"
     ]
    },
    {
     "data": {
      "text/html": [
       "<table>\n",
       "    <tr>\n",
       "        <th>media_type_id</th>\n",
       "        <th>name</th>\n",
       "    </tr>\n",
       "    <tr>\n",
       "        <td>1</td>\n",
       "        <td>MPEG audio file</td>\n",
       "    </tr>\n",
       "    <tr>\n",
       "        <td>2</td>\n",
       "        <td>Protected AAC audio file</td>\n",
       "    </tr>\n",
       "    <tr>\n",
       "        <td>3</td>\n",
       "        <td>Protected MPEG-4 video file</td>\n",
       "    </tr>\n",
       "    <tr>\n",
       "        <td>4</td>\n",
       "        <td>Purchased AAC audio file</td>\n",
       "    </tr>\n",
       "    <tr>\n",
       "        <td>5</td>\n",
       "        <td>AAC audio file</td>\n",
       "    </tr>\n",
       "</table>"
      ],
      "text/plain": [
       "[(1, 'MPEG audio file'),\n",
       " (2, 'Protected AAC audio file'),\n",
       " (3, 'Protected MPEG-4 video file'),\n",
       " (4, 'Purchased AAC audio file'),\n",
       " (5, 'AAC audio file')]"
      ]
     },
     "execution_count": 11,
     "metadata": {},
     "output_type": "execute_result"
    }
   ],
   "source": [
    "%%sql\n",
    "SELECT DISTINCT * FROM media_type"
   ]
  },
  {
   "cell_type": "markdown",
   "metadata": {},
   "source": [
    "What we want to check here is if the amount of protected media in the platform reflects the amount of protected media purchased by the costumers. First, let's see how many protected an unprotected files we have in the platform."
   ]
  },
  {
   "cell_type": "code",
   "execution_count": 12,
   "metadata": {},
   "outputs": [
    {
     "name": "stdout",
     "output_type": "stream",
     "text": [
      " * sqlite:///chinook.db\n",
      "Done.\n"
     ]
    },
    {
     "data": {
      "text/html": [
       "<table>\n",
       "    <tr>\n",
       "        <th>protected</th>\n",
       "        <th>tracks_available</th>\n",
       "        <th>percentage_available</th>\n",
       "    </tr>\n",
       "    <tr>\n",
       "        <td>no</td>\n",
       "        <td>3052</td>\n",
       "        <td>0.87</td>\n",
       "    </tr>\n",
       "    <tr>\n",
       "        <td>yes</td>\n",
       "        <td>451</td>\n",
       "        <td>0.13</td>\n",
       "    </tr>\n",
       "</table>"
      ],
      "text/plain": [
       "[('no', 3052, 0.87), ('yes', 451, 0.13)]"
      ]
     },
     "execution_count": 12,
     "metadata": {},
     "output_type": "execute_result"
    }
   ],
   "source": [
    "%%sql\n",
    "\n",
    "WITH all_tracks AS\n",
    "    (\n",
    "    SELECT\n",
    "        t.*\n",
    "    FROM track t\n",
    "    )\n",
    "    \n",
    "SELECT\n",
    "    CASE\n",
    "        WHEN mt.name LIKE \"Protected%\"\n",
    "        THEN 'yes'\n",
    "        ELSE 'no'\n",
    "        END AS protected,\n",
    "    COUNT(t.name) tracks_available,\n",
    "    ROUND(CAST(COUNT(t.name) AS FLOAT) / (SELECT COUNT(*) FROM all_tracks ), 2) percentage_available\n",
    "FROM all_tracks at\n",
    "INNER JOIN track t ON at.track_id = t.track_id\n",
    "INNER JOIN media_type mt ON t.media_type_id = mt.media_type_id\n",
    "GROUP BY 1"
   ]
  },
  {
   "cell_type": "markdown",
   "metadata": {},
   "source": [
    "And now how many protected an unprotected tracks were purchased."
   ]
  },
  {
   "cell_type": "code",
   "execution_count": 13,
   "metadata": {},
   "outputs": [
    {
     "name": "stdout",
     "output_type": "stream",
     "text": [
      " * sqlite:///chinook.db\n",
      "Done.\n"
     ]
    },
    {
     "data": {
      "text/html": [
       "<table>\n",
       "    <tr>\n",
       "        <th>protected</th>\n",
       "        <th>tracks_purchased</th>\n",
       "        <th>percentage_purchased</th>\n",
       "    </tr>\n",
       "    <tr>\n",
       "        <td>no</td>\n",
       "        <td>4315</td>\n",
       "        <td>0.91</td>\n",
       "    </tr>\n",
       "    <tr>\n",
       "        <td>yes</td>\n",
       "        <td>442</td>\n",
       "        <td>0.09</td>\n",
       "    </tr>\n",
       "</table>"
      ],
      "text/plain": [
       "[('no', 4315, 0.91), ('yes', 442, 0.09)]"
      ]
     },
     "execution_count": 13,
     "metadata": {},
     "output_type": "execute_result"
    }
   ],
   "source": [
    "%%sql\n",
    "\n",
    "WITH all_tracks_purchased AS\n",
    "    (\n",
    "    SELECT\n",
    "        il.*\n",
    "    FROM invoice_line il\n",
    "    )\n",
    "\n",
    "SELECT\n",
    "    CASE\n",
    "        WHEN mt.name LIKE \"Protected%\"\n",
    "        THEN 'yes'\n",
    "        ELSE 'no'\n",
    "        END AS protected,\n",
    "    COUNT(il.track_id) tracks_purchased,\n",
    "    ROUND(CAST(COUNT(il.track_id) AS FLOAT) / (SELECT COUNT(*) FROM all_tracks_purchased), 2) percentage_purchased\n",
    "FROM all_tracks_purchased atp\n",
    "INNER JOIN invoice_line il ON atp.invoice_line_id = il.invoice_line_id\n",
    "INNER JOIN track t ON il.track_id = t.track_id\n",
    "INNER JOIN media_type mt ON t.media_type_id = mt.media_type_id\n",
    "GROUP BY 1\n"
   ]
  },
  {
   "cell_type": "markdown",
   "metadata": {},
   "source": [
    "We can see that the numbers are pretty close here, so we can say that the amount of protected files available in the platform makes perfect sense."
   ]
  },
  {
   "cell_type": "markdown",
   "metadata": {},
   "source": [
    "## Conclusion\n",
    "\n",
    "As we reach the end of this project, we are now able to conclude the SQL is a very powerful solution to investigate larges amounts of data spread into different tables and extract important insights from it.\n",
    "\n",
    "Thank you for reading this and if you have any questions, suggestions of feedback feel free to contact me."
   ]
  }
 ],
 "metadata": {
  "kernelspec": {
   "display_name": "Python 3",
   "language": "python",
   "name": "python3"
  },
  "language_info": {
   "codemirror_mode": {
    "name": "ipython",
    "version": 3
   },
   "file_extension": ".py",
   "mimetype": "text/x-python",
   "name": "python",
   "nbconvert_exporter": "python",
   "pygments_lexer": "ipython3",
   "version": "3.7.4"
  },
  "varInspector": {
   "cols": {
    "lenName": 16,
    "lenType": 16,
    "lenVar": 40
   },
   "kernels_config": {
    "python": {
     "delete_cmd_postfix": "",
     "delete_cmd_prefix": "del ",
     "library": "var_list.py",
     "varRefreshCmd": "print(var_dic_list())"
    },
    "r": {
     "delete_cmd_postfix": ") ",
     "delete_cmd_prefix": "rm(",
     "library": "var_list.r",
     "varRefreshCmd": "cat(var_dic_list()) "
    }
   },
   "types_to_exclude": [
    "module",
    "function",
    "builtin_function_or_method",
    "instance",
    "_Feature"
   ],
   "window_display": false
  }
 },
 "nbformat": 4,
 "nbformat_minor": 2
}
